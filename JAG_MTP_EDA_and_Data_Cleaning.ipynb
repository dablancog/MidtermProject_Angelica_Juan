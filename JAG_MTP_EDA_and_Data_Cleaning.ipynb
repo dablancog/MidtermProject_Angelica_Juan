{
 "cells": [
  {
   "cell_type": "markdown",
   "id": "2a4b225b",
   "metadata": {},
   "source": [
    "# Sleep Efficiency Dataset\n",
    "\n",
    "### EDA and Data Cleaning\n",
    "\n"
   ]
  },
  {
   "cell_type": "code",
   "execution_count": 2,
   "id": "806486bd",
   "metadata": {},
   "outputs": [],
   "source": [
    "# Loading packages that we need\n",
    "import numpy as np\n",
    "import pandas as pd\n",
    "import matplotlib.pyplot as plt\n",
    "import seaborn as sns\n",
    "%matplotlib inline\n",
    "from sklearn.preprocessing import PowerTransformer, StandardScaler, minmax_scale\n",
    "from sklearn.model_selection import train_test_split\n",
    "from sklearn.linear_model import LinearRegression\n",
    "import statsmodels.api as sm\n",
    "from sklearn.metrics import r2_score\n",
    "from sklearn.metrics import mean_squared_error as mse\n",
    "from sklearn.metrics import mean_absolute_error as mae"
   ]
  },
  {
   "cell_type": "markdown",
   "id": "ec63a4ec",
   "metadata": {},
   "source": [
    "### Loading & Analyzing the data"
   ]
  },
  {
   "cell_type": "code",
   "execution_count": 3,
   "id": "ec954418",
   "metadata": {},
   "outputs": [
    {
     "data": {
      "text/html": [
       "<div>\n",
       "<style scoped>\n",
       "    .dataframe tbody tr th:only-of-type {\n",
       "        vertical-align: middle;\n",
       "    }\n",
       "\n",
       "    .dataframe tbody tr th {\n",
       "        vertical-align: top;\n",
       "    }\n",
       "\n",
       "    .dataframe thead th {\n",
       "        text-align: right;\n",
       "    }\n",
       "</style>\n",
       "<table border=\"1\" class=\"dataframe\">\n",
       "  <thead>\n",
       "    <tr style=\"text-align: right;\">\n",
       "      <th></th>\n",
       "      <th>ID</th>\n",
       "      <th>Age</th>\n",
       "      <th>Gender</th>\n",
       "      <th>Bedtime</th>\n",
       "      <th>Wakeup time</th>\n",
       "      <th>Sleep duration</th>\n",
       "      <th>Sleep efficiency</th>\n",
       "      <th>REM sleep percentage</th>\n",
       "      <th>Deep sleep percentage</th>\n",
       "      <th>Light sleep percentage</th>\n",
       "      <th>Awakenings</th>\n",
       "      <th>Caffeine consumption</th>\n",
       "      <th>Alcohol consumption</th>\n",
       "      <th>Smoking status</th>\n",
       "      <th>Exercise frequency</th>\n",
       "    </tr>\n",
       "  </thead>\n",
       "  <tbody>\n",
       "    <tr>\n",
       "      <th>0</th>\n",
       "      <td>1</td>\n",
       "      <td>65</td>\n",
       "      <td>Female</td>\n",
       "      <td>2021-03-06 01:00:00</td>\n",
       "      <td>2021-03-06 07:00:00</td>\n",
       "      <td>6.0</td>\n",
       "      <td>0.88</td>\n",
       "      <td>18</td>\n",
       "      <td>70</td>\n",
       "      <td>12</td>\n",
       "      <td>0.0</td>\n",
       "      <td>0.0</td>\n",
       "      <td>0.0</td>\n",
       "      <td>Yes</td>\n",
       "      <td>3.0</td>\n",
       "    </tr>\n",
       "    <tr>\n",
       "      <th>1</th>\n",
       "      <td>2</td>\n",
       "      <td>69</td>\n",
       "      <td>Male</td>\n",
       "      <td>2021-12-05 02:00:00</td>\n",
       "      <td>2021-12-05 09:00:00</td>\n",
       "      <td>7.0</td>\n",
       "      <td>0.66</td>\n",
       "      <td>19</td>\n",
       "      <td>28</td>\n",
       "      <td>53</td>\n",
       "      <td>3.0</td>\n",
       "      <td>0.0</td>\n",
       "      <td>3.0</td>\n",
       "      <td>Yes</td>\n",
       "      <td>3.0</td>\n",
       "    </tr>\n",
       "    <tr>\n",
       "      <th>2</th>\n",
       "      <td>3</td>\n",
       "      <td>40</td>\n",
       "      <td>Female</td>\n",
       "      <td>2021-05-25 21:30:00</td>\n",
       "      <td>2021-05-25 05:30:00</td>\n",
       "      <td>8.0</td>\n",
       "      <td>0.89</td>\n",
       "      <td>20</td>\n",
       "      <td>70</td>\n",
       "      <td>10</td>\n",
       "      <td>1.0</td>\n",
       "      <td>0.0</td>\n",
       "      <td>0.0</td>\n",
       "      <td>No</td>\n",
       "      <td>3.0</td>\n",
       "    </tr>\n",
       "  </tbody>\n",
       "</table>\n",
       "</div>"
      ],
      "text/plain": [
       "   ID  Age  Gender              Bedtime          Wakeup time  Sleep duration  \\\n",
       "0   1   65  Female  2021-03-06 01:00:00  2021-03-06 07:00:00             6.0   \n",
       "1   2   69    Male  2021-12-05 02:00:00  2021-12-05 09:00:00             7.0   \n",
       "2   3   40  Female  2021-05-25 21:30:00  2021-05-25 05:30:00             8.0   \n",
       "\n",
       "   Sleep efficiency  REM sleep percentage  Deep sleep percentage  \\\n",
       "0              0.88                    18                     70   \n",
       "1              0.66                    19                     28   \n",
       "2              0.89                    20                     70   \n",
       "\n",
       "   Light sleep percentage  Awakenings  Caffeine consumption  \\\n",
       "0                      12         0.0                   0.0   \n",
       "1                      53         3.0                   0.0   \n",
       "2                      10         1.0                   0.0   \n",
       "\n",
       "   Alcohol consumption Smoking status  Exercise frequency  \n",
       "0                  0.0            Yes                 3.0  \n",
       "1                  3.0            Yes                 3.0  \n",
       "2                  0.0             No                 3.0  "
      ]
     },
     "execution_count": 3,
     "metadata": {},
     "output_type": "execute_result"
    }
   ],
   "source": [
    "# Loading data\n",
    "sleepy_df = pd.read_csv('Sleep_Efficiency.csv')\n",
    "sleepy_df.head(3)"
   ]
  },
  {
   "cell_type": "code",
   "execution_count": 4,
   "id": "792d1fab",
   "metadata": {},
   "outputs": [
    {
     "data": {
      "text/plain": [
       "Index(['ID', 'Age', 'Gender', 'Bedtime', 'Wakeup time', 'Sleep duration',\n",
       "       'Sleep efficiency', 'REM sleep percentage', 'Deep sleep percentage',\n",
       "       'Light sleep percentage', 'Awakenings', 'Caffeine consumption',\n",
       "       'Alcohol consumption', 'Smoking status', 'Exercise frequency'],\n",
       "      dtype='object')"
      ]
     },
     "execution_count": 4,
     "metadata": {},
     "output_type": "execute_result"
    }
   ],
   "source": [
    "# Analyzing the columns\n",
    "sleepy_df.columns.unique()"
   ]
  },
  {
   "cell_type": "code",
   "execution_count": 5,
   "id": "fb6cb272",
   "metadata": {
    "scrolled": true
   },
   "outputs": [
    {
     "name": "stdout",
     "output_type": "stream",
     "text": [
      "<class 'pandas.core.frame.DataFrame'>\n",
      "RangeIndex: 452 entries, 0 to 451\n",
      "Data columns (total 15 columns):\n",
      " #   Column                  Non-Null Count  Dtype  \n",
      "---  ------                  --------------  -----  \n",
      " 0   ID                      452 non-null    int64  \n",
      " 1   Age                     452 non-null    int64  \n",
      " 2   Gender                  452 non-null    object \n",
      " 3   Bedtime                 452 non-null    object \n",
      " 4   Wakeup time             452 non-null    object \n",
      " 5   Sleep duration          452 non-null    float64\n",
      " 6   Sleep efficiency        452 non-null    float64\n",
      " 7   REM sleep percentage    452 non-null    int64  \n",
      " 8   Deep sleep percentage   452 non-null    int64  \n",
      " 9   Light sleep percentage  452 non-null    int64  \n",
      " 10  Awakenings              432 non-null    float64\n",
      " 11  Caffeine consumption    427 non-null    float64\n",
      " 12  Alcohol consumption     438 non-null    float64\n",
      " 13  Smoking status          452 non-null    object \n",
      " 14  Exercise frequency      446 non-null    float64\n",
      "dtypes: float64(6), int64(5), object(4)\n",
      "memory usage: 53.1+ KB\n"
     ]
    }
   ],
   "source": [
    "# Analyzing the data type and number of NaNs\n",
    "sleepy_df.info()"
   ]
  },
  {
   "cell_type": "code",
   "execution_count": 6,
   "id": "853311e7",
   "metadata": {},
   "outputs": [
    {
     "name": "stdout",
     "output_type": "stream",
     "text": [
      "ID                         0\n",
      "Age                        0\n",
      "Gender                     0\n",
      "Bedtime                    0\n",
      "Wakeup time                0\n",
      "Sleep duration             0\n",
      "Sleep efficiency           0\n",
      "REM sleep percentage       0\n",
      "Deep sleep percentage      0\n",
      "Light sleep percentage     0\n",
      "Awakenings                20\n",
      "Caffeine consumption      25\n",
      "Alcohol consumption       14\n",
      "Smoking status             0\n",
      "Exercise frequency         6\n",
      "dtype: int64\n"
     ]
    }
   ],
   "source": [
    "nancount = sleepy_df.isna().sum()\n",
    "print(nancount)"
   ]
  },
  {
   "cell_type": "code",
   "execution_count": 7,
   "id": "197aa4c2",
   "metadata": {},
   "outputs": [
    {
     "name": "stdout",
     "output_type": "stream",
     "text": [
      "0\n"
     ]
    }
   ],
   "source": [
    "# How many duplicates are present\n",
    "print(sleepy_df.duplicated().sum())"
   ]
  },
  {
   "cell_type": "markdown",
   "id": "84e68412",
   "metadata": {},
   "source": [
    "### Uniforming the columns"
   ]
  },
  {
   "cell_type": "code",
   "execution_count": 8,
   "id": "251ea217",
   "metadata": {},
   "outputs": [],
   "source": [
    "#Lower case all the columns\n",
    "def lower_case_column_names():\n",
    "    sleepy_df.columns=[i.lower() for i in sleepy_df.columns]\n",
    "    return sleepy_df"
   ]
  },
  {
   "cell_type": "code",
   "execution_count": 9,
   "id": "9700dfcc",
   "metadata": {},
   "outputs": [],
   "source": [
    "sleepy_df = lower_case_column_names()"
   ]
  },
  {
   "cell_type": "code",
   "execution_count": 10,
   "id": "f95d53ef",
   "metadata": {},
   "outputs": [
    {
     "data": {
      "text/html": [
       "<div>\n",
       "<style scoped>\n",
       "    .dataframe tbody tr th:only-of-type {\n",
       "        vertical-align: middle;\n",
       "    }\n",
       "\n",
       "    .dataframe tbody tr th {\n",
       "        vertical-align: top;\n",
       "    }\n",
       "\n",
       "    .dataframe thead th {\n",
       "        text-align: right;\n",
       "    }\n",
       "</style>\n",
       "<table border=\"1\" class=\"dataframe\">\n",
       "  <thead>\n",
       "    <tr style=\"text-align: right;\">\n",
       "      <th></th>\n",
       "      <th>id</th>\n",
       "      <th>age</th>\n",
       "      <th>gender</th>\n",
       "      <th>bedtime</th>\n",
       "      <th>wakeup_time</th>\n",
       "      <th>sleep_duration</th>\n",
       "      <th>sleep_efficiency</th>\n",
       "      <th>rem_sleep_percentage</th>\n",
       "      <th>deep_sleep_percentage</th>\n",
       "      <th>light_sleep_percentage</th>\n",
       "      <th>awakenings</th>\n",
       "      <th>caffeine_consumption</th>\n",
       "      <th>alcohol_consumption</th>\n",
       "      <th>smoking_status</th>\n",
       "      <th>exercise_frequency</th>\n",
       "    </tr>\n",
       "  </thead>\n",
       "  <tbody>\n",
       "    <tr>\n",
       "      <th>0</th>\n",
       "      <td>1</td>\n",
       "      <td>65</td>\n",
       "      <td>Female</td>\n",
       "      <td>2021-03-06 01:00:00</td>\n",
       "      <td>2021-03-06 07:00:00</td>\n",
       "      <td>6.0</td>\n",
       "      <td>0.88</td>\n",
       "      <td>18</td>\n",
       "      <td>70</td>\n",
       "      <td>12</td>\n",
       "      <td>0.0</td>\n",
       "      <td>0.0</td>\n",
       "      <td>0.0</td>\n",
       "      <td>Yes</td>\n",
       "      <td>3.0</td>\n",
       "    </tr>\n",
       "    <tr>\n",
       "      <th>1</th>\n",
       "      <td>2</td>\n",
       "      <td>69</td>\n",
       "      <td>Male</td>\n",
       "      <td>2021-12-05 02:00:00</td>\n",
       "      <td>2021-12-05 09:00:00</td>\n",
       "      <td>7.0</td>\n",
       "      <td>0.66</td>\n",
       "      <td>19</td>\n",
       "      <td>28</td>\n",
       "      <td>53</td>\n",
       "      <td>3.0</td>\n",
       "      <td>0.0</td>\n",
       "      <td>3.0</td>\n",
       "      <td>Yes</td>\n",
       "      <td>3.0</td>\n",
       "    </tr>\n",
       "    <tr>\n",
       "      <th>2</th>\n",
       "      <td>3</td>\n",
       "      <td>40</td>\n",
       "      <td>Female</td>\n",
       "      <td>2021-05-25 21:30:00</td>\n",
       "      <td>2021-05-25 05:30:00</td>\n",
       "      <td>8.0</td>\n",
       "      <td>0.89</td>\n",
       "      <td>20</td>\n",
       "      <td>70</td>\n",
       "      <td>10</td>\n",
       "      <td>1.0</td>\n",
       "      <td>0.0</td>\n",
       "      <td>0.0</td>\n",
       "      <td>No</td>\n",
       "      <td>3.0</td>\n",
       "    </tr>\n",
       "  </tbody>\n",
       "</table>\n",
       "</div>"
      ],
      "text/plain": [
       "   id  age  gender              bedtime          wakeup_time  sleep_duration  \\\n",
       "0   1   65  Female  2021-03-06 01:00:00  2021-03-06 07:00:00             6.0   \n",
       "1   2   69    Male  2021-12-05 02:00:00  2021-12-05 09:00:00             7.0   \n",
       "2   3   40  Female  2021-05-25 21:30:00  2021-05-25 05:30:00             8.0   \n",
       "\n",
       "   sleep_efficiency  rem_sleep_percentage  deep_sleep_percentage  \\\n",
       "0              0.88                    18                     70   \n",
       "1              0.66                    19                     28   \n",
       "2              0.89                    20                     70   \n",
       "\n",
       "   light_sleep_percentage  awakenings  caffeine_consumption  \\\n",
       "0                      12         0.0                   0.0   \n",
       "1                      53         3.0                   0.0   \n",
       "2                      10         1.0                   0.0   \n",
       "\n",
       "   alcohol_consumption smoking_status  exercise_frequency  \n",
       "0                  0.0            Yes                 3.0  \n",
       "1                  3.0            Yes                 3.0  \n",
       "2                  0.0             No                 3.0  "
      ]
     },
     "execution_count": 10,
     "metadata": {},
     "output_type": "execute_result"
    }
   ],
   "source": [
    "# Renaming the columns with underscores \n",
    "def rename_columns(sleepy_df):\n",
    "    sleepy_df.rename(columns={'wakeup time':'wakeup_time', 'sleep duration':'sleep_duration',\n",
    "                              'sleep efficiency':'sleep_efficiency', 'rem sleep percentage':'rem_sleep_percentage',\n",
    "                             'deep sleep percentage':'deep_sleep_percentage','light sleep percentage':'light_sleep_percentage',\n",
    "                             'caffeine consumption':'caffeine_consumption', 'alcohol consumption':'alcohol_consumption',\n",
    "                             'smoking status':'smoking_status','exercise frequency':'exercise_frequency'}, inplace=True )\n",
    "    return sleepy_df\n",
    "sleepy_df=rename_columns(sleepy_df)\n",
    "\n",
    "sleepy_df.head(3)"
   ]
  },
  {
   "cell_type": "code",
   "execution_count": 11,
   "id": "b8eb0779",
   "metadata": {},
   "outputs": [
    {
     "data": {
      "text/plain": [
       "array(['Female', 'Male'], dtype=object)"
      ]
     },
     "execution_count": 11,
     "metadata": {},
     "output_type": "execute_result"
    }
   ],
   "source": [
    "# Checking for typos in text columns\n",
    "sleepy_df['gender'].unique()"
   ]
  },
  {
   "cell_type": "code",
   "execution_count": 12,
   "id": "618cc264",
   "metadata": {},
   "outputs": [
    {
     "data": {
      "text/plain": [
       "array(['Yes', 'No'], dtype=object)"
      ]
     },
     "execution_count": 12,
     "metadata": {},
     "output_type": "execute_result"
    }
   ],
   "source": [
    "sleepy_df['smoking_status'].unique()"
   ]
  },
  {
   "cell_type": "code",
   "execution_count": 13,
   "id": "d0e462a5",
   "metadata": {},
   "outputs": [],
   "source": [
    "# Calculating the mean of every column, which contains NaNs. \n",
    "# These values will be later used for substituting the NaNs with the respective mean of the respective column\n",
    "\n",
    "def mean_without_nans(sleepy_df, column_name):\n",
    "\n",
    "# Get the column as a pandas Series\n",
    "    column = sleepy_df[column_name]\n",
    "    \n",
    "# Initialize a sum (=total) and a count\n",
    "    total = 0\n",
    "    count = 0\n",
    "    \n",
    "# Loop over the values in the column\n",
    "    for value in column.values:\n",
    "        if pd.notnull(value):\n",
    "            total += value\n",
    "            count += 1\n",
    "    \n",
    "# Return the mean of the non-NaN values\n",
    "    return total / count if count != 0 else float(\"nan\")\n"
   ]
  },
  {
   "cell_type": "code",
   "execution_count": 14,
   "id": "b7caf340",
   "metadata": {},
   "outputs": [
    {
     "name": "stdout",
     "output_type": "stream",
     "text": [
      "mean_awakenings:  1.6412037037037037 mean_caffeine_consumption:  23.653395784543324 mean_alcohol_consumption:  1.17351598173516 mean_exercise_frequency:  1.7914798206278026\n"
     ]
    }
   ],
   "source": [
    "# Call the mean_without_nans function on column with nans\n",
    "mean_awakenings = mean_without_nans(sleepy_df, 'awakenings')\n",
    "mean_caffeine_consumption = mean_without_nans(sleepy_df, 'caffeine_consumption')\n",
    "mean_alcohol_consumption = mean_without_nans(sleepy_df, 'alcohol_consumption')\n",
    "mean_exercise_frequency = mean_without_nans(sleepy_df, 'exercise_frequency')\n",
    "print ('mean_awakenings: ', mean_awakenings, \\\n",
    "      'mean_caffeine_consumption: ', mean_caffeine_consumption, \\\n",
    "      'mean_alcohol_consumption: ', mean_alcohol_consumption, \\\n",
    "      'mean_exercise_frequency: ', mean_exercise_frequency)"
   ]
  },
  {
   "cell_type": "code",
   "execution_count": 15,
   "id": "e1bacd6c",
   "metadata": {},
   "outputs": [],
   "source": [
    "# Fill nans with the mean. We asume the person consumes an average amount of coffe & alcohol, plus they have \n",
    "# an average amount of sport-time and awakenings during the night.\n",
    "\n",
    "sleepy_df['awakenings'] = sleepy_df[['awakenings']].fillna(mean_awakenings) #imputation "
   ]
  },
  {
   "cell_type": "code",
   "execution_count": 16,
   "id": "af95be7b",
   "metadata": {},
   "outputs": [
    {
     "data": {
      "text/plain": [
       "array([0.       , 3.       , 1.       , 2.       , 4.       , 1.6412037])"
      ]
     },
     "execution_count": 16,
     "metadata": {},
     "output_type": "execute_result"
    }
   ],
   "source": [
    "# Controling if the values are being replaced\n",
    "sleepy_df['awakenings'].unique()"
   ]
  },
  {
   "cell_type": "code",
   "execution_count": 17,
   "id": "7bd7c68c",
   "metadata": {},
   "outputs": [],
   "source": [
    "sleepy_df['caffeine_consumption'] = sleepy_df[['caffeine_consumption']].fillna(mean_caffeine_consumption)"
   ]
  },
  {
   "cell_type": "code",
   "execution_count": 18,
   "id": "fc3232ae",
   "metadata": {},
   "outputs": [
    {
     "data": {
      "text/plain": [
       "array([  0.        ,  50.        ,  23.65339578,  25.        ,\n",
       "        75.        , 200.        , 100.        ])"
      ]
     },
     "execution_count": 18,
     "metadata": {},
     "output_type": "execute_result"
    }
   ],
   "source": [
    "sleepy_df['caffeine_consumption'].unique()"
   ]
  },
  {
   "cell_type": "code",
   "execution_count": 19,
   "id": "be29da8e",
   "metadata": {},
   "outputs": [],
   "source": [
    "sleepy_df['alcohol_consumption'] = sleepy_df[['alcohol_consumption']].fillna(mean_alcohol_consumption)"
   ]
  },
  {
   "cell_type": "code",
   "execution_count": 20,
   "id": "a6619269",
   "metadata": {},
   "outputs": [
    {
     "data": {
      "text/plain": [
       "array([0.        , 3.        , 5.        , 1.        , 2.        ,\n",
       "       1.17351598, 4.        ])"
      ]
     },
     "execution_count": 20,
     "metadata": {},
     "output_type": "execute_result"
    }
   ],
   "source": [
    "sleepy_df['alcohol_consumption'].unique()"
   ]
  },
  {
   "cell_type": "code",
   "execution_count": 21,
   "id": "ed9cd950",
   "metadata": {},
   "outputs": [],
   "source": [
    "sleepy_df['exercise_frequency'] = sleepy_df[['exercise_frequency']].fillna(mean_exercise_frequency)"
   ]
  },
  {
   "cell_type": "code",
   "execution_count": 22,
   "id": "578b3302",
   "metadata": {},
   "outputs": [
    {
     "data": {
      "text/plain": [
       "array([3.        , 1.        , 0.        , 5.        , 2.        ,\n",
       "       4.        , 1.79147982])"
      ]
     },
     "execution_count": 22,
     "metadata": {},
     "output_type": "execute_result"
    }
   ],
   "source": [
    "sleepy_df['exercise_frequency'].unique()"
   ]
  },
  {
   "cell_type": "markdown",
   "id": "fcb9c5f4",
   "metadata": {},
   "source": [
    "<b/> Change data-type for time-stamps and Bin them"
   ]
  },
  {
   "cell_type": "code",
   "execution_count": 23,
   "id": "741ddd81",
   "metadata": {},
   "outputs": [],
   "source": [
    "# Split the 'bedtime' column into date and time columns\n",
    "sleepy_df[['bedtime_date', 'bedtime_time']] = sleepy_df['bedtime'].str.split(' ', 1, expand=True)"
   ]
  },
  {
   "cell_type": "code",
   "execution_count": 24,
   "id": "f23ed29f",
   "metadata": {},
   "outputs": [],
   "source": [
    "# Drop the original 'bedtime' column\n",
    "sleepy_df.drop('bedtime', axis=1, inplace=True)"
   ]
  },
  {
   "cell_type": "code",
   "execution_count": 25,
   "id": "7e268f87",
   "metadata": {},
   "outputs": [],
   "source": [
    "# Split the 'wakeup' column into date and time columns\n",
    "sleepy_df[['wakeup_time_date', 'wakeup_time_time']] = sleepy_df['wakeup_time'].str.split(' ', 1, expand=True)"
   ]
  },
  {
   "cell_type": "code",
   "execution_count": 26,
   "id": "c9a8012b",
   "metadata": {},
   "outputs": [],
   "source": [
    "# Drop the original 'wakeup_time' column\n",
    "sleepy_df.drop('wakeup_time', axis=1, inplace=True)"
   ]
  },
  {
   "cell_type": "markdown",
   "id": "38674e41",
   "metadata": {},
   "source": [
    "<b/> Mantain the month, of date columns. For this research we do not need the year or day"
   ]
  },
  {
   "cell_type": "code",
   "execution_count": 27,
   "id": "6f37fd21",
   "metadata": {},
   "outputs": [
    {
     "data": {
      "text/plain": [
       "0      2021-03-06\n",
       "1      2021-12-05\n",
       "2      2021-05-25\n",
       "3      2021-11-03\n",
       "4      2021-03-13\n",
       "          ...    \n",
       "447    2021-11-13\n",
       "448    2021-03-31\n",
       "449    2021-09-07\n",
       "450    2021-07-29\n",
       "451    2021-03-17\n",
       "Name: bedtime_date, Length: 452, dtype: object"
      ]
     },
     "execution_count": 27,
     "metadata": {},
     "output_type": "execute_result"
    }
   ],
   "source": [
    "sleepy_df['bedtime_date']"
   ]
  },
  {
   "cell_type": "code",
   "execution_count": 28,
   "id": "7066fcc9",
   "metadata": {},
   "outputs": [],
   "source": [
    "sleepy_df['bedtime_date'] = pd.to_datetime(sleepy_df['bedtime_date'])"
   ]
  },
  {
   "cell_type": "code",
   "execution_count": 29,
   "id": "ec34fbd9",
   "metadata": {},
   "outputs": [],
   "source": [
    "sleepy_df['month'] = sleepy_df['bedtime_date'].dt.month"
   ]
  },
  {
   "cell_type": "code",
   "execution_count": 30,
   "id": "64c68e94",
   "metadata": {},
   "outputs": [],
   "source": [
    "# Drop 'bedtime_date' & 'wakeup_time_date'\n",
    "sleepy_df.drop('bedtime_date', axis=1, inplace=True)"
   ]
  },
  {
   "cell_type": "code",
   "execution_count": 31,
   "id": "2ce56f57",
   "metadata": {},
   "outputs": [],
   "source": [
    "sleepy_df.drop('wakeup_time_date', axis=1, inplace=True)"
   ]
  },
  {
   "cell_type": "code",
   "execution_count": 32,
   "id": "ad9c687d",
   "metadata": {},
   "outputs": [
    {
     "name": "stdout",
     "output_type": "stream",
     "text": [
      "<class 'pandas.core.frame.DataFrame'>\n",
      "RangeIndex: 452 entries, 0 to 451\n",
      "Data columns (total 16 columns):\n",
      " #   Column                  Non-Null Count  Dtype  \n",
      "---  ------                  --------------  -----  \n",
      " 0   id                      452 non-null    int64  \n",
      " 1   age                     452 non-null    int64  \n",
      " 2   gender                  452 non-null    object \n",
      " 3   sleep_duration          452 non-null    float64\n",
      " 4   sleep_efficiency        452 non-null    float64\n",
      " 5   rem_sleep_percentage    452 non-null    int64  \n",
      " 6   deep_sleep_percentage   452 non-null    int64  \n",
      " 7   light_sleep_percentage  452 non-null    int64  \n",
      " 8   awakenings              452 non-null    float64\n",
      " 9   caffeine_consumption    452 non-null    float64\n",
      " 10  alcohol_consumption     452 non-null    float64\n",
      " 11  smoking_status          452 non-null    object \n",
      " 12  exercise_frequency      452 non-null    float64\n",
      " 13  bedtime_time            452 non-null    object \n",
      " 14  wakeup_time_time        452 non-null    object \n",
      " 15  month                   452 non-null    int64  \n",
      "dtypes: float64(6), int64(6), object(4)\n",
      "memory usage: 56.6+ KB\n"
     ]
    }
   ],
   "source": [
    "sleepy_df.info()"
   ]
  },
  {
   "cell_type": "markdown",
   "id": "f591531c",
   "metadata": {},
   "source": [
    "<b/>Dummies"
   ]
  },
  {
   "cell_type": "code",
   "execution_count": 33,
   "id": "6d486860",
   "metadata": {},
   "outputs": [
    {
     "data": {
      "text/html": [
       "<div>\n",
       "<style scoped>\n",
       "    .dataframe tbody tr th:only-of-type {\n",
       "        vertical-align: middle;\n",
       "    }\n",
       "\n",
       "    .dataframe tbody tr th {\n",
       "        vertical-align: top;\n",
       "    }\n",
       "\n",
       "    .dataframe thead th {\n",
       "        text-align: right;\n",
       "    }\n",
       "</style>\n",
       "<table border=\"1\" class=\"dataframe\">\n",
       "  <thead>\n",
       "    <tr style=\"text-align: right;\">\n",
       "      <th></th>\n",
       "      <th>id</th>\n",
       "      <th>age</th>\n",
       "      <th>sleep_duration</th>\n",
       "      <th>sleep_efficiency</th>\n",
       "      <th>rem_sleep_percentage</th>\n",
       "      <th>deep_sleep_percentage</th>\n",
       "      <th>light_sleep_percentage</th>\n",
       "      <th>awakenings</th>\n",
       "      <th>caffeine_consumption</th>\n",
       "      <th>alcohol_consumption</th>\n",
       "      <th>exercise_frequency</th>\n",
       "      <th>bedtime_time</th>\n",
       "      <th>wakeup_time_time</th>\n",
       "      <th>month</th>\n",
       "      <th>gender_Male</th>\n",
       "      <th>smoking_status_Yes</th>\n",
       "    </tr>\n",
       "  </thead>\n",
       "  <tbody>\n",
       "    <tr>\n",
       "      <th>0</th>\n",
       "      <td>1</td>\n",
       "      <td>65</td>\n",
       "      <td>6.0</td>\n",
       "      <td>0.88</td>\n",
       "      <td>18</td>\n",
       "      <td>70</td>\n",
       "      <td>12</td>\n",
       "      <td>0.0</td>\n",
       "      <td>0.000000</td>\n",
       "      <td>0.0</td>\n",
       "      <td>3.0</td>\n",
       "      <td>01:00:00</td>\n",
       "      <td>07:00:00</td>\n",
       "      <td>3</td>\n",
       "      <td>0</td>\n",
       "      <td>1</td>\n",
       "    </tr>\n",
       "    <tr>\n",
       "      <th>1</th>\n",
       "      <td>2</td>\n",
       "      <td>69</td>\n",
       "      <td>7.0</td>\n",
       "      <td>0.66</td>\n",
       "      <td>19</td>\n",
       "      <td>28</td>\n",
       "      <td>53</td>\n",
       "      <td>3.0</td>\n",
       "      <td>0.000000</td>\n",
       "      <td>3.0</td>\n",
       "      <td>3.0</td>\n",
       "      <td>02:00:00</td>\n",
       "      <td>09:00:00</td>\n",
       "      <td>12</td>\n",
       "      <td>1</td>\n",
       "      <td>1</td>\n",
       "    </tr>\n",
       "    <tr>\n",
       "      <th>2</th>\n",
       "      <td>3</td>\n",
       "      <td>40</td>\n",
       "      <td>8.0</td>\n",
       "      <td>0.89</td>\n",
       "      <td>20</td>\n",
       "      <td>70</td>\n",
       "      <td>10</td>\n",
       "      <td>1.0</td>\n",
       "      <td>0.000000</td>\n",
       "      <td>0.0</td>\n",
       "      <td>3.0</td>\n",
       "      <td>21:30:00</td>\n",
       "      <td>05:30:00</td>\n",
       "      <td>5</td>\n",
       "      <td>0</td>\n",
       "      <td>0</td>\n",
       "    </tr>\n",
       "    <tr>\n",
       "      <th>3</th>\n",
       "      <td>4</td>\n",
       "      <td>40</td>\n",
       "      <td>6.0</td>\n",
       "      <td>0.51</td>\n",
       "      <td>23</td>\n",
       "      <td>25</td>\n",
       "      <td>52</td>\n",
       "      <td>3.0</td>\n",
       "      <td>50.000000</td>\n",
       "      <td>5.0</td>\n",
       "      <td>1.0</td>\n",
       "      <td>02:30:00</td>\n",
       "      <td>08:30:00</td>\n",
       "      <td>11</td>\n",
       "      <td>0</td>\n",
       "      <td>1</td>\n",
       "    </tr>\n",
       "    <tr>\n",
       "      <th>4</th>\n",
       "      <td>5</td>\n",
       "      <td>57</td>\n",
       "      <td>8.0</td>\n",
       "      <td>0.76</td>\n",
       "      <td>27</td>\n",
       "      <td>55</td>\n",
       "      <td>18</td>\n",
       "      <td>3.0</td>\n",
       "      <td>0.000000</td>\n",
       "      <td>3.0</td>\n",
       "      <td>3.0</td>\n",
       "      <td>01:00:00</td>\n",
       "      <td>09:00:00</td>\n",
       "      <td>3</td>\n",
       "      <td>1</td>\n",
       "      <td>0</td>\n",
       "    </tr>\n",
       "    <tr>\n",
       "      <th>...</th>\n",
       "      <td>...</td>\n",
       "      <td>...</td>\n",
       "      <td>...</td>\n",
       "      <td>...</td>\n",
       "      <td>...</td>\n",
       "      <td>...</td>\n",
       "      <td>...</td>\n",
       "      <td>...</td>\n",
       "      <td>...</td>\n",
       "      <td>...</td>\n",
       "      <td>...</td>\n",
       "      <td>...</td>\n",
       "      <td>...</td>\n",
       "      <td>...</td>\n",
       "      <td>...</td>\n",
       "      <td>...</td>\n",
       "    </tr>\n",
       "    <tr>\n",
       "      <th>447</th>\n",
       "      <td>448</td>\n",
       "      <td>27</td>\n",
       "      <td>7.5</td>\n",
       "      <td>0.91</td>\n",
       "      <td>22</td>\n",
       "      <td>57</td>\n",
       "      <td>21</td>\n",
       "      <td>0.0</td>\n",
       "      <td>0.000000</td>\n",
       "      <td>0.0</td>\n",
       "      <td>5.0</td>\n",
       "      <td>22:00:00</td>\n",
       "      <td>05:30:00</td>\n",
       "      <td>11</td>\n",
       "      <td>0</td>\n",
       "      <td>0</td>\n",
       "    </tr>\n",
       "    <tr>\n",
       "      <th>448</th>\n",
       "      <td>449</td>\n",
       "      <td>52</td>\n",
       "      <td>6.0</td>\n",
       "      <td>0.74</td>\n",
       "      <td>28</td>\n",
       "      <td>57</td>\n",
       "      <td>15</td>\n",
       "      <td>4.0</td>\n",
       "      <td>25.000000</td>\n",
       "      <td>0.0</td>\n",
       "      <td>3.0</td>\n",
       "      <td>21:00:00</td>\n",
       "      <td>03:00:00</td>\n",
       "      <td>3</td>\n",
       "      <td>1</td>\n",
       "      <td>0</td>\n",
       "    </tr>\n",
       "    <tr>\n",
       "      <th>449</th>\n",
       "      <td>450</td>\n",
       "      <td>40</td>\n",
       "      <td>8.5</td>\n",
       "      <td>0.55</td>\n",
       "      <td>20</td>\n",
       "      <td>32</td>\n",
       "      <td>48</td>\n",
       "      <td>1.0</td>\n",
       "      <td>23.653396</td>\n",
       "      <td>3.0</td>\n",
       "      <td>0.0</td>\n",
       "      <td>23:00:00</td>\n",
       "      <td>07:30:00</td>\n",
       "      <td>9</td>\n",
       "      <td>0</td>\n",
       "      <td>1</td>\n",
       "    </tr>\n",
       "    <tr>\n",
       "      <th>450</th>\n",
       "      <td>451</td>\n",
       "      <td>45</td>\n",
       "      <td>7.0</td>\n",
       "      <td>0.76</td>\n",
       "      <td>18</td>\n",
       "      <td>72</td>\n",
       "      <td>10</td>\n",
       "      <td>3.0</td>\n",
       "      <td>0.000000</td>\n",
       "      <td>0.0</td>\n",
       "      <td>3.0</td>\n",
       "      <td>21:00:00</td>\n",
       "      <td>04:00:00</td>\n",
       "      <td>7</td>\n",
       "      <td>1</td>\n",
       "      <td>0</td>\n",
       "    </tr>\n",
       "    <tr>\n",
       "      <th>451</th>\n",
       "      <td>452</td>\n",
       "      <td>18</td>\n",
       "      <td>7.5</td>\n",
       "      <td>0.63</td>\n",
       "      <td>22</td>\n",
       "      <td>23</td>\n",
       "      <td>55</td>\n",
       "      <td>1.0</td>\n",
       "      <td>50.000000</td>\n",
       "      <td>0.0</td>\n",
       "      <td>1.0</td>\n",
       "      <td>02:30:00</td>\n",
       "      <td>10:00:00</td>\n",
       "      <td>3</td>\n",
       "      <td>1</td>\n",
       "      <td>0</td>\n",
       "    </tr>\n",
       "  </tbody>\n",
       "</table>\n",
       "<p>452 rows × 16 columns</p>\n",
       "</div>"
      ],
      "text/plain": [
       "      id  age  sleep_duration  sleep_efficiency  rem_sleep_percentage  \\\n",
       "0      1   65             6.0              0.88                    18   \n",
       "1      2   69             7.0              0.66                    19   \n",
       "2      3   40             8.0              0.89                    20   \n",
       "3      4   40             6.0              0.51                    23   \n",
       "4      5   57             8.0              0.76                    27   \n",
       "..   ...  ...             ...               ...                   ...   \n",
       "447  448   27             7.5              0.91                    22   \n",
       "448  449   52             6.0              0.74                    28   \n",
       "449  450   40             8.5              0.55                    20   \n",
       "450  451   45             7.0              0.76                    18   \n",
       "451  452   18             7.5              0.63                    22   \n",
       "\n",
       "     deep_sleep_percentage  light_sleep_percentage  awakenings  \\\n",
       "0                       70                      12         0.0   \n",
       "1                       28                      53         3.0   \n",
       "2                       70                      10         1.0   \n",
       "3                       25                      52         3.0   \n",
       "4                       55                      18         3.0   \n",
       "..                     ...                     ...         ...   \n",
       "447                     57                      21         0.0   \n",
       "448                     57                      15         4.0   \n",
       "449                     32                      48         1.0   \n",
       "450                     72                      10         3.0   \n",
       "451                     23                      55         1.0   \n",
       "\n",
       "     caffeine_consumption  alcohol_consumption  exercise_frequency  \\\n",
       "0                0.000000                  0.0                 3.0   \n",
       "1                0.000000                  3.0                 3.0   \n",
       "2                0.000000                  0.0                 3.0   \n",
       "3               50.000000                  5.0                 1.0   \n",
       "4                0.000000                  3.0                 3.0   \n",
       "..                    ...                  ...                 ...   \n",
       "447              0.000000                  0.0                 5.0   \n",
       "448             25.000000                  0.0                 3.0   \n",
       "449             23.653396                  3.0                 0.0   \n",
       "450              0.000000                  0.0                 3.0   \n",
       "451             50.000000                  0.0                 1.0   \n",
       "\n",
       "    bedtime_time wakeup_time_time  month  gender_Male  smoking_status_Yes  \n",
       "0       01:00:00         07:00:00      3            0                   1  \n",
       "1       02:00:00         09:00:00     12            1                   1  \n",
       "2       21:30:00         05:30:00      5            0                   0  \n",
       "3       02:30:00         08:30:00     11            0                   1  \n",
       "4       01:00:00         09:00:00      3            1                   0  \n",
       "..           ...              ...    ...          ...                 ...  \n",
       "447     22:00:00         05:30:00     11            0                   0  \n",
       "448     21:00:00         03:00:00      3            1                   0  \n",
       "449     23:00:00         07:30:00      9            0                   1  \n",
       "450     21:00:00         04:00:00      7            1                   0  \n",
       "451     02:30:00         10:00:00      3            1                   0  \n",
       "\n",
       "[452 rows x 16 columns]"
      ]
     },
     "execution_count": 33,
     "metadata": {},
     "output_type": "execute_result"
    }
   ],
   "source": [
    "# converting nominal values\n",
    "sleepy_df = pd.get_dummies(sleepy_df, columns=['gender', 'smoking_status',], drop_first=True)\n",
    "sleepy_df"
   ]
  },
  {
   "cell_type": "code",
   "execution_count": 34,
   "id": "ff52b686",
   "metadata": {},
   "outputs": [
    {
     "name": "stdout",
     "output_type": "stream",
     "text": [
      "<class 'pandas.core.frame.DataFrame'>\n",
      "RangeIndex: 452 entries, 0 to 451\n",
      "Data columns (total 16 columns):\n",
      " #   Column                  Non-Null Count  Dtype  \n",
      "---  ------                  --------------  -----  \n",
      " 0   id                      452 non-null    int64  \n",
      " 1   age                     452 non-null    int64  \n",
      " 2   sleep_duration          452 non-null    float64\n",
      " 3   sleep_efficiency        452 non-null    float64\n",
      " 4   rem_sleep_percentage    452 non-null    int64  \n",
      " 5   deep_sleep_percentage   452 non-null    int64  \n",
      " 6   light_sleep_percentage  452 non-null    int64  \n",
      " 7   awakenings              452 non-null    float64\n",
      " 8   caffeine_consumption    452 non-null    float64\n",
      " 9   alcohol_consumption     452 non-null    float64\n",
      " 10  exercise_frequency      452 non-null    float64\n",
      " 11  bedtime_time            452 non-null    object \n",
      " 12  wakeup_time_time        452 non-null    object \n",
      " 13  month                   452 non-null    int64  \n",
      " 14  gender_Male             452 non-null    uint8  \n",
      " 15  smoking_status_Yes      452 non-null    uint8  \n",
      "dtypes: float64(6), int64(6), object(2), uint8(2)\n",
      "memory usage: 50.4+ KB\n"
     ]
    }
   ],
   "source": [
    "sleepy_df.info()"
   ]
  },
  {
   "cell_type": "markdown",
   "id": "ef603057",
   "metadata": {},
   "source": [
    "<b/> Convert the time-data type into float, for the model"
   ]
  },
  {
   "cell_type": "code",
   "execution_count": 35,
   "id": "3573d8dd",
   "metadata": {},
   "outputs": [
    {
     "data": {
      "text/html": [
       "<div>\n",
       "<style scoped>\n",
       "    .dataframe tbody tr th:only-of-type {\n",
       "        vertical-align: middle;\n",
       "    }\n",
       "\n",
       "    .dataframe tbody tr th {\n",
       "        vertical-align: top;\n",
       "    }\n",
       "\n",
       "    .dataframe thead th {\n",
       "        text-align: right;\n",
       "    }\n",
       "</style>\n",
       "<table border=\"1\" class=\"dataframe\">\n",
       "  <thead>\n",
       "    <tr style=\"text-align: right;\">\n",
       "      <th></th>\n",
       "      <th>id</th>\n",
       "      <th>age</th>\n",
       "      <th>sleep_duration</th>\n",
       "      <th>sleep_efficiency</th>\n",
       "      <th>rem_sleep_percentage</th>\n",
       "      <th>deep_sleep_percentage</th>\n",
       "      <th>light_sleep_percentage</th>\n",
       "      <th>awakenings</th>\n",
       "      <th>caffeine_consumption</th>\n",
       "      <th>alcohol_consumption</th>\n",
       "      <th>exercise_frequency</th>\n",
       "      <th>wakeup_time_time</th>\n",
       "      <th>month</th>\n",
       "      <th>gender_Male</th>\n",
       "      <th>smoking_status_Yes</th>\n",
       "      <th>bedtime_hours</th>\n",
       "    </tr>\n",
       "  </thead>\n",
       "  <tbody>\n",
       "    <tr>\n",
       "      <th>0</th>\n",
       "      <td>1</td>\n",
       "      <td>65</td>\n",
       "      <td>6.0</td>\n",
       "      <td>0.88</td>\n",
       "      <td>18</td>\n",
       "      <td>70</td>\n",
       "      <td>12</td>\n",
       "      <td>0.0</td>\n",
       "      <td>0.000000</td>\n",
       "      <td>0.0</td>\n",
       "      <td>3.0</td>\n",
       "      <td>07:00:00</td>\n",
       "      <td>3</td>\n",
       "      <td>0</td>\n",
       "      <td>1</td>\n",
       "      <td>1.0</td>\n",
       "    </tr>\n",
       "    <tr>\n",
       "      <th>1</th>\n",
       "      <td>2</td>\n",
       "      <td>69</td>\n",
       "      <td>7.0</td>\n",
       "      <td>0.66</td>\n",
       "      <td>19</td>\n",
       "      <td>28</td>\n",
       "      <td>53</td>\n",
       "      <td>3.0</td>\n",
       "      <td>0.000000</td>\n",
       "      <td>3.0</td>\n",
       "      <td>3.0</td>\n",
       "      <td>09:00:00</td>\n",
       "      <td>12</td>\n",
       "      <td>1</td>\n",
       "      <td>1</td>\n",
       "      <td>2.0</td>\n",
       "    </tr>\n",
       "    <tr>\n",
       "      <th>2</th>\n",
       "      <td>3</td>\n",
       "      <td>40</td>\n",
       "      <td>8.0</td>\n",
       "      <td>0.89</td>\n",
       "      <td>20</td>\n",
       "      <td>70</td>\n",
       "      <td>10</td>\n",
       "      <td>1.0</td>\n",
       "      <td>0.000000</td>\n",
       "      <td>0.0</td>\n",
       "      <td>3.0</td>\n",
       "      <td>05:30:00</td>\n",
       "      <td>5</td>\n",
       "      <td>0</td>\n",
       "      <td>0</td>\n",
       "      <td>21.5</td>\n",
       "    </tr>\n",
       "    <tr>\n",
       "      <th>3</th>\n",
       "      <td>4</td>\n",
       "      <td>40</td>\n",
       "      <td>6.0</td>\n",
       "      <td>0.51</td>\n",
       "      <td>23</td>\n",
       "      <td>25</td>\n",
       "      <td>52</td>\n",
       "      <td>3.0</td>\n",
       "      <td>50.000000</td>\n",
       "      <td>5.0</td>\n",
       "      <td>1.0</td>\n",
       "      <td>08:30:00</td>\n",
       "      <td>11</td>\n",
       "      <td>0</td>\n",
       "      <td>1</td>\n",
       "      <td>2.5</td>\n",
       "    </tr>\n",
       "    <tr>\n",
       "      <th>4</th>\n",
       "      <td>5</td>\n",
       "      <td>57</td>\n",
       "      <td>8.0</td>\n",
       "      <td>0.76</td>\n",
       "      <td>27</td>\n",
       "      <td>55</td>\n",
       "      <td>18</td>\n",
       "      <td>3.0</td>\n",
       "      <td>0.000000</td>\n",
       "      <td>3.0</td>\n",
       "      <td>3.0</td>\n",
       "      <td>09:00:00</td>\n",
       "      <td>3</td>\n",
       "      <td>1</td>\n",
       "      <td>0</td>\n",
       "      <td>1.0</td>\n",
       "    </tr>\n",
       "    <tr>\n",
       "      <th>...</th>\n",
       "      <td>...</td>\n",
       "      <td>...</td>\n",
       "      <td>...</td>\n",
       "      <td>...</td>\n",
       "      <td>...</td>\n",
       "      <td>...</td>\n",
       "      <td>...</td>\n",
       "      <td>...</td>\n",
       "      <td>...</td>\n",
       "      <td>...</td>\n",
       "      <td>...</td>\n",
       "      <td>...</td>\n",
       "      <td>...</td>\n",
       "      <td>...</td>\n",
       "      <td>...</td>\n",
       "      <td>...</td>\n",
       "    </tr>\n",
       "    <tr>\n",
       "      <th>447</th>\n",
       "      <td>448</td>\n",
       "      <td>27</td>\n",
       "      <td>7.5</td>\n",
       "      <td>0.91</td>\n",
       "      <td>22</td>\n",
       "      <td>57</td>\n",
       "      <td>21</td>\n",
       "      <td>0.0</td>\n",
       "      <td>0.000000</td>\n",
       "      <td>0.0</td>\n",
       "      <td>5.0</td>\n",
       "      <td>05:30:00</td>\n",
       "      <td>11</td>\n",
       "      <td>0</td>\n",
       "      <td>0</td>\n",
       "      <td>22.0</td>\n",
       "    </tr>\n",
       "    <tr>\n",
       "      <th>448</th>\n",
       "      <td>449</td>\n",
       "      <td>52</td>\n",
       "      <td>6.0</td>\n",
       "      <td>0.74</td>\n",
       "      <td>28</td>\n",
       "      <td>57</td>\n",
       "      <td>15</td>\n",
       "      <td>4.0</td>\n",
       "      <td>25.000000</td>\n",
       "      <td>0.0</td>\n",
       "      <td>3.0</td>\n",
       "      <td>03:00:00</td>\n",
       "      <td>3</td>\n",
       "      <td>1</td>\n",
       "      <td>0</td>\n",
       "      <td>21.0</td>\n",
       "    </tr>\n",
       "    <tr>\n",
       "      <th>449</th>\n",
       "      <td>450</td>\n",
       "      <td>40</td>\n",
       "      <td>8.5</td>\n",
       "      <td>0.55</td>\n",
       "      <td>20</td>\n",
       "      <td>32</td>\n",
       "      <td>48</td>\n",
       "      <td>1.0</td>\n",
       "      <td>23.653396</td>\n",
       "      <td>3.0</td>\n",
       "      <td>0.0</td>\n",
       "      <td>07:30:00</td>\n",
       "      <td>9</td>\n",
       "      <td>0</td>\n",
       "      <td>1</td>\n",
       "      <td>23.0</td>\n",
       "    </tr>\n",
       "    <tr>\n",
       "      <th>450</th>\n",
       "      <td>451</td>\n",
       "      <td>45</td>\n",
       "      <td>7.0</td>\n",
       "      <td>0.76</td>\n",
       "      <td>18</td>\n",
       "      <td>72</td>\n",
       "      <td>10</td>\n",
       "      <td>3.0</td>\n",
       "      <td>0.000000</td>\n",
       "      <td>0.0</td>\n",
       "      <td>3.0</td>\n",
       "      <td>04:00:00</td>\n",
       "      <td>7</td>\n",
       "      <td>1</td>\n",
       "      <td>0</td>\n",
       "      <td>21.0</td>\n",
       "    </tr>\n",
       "    <tr>\n",
       "      <th>451</th>\n",
       "      <td>452</td>\n",
       "      <td>18</td>\n",
       "      <td>7.5</td>\n",
       "      <td>0.63</td>\n",
       "      <td>22</td>\n",
       "      <td>23</td>\n",
       "      <td>55</td>\n",
       "      <td>1.0</td>\n",
       "      <td>50.000000</td>\n",
       "      <td>0.0</td>\n",
       "      <td>1.0</td>\n",
       "      <td>10:00:00</td>\n",
       "      <td>3</td>\n",
       "      <td>1</td>\n",
       "      <td>0</td>\n",
       "      <td>2.5</td>\n",
       "    </tr>\n",
       "  </tbody>\n",
       "</table>\n",
       "<p>452 rows × 16 columns</p>\n",
       "</div>"
      ],
      "text/plain": [
       "      id  age  sleep_duration  sleep_efficiency  rem_sleep_percentage  \\\n",
       "0      1   65             6.0              0.88                    18   \n",
       "1      2   69             7.0              0.66                    19   \n",
       "2      3   40             8.0              0.89                    20   \n",
       "3      4   40             6.0              0.51                    23   \n",
       "4      5   57             8.0              0.76                    27   \n",
       "..   ...  ...             ...               ...                   ...   \n",
       "447  448   27             7.5              0.91                    22   \n",
       "448  449   52             6.0              0.74                    28   \n",
       "449  450   40             8.5              0.55                    20   \n",
       "450  451   45             7.0              0.76                    18   \n",
       "451  452   18             7.5              0.63                    22   \n",
       "\n",
       "     deep_sleep_percentage  light_sleep_percentage  awakenings  \\\n",
       "0                       70                      12         0.0   \n",
       "1                       28                      53         3.0   \n",
       "2                       70                      10         1.0   \n",
       "3                       25                      52         3.0   \n",
       "4                       55                      18         3.0   \n",
       "..                     ...                     ...         ...   \n",
       "447                     57                      21         0.0   \n",
       "448                     57                      15         4.0   \n",
       "449                     32                      48         1.0   \n",
       "450                     72                      10         3.0   \n",
       "451                     23                      55         1.0   \n",
       "\n",
       "     caffeine_consumption  alcohol_consumption  exercise_frequency  \\\n",
       "0                0.000000                  0.0                 3.0   \n",
       "1                0.000000                  3.0                 3.0   \n",
       "2                0.000000                  0.0                 3.0   \n",
       "3               50.000000                  5.0                 1.0   \n",
       "4                0.000000                  3.0                 3.0   \n",
       "..                    ...                  ...                 ...   \n",
       "447              0.000000                  0.0                 5.0   \n",
       "448             25.000000                  0.0                 3.0   \n",
       "449             23.653396                  3.0                 0.0   \n",
       "450              0.000000                  0.0                 3.0   \n",
       "451             50.000000                  0.0                 1.0   \n",
       "\n",
       "    wakeup_time_time  month  gender_Male  smoking_status_Yes  bedtime_hours  \n",
       "0           07:00:00      3            0                   1            1.0  \n",
       "1           09:00:00     12            1                   1            2.0  \n",
       "2           05:30:00      5            0                   0           21.5  \n",
       "3           08:30:00     11            0                   1            2.5  \n",
       "4           09:00:00      3            1                   0            1.0  \n",
       "..               ...    ...          ...                 ...            ...  \n",
       "447         05:30:00     11            0                   0           22.0  \n",
       "448         03:00:00      3            1                   0           21.0  \n",
       "449         07:30:00      9            0                   1           23.0  \n",
       "450         04:00:00      7            1                   0           21.0  \n",
       "451         10:00:00      3            1                   0            2.5  \n",
       "\n",
       "[452 rows x 16 columns]"
      ]
     },
     "execution_count": 35,
     "metadata": {},
     "output_type": "execute_result"
    }
   ],
   "source": [
    "# Converting the time into hours - integers for bedtime_time\n",
    "\n",
    "# Convert the time column to datetime data type\n",
    "sleepy_df['bedtime_time'] = pd.to_datetime(sleepy_df['bedtime_time'], format='%H:%M:%S')\n",
    "\n",
    "# Extract the hour, minute, and second components\n",
    "sleepy_df['hour'] = sleepy_df['bedtime_time'].dt.hour\n",
    "sleepy_df['minute'] = sleepy_df['bedtime_time'].dt.minute\n",
    "sleepy_df['second'] = sleepy_df['bedtime_time'].dt.second\n",
    "\n",
    "# Convert the time to hours as a float\n",
    "sleepy_df['bedtime_hours'] = (sleepy_df['hour'] + sleepy_df['minute'] / 60 + sleepy_df['second'] / 3600).round(2)\n",
    "\n",
    "sleepy_df = sleepy_df.drop(columns= ['hour','minute','second','bedtime_time'])\n",
    "sleepy_df"
   ]
  },
  {
   "cell_type": "code",
   "execution_count": 36,
   "id": "359a0b60",
   "metadata": {},
   "outputs": [
    {
     "data": {
      "text/html": [
       "<div>\n",
       "<style scoped>\n",
       "    .dataframe tbody tr th:only-of-type {\n",
       "        vertical-align: middle;\n",
       "    }\n",
       "\n",
       "    .dataframe tbody tr th {\n",
       "        vertical-align: top;\n",
       "    }\n",
       "\n",
       "    .dataframe thead th {\n",
       "        text-align: right;\n",
       "    }\n",
       "</style>\n",
       "<table border=\"1\" class=\"dataframe\">\n",
       "  <thead>\n",
       "    <tr style=\"text-align: right;\">\n",
       "      <th></th>\n",
       "      <th>id</th>\n",
       "      <th>age</th>\n",
       "      <th>sleep_duration</th>\n",
       "      <th>sleep_efficiency</th>\n",
       "      <th>rem_sleep_percentage</th>\n",
       "      <th>deep_sleep_percentage</th>\n",
       "      <th>light_sleep_percentage</th>\n",
       "      <th>awakenings</th>\n",
       "      <th>caffeine_consumption</th>\n",
       "      <th>alcohol_consumption</th>\n",
       "      <th>exercise_frequency</th>\n",
       "      <th>month</th>\n",
       "      <th>gender_Male</th>\n",
       "      <th>smoking_status_Yes</th>\n",
       "      <th>bedtime_hours</th>\n",
       "      <th>wakeup_time_hours</th>\n",
       "    </tr>\n",
       "  </thead>\n",
       "  <tbody>\n",
       "    <tr>\n",
       "      <th>0</th>\n",
       "      <td>1</td>\n",
       "      <td>65</td>\n",
       "      <td>6.0</td>\n",
       "      <td>0.88</td>\n",
       "      <td>18</td>\n",
       "      <td>70</td>\n",
       "      <td>12</td>\n",
       "      <td>0.0</td>\n",
       "      <td>0.000000</td>\n",
       "      <td>0.0</td>\n",
       "      <td>3.0</td>\n",
       "      <td>3</td>\n",
       "      <td>0</td>\n",
       "      <td>1</td>\n",
       "      <td>1.0</td>\n",
       "      <td>7.0</td>\n",
       "    </tr>\n",
       "    <tr>\n",
       "      <th>1</th>\n",
       "      <td>2</td>\n",
       "      <td>69</td>\n",
       "      <td>7.0</td>\n",
       "      <td>0.66</td>\n",
       "      <td>19</td>\n",
       "      <td>28</td>\n",
       "      <td>53</td>\n",
       "      <td>3.0</td>\n",
       "      <td>0.000000</td>\n",
       "      <td>3.0</td>\n",
       "      <td>3.0</td>\n",
       "      <td>12</td>\n",
       "      <td>1</td>\n",
       "      <td>1</td>\n",
       "      <td>2.0</td>\n",
       "      <td>9.0</td>\n",
       "    </tr>\n",
       "    <tr>\n",
       "      <th>2</th>\n",
       "      <td>3</td>\n",
       "      <td>40</td>\n",
       "      <td>8.0</td>\n",
       "      <td>0.89</td>\n",
       "      <td>20</td>\n",
       "      <td>70</td>\n",
       "      <td>10</td>\n",
       "      <td>1.0</td>\n",
       "      <td>0.000000</td>\n",
       "      <td>0.0</td>\n",
       "      <td>3.0</td>\n",
       "      <td>5</td>\n",
       "      <td>0</td>\n",
       "      <td>0</td>\n",
       "      <td>21.5</td>\n",
       "      <td>5.5</td>\n",
       "    </tr>\n",
       "    <tr>\n",
       "      <th>3</th>\n",
       "      <td>4</td>\n",
       "      <td>40</td>\n",
       "      <td>6.0</td>\n",
       "      <td>0.51</td>\n",
       "      <td>23</td>\n",
       "      <td>25</td>\n",
       "      <td>52</td>\n",
       "      <td>3.0</td>\n",
       "      <td>50.000000</td>\n",
       "      <td>5.0</td>\n",
       "      <td>1.0</td>\n",
       "      <td>11</td>\n",
       "      <td>0</td>\n",
       "      <td>1</td>\n",
       "      <td>2.5</td>\n",
       "      <td>8.5</td>\n",
       "    </tr>\n",
       "    <tr>\n",
       "      <th>4</th>\n",
       "      <td>5</td>\n",
       "      <td>57</td>\n",
       "      <td>8.0</td>\n",
       "      <td>0.76</td>\n",
       "      <td>27</td>\n",
       "      <td>55</td>\n",
       "      <td>18</td>\n",
       "      <td>3.0</td>\n",
       "      <td>0.000000</td>\n",
       "      <td>3.0</td>\n",
       "      <td>3.0</td>\n",
       "      <td>3</td>\n",
       "      <td>1</td>\n",
       "      <td>0</td>\n",
       "      <td>1.0</td>\n",
       "      <td>9.0</td>\n",
       "    </tr>\n",
       "    <tr>\n",
       "      <th>...</th>\n",
       "      <td>...</td>\n",
       "      <td>...</td>\n",
       "      <td>...</td>\n",
       "      <td>...</td>\n",
       "      <td>...</td>\n",
       "      <td>...</td>\n",
       "      <td>...</td>\n",
       "      <td>...</td>\n",
       "      <td>...</td>\n",
       "      <td>...</td>\n",
       "      <td>...</td>\n",
       "      <td>...</td>\n",
       "      <td>...</td>\n",
       "      <td>...</td>\n",
       "      <td>...</td>\n",
       "      <td>...</td>\n",
       "    </tr>\n",
       "    <tr>\n",
       "      <th>447</th>\n",
       "      <td>448</td>\n",
       "      <td>27</td>\n",
       "      <td>7.5</td>\n",
       "      <td>0.91</td>\n",
       "      <td>22</td>\n",
       "      <td>57</td>\n",
       "      <td>21</td>\n",
       "      <td>0.0</td>\n",
       "      <td>0.000000</td>\n",
       "      <td>0.0</td>\n",
       "      <td>5.0</td>\n",
       "      <td>11</td>\n",
       "      <td>0</td>\n",
       "      <td>0</td>\n",
       "      <td>22.0</td>\n",
       "      <td>5.5</td>\n",
       "    </tr>\n",
       "    <tr>\n",
       "      <th>448</th>\n",
       "      <td>449</td>\n",
       "      <td>52</td>\n",
       "      <td>6.0</td>\n",
       "      <td>0.74</td>\n",
       "      <td>28</td>\n",
       "      <td>57</td>\n",
       "      <td>15</td>\n",
       "      <td>4.0</td>\n",
       "      <td>25.000000</td>\n",
       "      <td>0.0</td>\n",
       "      <td>3.0</td>\n",
       "      <td>3</td>\n",
       "      <td>1</td>\n",
       "      <td>0</td>\n",
       "      <td>21.0</td>\n",
       "      <td>3.0</td>\n",
       "    </tr>\n",
       "    <tr>\n",
       "      <th>449</th>\n",
       "      <td>450</td>\n",
       "      <td>40</td>\n",
       "      <td>8.5</td>\n",
       "      <td>0.55</td>\n",
       "      <td>20</td>\n",
       "      <td>32</td>\n",
       "      <td>48</td>\n",
       "      <td>1.0</td>\n",
       "      <td>23.653396</td>\n",
       "      <td>3.0</td>\n",
       "      <td>0.0</td>\n",
       "      <td>9</td>\n",
       "      <td>0</td>\n",
       "      <td>1</td>\n",
       "      <td>23.0</td>\n",
       "      <td>7.5</td>\n",
       "    </tr>\n",
       "    <tr>\n",
       "      <th>450</th>\n",
       "      <td>451</td>\n",
       "      <td>45</td>\n",
       "      <td>7.0</td>\n",
       "      <td>0.76</td>\n",
       "      <td>18</td>\n",
       "      <td>72</td>\n",
       "      <td>10</td>\n",
       "      <td>3.0</td>\n",
       "      <td>0.000000</td>\n",
       "      <td>0.0</td>\n",
       "      <td>3.0</td>\n",
       "      <td>7</td>\n",
       "      <td>1</td>\n",
       "      <td>0</td>\n",
       "      <td>21.0</td>\n",
       "      <td>4.0</td>\n",
       "    </tr>\n",
       "    <tr>\n",
       "      <th>451</th>\n",
       "      <td>452</td>\n",
       "      <td>18</td>\n",
       "      <td>7.5</td>\n",
       "      <td>0.63</td>\n",
       "      <td>22</td>\n",
       "      <td>23</td>\n",
       "      <td>55</td>\n",
       "      <td>1.0</td>\n",
       "      <td>50.000000</td>\n",
       "      <td>0.0</td>\n",
       "      <td>1.0</td>\n",
       "      <td>3</td>\n",
       "      <td>1</td>\n",
       "      <td>0</td>\n",
       "      <td>2.5</td>\n",
       "      <td>10.0</td>\n",
       "    </tr>\n",
       "  </tbody>\n",
       "</table>\n",
       "<p>452 rows × 16 columns</p>\n",
       "</div>"
      ],
      "text/plain": [
       "      id  age  sleep_duration  sleep_efficiency  rem_sleep_percentage  \\\n",
       "0      1   65             6.0              0.88                    18   \n",
       "1      2   69             7.0              0.66                    19   \n",
       "2      3   40             8.0              0.89                    20   \n",
       "3      4   40             6.0              0.51                    23   \n",
       "4      5   57             8.0              0.76                    27   \n",
       "..   ...  ...             ...               ...                   ...   \n",
       "447  448   27             7.5              0.91                    22   \n",
       "448  449   52             6.0              0.74                    28   \n",
       "449  450   40             8.5              0.55                    20   \n",
       "450  451   45             7.0              0.76                    18   \n",
       "451  452   18             7.5              0.63                    22   \n",
       "\n",
       "     deep_sleep_percentage  light_sleep_percentage  awakenings  \\\n",
       "0                       70                      12         0.0   \n",
       "1                       28                      53         3.0   \n",
       "2                       70                      10         1.0   \n",
       "3                       25                      52         3.0   \n",
       "4                       55                      18         3.0   \n",
       "..                     ...                     ...         ...   \n",
       "447                     57                      21         0.0   \n",
       "448                     57                      15         4.0   \n",
       "449                     32                      48         1.0   \n",
       "450                     72                      10         3.0   \n",
       "451                     23                      55         1.0   \n",
       "\n",
       "     caffeine_consumption  alcohol_consumption  exercise_frequency  month  \\\n",
       "0                0.000000                  0.0                 3.0      3   \n",
       "1                0.000000                  3.0                 3.0     12   \n",
       "2                0.000000                  0.0                 3.0      5   \n",
       "3               50.000000                  5.0                 1.0     11   \n",
       "4                0.000000                  3.0                 3.0      3   \n",
       "..                    ...                  ...                 ...    ...   \n",
       "447              0.000000                  0.0                 5.0     11   \n",
       "448             25.000000                  0.0                 3.0      3   \n",
       "449             23.653396                  3.0                 0.0      9   \n",
       "450              0.000000                  0.0                 3.0      7   \n",
       "451             50.000000                  0.0                 1.0      3   \n",
       "\n",
       "     gender_Male  smoking_status_Yes  bedtime_hours  wakeup_time_hours  \n",
       "0              0                   1            1.0                7.0  \n",
       "1              1                   1            2.0                9.0  \n",
       "2              0                   0           21.5                5.5  \n",
       "3              0                   1            2.5                8.5  \n",
       "4              1                   0            1.0                9.0  \n",
       "..           ...                 ...            ...                ...  \n",
       "447            0                   0           22.0                5.5  \n",
       "448            1                   0           21.0                3.0  \n",
       "449            0                   1           23.0                7.5  \n",
       "450            1                   0           21.0                4.0  \n",
       "451            1                   0            2.5               10.0  \n",
       "\n",
       "[452 rows x 16 columns]"
      ]
     },
     "execution_count": 36,
     "metadata": {},
     "output_type": "execute_result"
    }
   ],
   "source": [
    "# Converting the time into hours - integers for wakeuptime_time\n",
    "\n",
    "# Convert the time column to datetime data type\n",
    "sleepy_df['wakeup_time_time'] = pd.to_datetime(sleepy_df['wakeup_time_time'], format='%H:%M:%S')\n",
    "\n",
    "# Extract the hour, minute, and second components\n",
    "sleepy_df['hour'] = sleepy_df['wakeup_time_time'].dt.hour\n",
    "sleepy_df['minute'] = sleepy_df['wakeup_time_time'].dt.minute\n",
    "sleepy_df['second'] = sleepy_df['wakeup_time_time'].dt.second\n",
    "\n",
    "# Convert the time to hours as a float\n",
    "sleepy_df['wakeup_time_hours'] = (sleepy_df['hour'] + sleepy_df['minute'] / 60 + sleepy_df['second'] / 3600).round(2)\n",
    "\n",
    "sleepy_df = sleepy_df.drop(columns= ['hour','minute','second','wakeup_time_time'])\n",
    "sleepy_df"
   ]
  },
  {
   "cell_type": "code",
   "execution_count": 37,
   "id": "c8c9f7c3",
   "metadata": {},
   "outputs": [
    {
     "data": {
      "text/html": [
       "<div>\n",
       "<style scoped>\n",
       "    .dataframe tbody tr th:only-of-type {\n",
       "        vertical-align: middle;\n",
       "    }\n",
       "\n",
       "    .dataframe tbody tr th {\n",
       "        vertical-align: top;\n",
       "    }\n",
       "\n",
       "    .dataframe thead th {\n",
       "        text-align: right;\n",
       "    }\n",
       "</style>\n",
       "<table border=\"1\" class=\"dataframe\">\n",
       "  <thead>\n",
       "    <tr style=\"text-align: right;\">\n",
       "      <th></th>\n",
       "      <th>age</th>\n",
       "      <th>sleep_duration</th>\n",
       "      <th>sleep_efficiency</th>\n",
       "      <th>rem_sleep_percentage</th>\n",
       "      <th>deep_sleep_percentage</th>\n",
       "      <th>light_sleep_percentage</th>\n",
       "      <th>awakenings</th>\n",
       "      <th>caffeine_consumption</th>\n",
       "      <th>alcohol_consumption</th>\n",
       "      <th>exercise_frequency</th>\n",
       "      <th>month</th>\n",
       "      <th>gender_Male</th>\n",
       "      <th>smoking_status_Yes</th>\n",
       "      <th>bedtime_hours</th>\n",
       "      <th>wakeup_time_hours</th>\n",
       "    </tr>\n",
       "  </thead>\n",
       "  <tbody>\n",
       "    <tr>\n",
       "      <th>0</th>\n",
       "      <td>65</td>\n",
       "      <td>6.0</td>\n",
       "      <td>0.88</td>\n",
       "      <td>18</td>\n",
       "      <td>70</td>\n",
       "      <td>12</td>\n",
       "      <td>0.0</td>\n",
       "      <td>0.000000</td>\n",
       "      <td>0.0</td>\n",
       "      <td>3.0</td>\n",
       "      <td>3</td>\n",
       "      <td>0</td>\n",
       "      <td>1</td>\n",
       "      <td>1.0</td>\n",
       "      <td>7.0</td>\n",
       "    </tr>\n",
       "    <tr>\n",
       "      <th>1</th>\n",
       "      <td>69</td>\n",
       "      <td>7.0</td>\n",
       "      <td>0.66</td>\n",
       "      <td>19</td>\n",
       "      <td>28</td>\n",
       "      <td>53</td>\n",
       "      <td>3.0</td>\n",
       "      <td>0.000000</td>\n",
       "      <td>3.0</td>\n",
       "      <td>3.0</td>\n",
       "      <td>12</td>\n",
       "      <td>1</td>\n",
       "      <td>1</td>\n",
       "      <td>2.0</td>\n",
       "      <td>9.0</td>\n",
       "    </tr>\n",
       "    <tr>\n",
       "      <th>2</th>\n",
       "      <td>40</td>\n",
       "      <td>8.0</td>\n",
       "      <td>0.89</td>\n",
       "      <td>20</td>\n",
       "      <td>70</td>\n",
       "      <td>10</td>\n",
       "      <td>1.0</td>\n",
       "      <td>0.000000</td>\n",
       "      <td>0.0</td>\n",
       "      <td>3.0</td>\n",
       "      <td>5</td>\n",
       "      <td>0</td>\n",
       "      <td>0</td>\n",
       "      <td>21.5</td>\n",
       "      <td>5.5</td>\n",
       "    </tr>\n",
       "    <tr>\n",
       "      <th>3</th>\n",
       "      <td>40</td>\n",
       "      <td>6.0</td>\n",
       "      <td>0.51</td>\n",
       "      <td>23</td>\n",
       "      <td>25</td>\n",
       "      <td>52</td>\n",
       "      <td>3.0</td>\n",
       "      <td>50.000000</td>\n",
       "      <td>5.0</td>\n",
       "      <td>1.0</td>\n",
       "      <td>11</td>\n",
       "      <td>0</td>\n",
       "      <td>1</td>\n",
       "      <td>2.5</td>\n",
       "      <td>8.5</td>\n",
       "    </tr>\n",
       "    <tr>\n",
       "      <th>4</th>\n",
       "      <td>57</td>\n",
       "      <td>8.0</td>\n",
       "      <td>0.76</td>\n",
       "      <td>27</td>\n",
       "      <td>55</td>\n",
       "      <td>18</td>\n",
       "      <td>3.0</td>\n",
       "      <td>0.000000</td>\n",
       "      <td>3.0</td>\n",
       "      <td>3.0</td>\n",
       "      <td>3</td>\n",
       "      <td>1</td>\n",
       "      <td>0</td>\n",
       "      <td>1.0</td>\n",
       "      <td>9.0</td>\n",
       "    </tr>\n",
       "    <tr>\n",
       "      <th>...</th>\n",
       "      <td>...</td>\n",
       "      <td>...</td>\n",
       "      <td>...</td>\n",
       "      <td>...</td>\n",
       "      <td>...</td>\n",
       "      <td>...</td>\n",
       "      <td>...</td>\n",
       "      <td>...</td>\n",
       "      <td>...</td>\n",
       "      <td>...</td>\n",
       "      <td>...</td>\n",
       "      <td>...</td>\n",
       "      <td>...</td>\n",
       "      <td>...</td>\n",
       "      <td>...</td>\n",
       "    </tr>\n",
       "    <tr>\n",
       "      <th>447</th>\n",
       "      <td>27</td>\n",
       "      <td>7.5</td>\n",
       "      <td>0.91</td>\n",
       "      <td>22</td>\n",
       "      <td>57</td>\n",
       "      <td>21</td>\n",
       "      <td>0.0</td>\n",
       "      <td>0.000000</td>\n",
       "      <td>0.0</td>\n",
       "      <td>5.0</td>\n",
       "      <td>11</td>\n",
       "      <td>0</td>\n",
       "      <td>0</td>\n",
       "      <td>22.0</td>\n",
       "      <td>5.5</td>\n",
       "    </tr>\n",
       "    <tr>\n",
       "      <th>448</th>\n",
       "      <td>52</td>\n",
       "      <td>6.0</td>\n",
       "      <td>0.74</td>\n",
       "      <td>28</td>\n",
       "      <td>57</td>\n",
       "      <td>15</td>\n",
       "      <td>4.0</td>\n",
       "      <td>25.000000</td>\n",
       "      <td>0.0</td>\n",
       "      <td>3.0</td>\n",
       "      <td>3</td>\n",
       "      <td>1</td>\n",
       "      <td>0</td>\n",
       "      <td>21.0</td>\n",
       "      <td>3.0</td>\n",
       "    </tr>\n",
       "    <tr>\n",
       "      <th>449</th>\n",
       "      <td>40</td>\n",
       "      <td>8.5</td>\n",
       "      <td>0.55</td>\n",
       "      <td>20</td>\n",
       "      <td>32</td>\n",
       "      <td>48</td>\n",
       "      <td>1.0</td>\n",
       "      <td>23.653396</td>\n",
       "      <td>3.0</td>\n",
       "      <td>0.0</td>\n",
       "      <td>9</td>\n",
       "      <td>0</td>\n",
       "      <td>1</td>\n",
       "      <td>23.0</td>\n",
       "      <td>7.5</td>\n",
       "    </tr>\n",
       "    <tr>\n",
       "      <th>450</th>\n",
       "      <td>45</td>\n",
       "      <td>7.0</td>\n",
       "      <td>0.76</td>\n",
       "      <td>18</td>\n",
       "      <td>72</td>\n",
       "      <td>10</td>\n",
       "      <td>3.0</td>\n",
       "      <td>0.000000</td>\n",
       "      <td>0.0</td>\n",
       "      <td>3.0</td>\n",
       "      <td>7</td>\n",
       "      <td>1</td>\n",
       "      <td>0</td>\n",
       "      <td>21.0</td>\n",
       "      <td>4.0</td>\n",
       "    </tr>\n",
       "    <tr>\n",
       "      <th>451</th>\n",
       "      <td>18</td>\n",
       "      <td>7.5</td>\n",
       "      <td>0.63</td>\n",
       "      <td>22</td>\n",
       "      <td>23</td>\n",
       "      <td>55</td>\n",
       "      <td>1.0</td>\n",
       "      <td>50.000000</td>\n",
       "      <td>0.0</td>\n",
       "      <td>1.0</td>\n",
       "      <td>3</td>\n",
       "      <td>1</td>\n",
       "      <td>0</td>\n",
       "      <td>2.5</td>\n",
       "      <td>10.0</td>\n",
       "    </tr>\n",
       "  </tbody>\n",
       "</table>\n",
       "<p>452 rows × 15 columns</p>\n",
       "</div>"
      ],
      "text/plain": [
       "     age  sleep_duration  sleep_efficiency  rem_sleep_percentage  \\\n",
       "0     65             6.0              0.88                    18   \n",
       "1     69             7.0              0.66                    19   \n",
       "2     40             8.0              0.89                    20   \n",
       "3     40             6.0              0.51                    23   \n",
       "4     57             8.0              0.76                    27   \n",
       "..   ...             ...               ...                   ...   \n",
       "447   27             7.5              0.91                    22   \n",
       "448   52             6.0              0.74                    28   \n",
       "449   40             8.5              0.55                    20   \n",
       "450   45             7.0              0.76                    18   \n",
       "451   18             7.5              0.63                    22   \n",
       "\n",
       "     deep_sleep_percentage  light_sleep_percentage  awakenings  \\\n",
       "0                       70                      12         0.0   \n",
       "1                       28                      53         3.0   \n",
       "2                       70                      10         1.0   \n",
       "3                       25                      52         3.0   \n",
       "4                       55                      18         3.0   \n",
       "..                     ...                     ...         ...   \n",
       "447                     57                      21         0.0   \n",
       "448                     57                      15         4.0   \n",
       "449                     32                      48         1.0   \n",
       "450                     72                      10         3.0   \n",
       "451                     23                      55         1.0   \n",
       "\n",
       "     caffeine_consumption  alcohol_consumption  exercise_frequency  month  \\\n",
       "0                0.000000                  0.0                 3.0      3   \n",
       "1                0.000000                  3.0                 3.0     12   \n",
       "2                0.000000                  0.0                 3.0      5   \n",
       "3               50.000000                  5.0                 1.0     11   \n",
       "4                0.000000                  3.0                 3.0      3   \n",
       "..                    ...                  ...                 ...    ...   \n",
       "447              0.000000                  0.0                 5.0     11   \n",
       "448             25.000000                  0.0                 3.0      3   \n",
       "449             23.653396                  3.0                 0.0      9   \n",
       "450              0.000000                  0.0                 3.0      7   \n",
       "451             50.000000                  0.0                 1.0      3   \n",
       "\n",
       "     gender_Male  smoking_status_Yes  bedtime_hours  wakeup_time_hours  \n",
       "0              0                   1            1.0                7.0  \n",
       "1              1                   1            2.0                9.0  \n",
       "2              0                   0           21.5                5.5  \n",
       "3              0                   1            2.5                8.5  \n",
       "4              1                   0            1.0                9.0  \n",
       "..           ...                 ...            ...                ...  \n",
       "447            0                   0           22.0                5.5  \n",
       "448            1                   0           21.0                3.0  \n",
       "449            0                   1           23.0                7.5  \n",
       "450            1                   0           21.0                4.0  \n",
       "451            1                   0            2.5               10.0  \n",
       "\n",
       "[452 rows x 15 columns]"
      ]
     },
     "execution_count": 37,
     "metadata": {},
     "output_type": "execute_result"
    }
   ],
   "source": [
    "# we will drop the id column since we do not need it for the regression\n",
    "sleepy_df = sleepy_df.drop(['id'], axis=1)\n",
    "sleepy_df"
   ]
  },
  {
   "cell_type": "markdown",
   "id": "50b5a90e",
   "metadata": {},
   "source": [
    "#### Visualization of dataset"
   ]
  },
  {
   "cell_type": "code",
   "execution_count": 38,
   "id": "50484510",
   "metadata": {},
   "outputs": [
    {
     "data": {
      "text/plain": [
       "<AxesSubplot:>"
      ]
     },
     "execution_count": 38,
     "metadata": {},
     "output_type": "execute_result"
    },
    {
     "data": {
      "image/png": "[encoded data removed]",
      "text/plain": [
       "<Figure size 1500x1000 with 2 Axes>"
      ]
     },
     "metadata": {},
     "output_type": "display_data"
    }
   ],
   "source": [
    "# Correlation Matrix\n",
    "corr = sleepy_df.corr()\n",
    "\n",
    "heatmap = plt.figure(figsize=(15, 10))\n",
    "mask = np.triu(np.ones_like(corr, dtype=bool))\n",
    "sns.heatmap(corr, annot=True, mask=mask)\n",
    "\n",
    "# Notes:\n",
    "# Variables that are the opposite of each other, have a hight correlation (ex. Light and deep sleep)\n",
    "# Highest correlation with target varaible 'sleep_efficiency':\n",
    "## light and deep sleep percentage\n",
    "## awakenings\n",
    "\n"
   ]
  },
  {
   "cell_type": "code",
   "execution_count": 39,
   "id": "349679ae",
   "metadata": {},
   "outputs": [],
   "source": [
    "#import this heatmap for presentation\n",
    "corr.to_excel(r'Correlation_Matrix_sleepy.xlsx',index=False)"
   ]
  },
  {
   "cell_type": "code",
   "execution_count": 40,
   "id": "42fa1cd9",
   "metadata": {},
   "outputs": [
    {
     "data": {
      "text/plain": [
       "array([[<AxesSubplot:title={'center':'age'}>,\n",
       "        <AxesSubplot:title={'center':'sleep_duration'}>,\n",
       "        <AxesSubplot:title={'center':'sleep_efficiency'}>,\n",
       "        <AxesSubplot:title={'center':'rem_sleep_percentage'}>],\n",
       "       [<AxesSubplot:title={'center':'deep_sleep_percentage'}>,\n",
       "        <AxesSubplot:title={'center':'light_sleep_percentage'}>,\n",
       "        <AxesSubplot:title={'center':'awakenings'}>,\n",
       "        <AxesSubplot:title={'center':'caffeine_consumption'}>],\n",
       "       [<AxesSubplot:title={'center':'alcohol_consumption'}>,\n",
       "        <AxesSubplot:title={'center':'exercise_frequency'}>,\n",
       "        <AxesSubplot:title={'center':'month'}>,\n",
       "        <AxesSubplot:title={'center':'gender_Male'}>],\n",
       "       [<AxesSubplot:title={'center':'smoking_status_Yes'}>,\n",
       "        <AxesSubplot:title={'center':'bedtime_hours'}>,\n",
       "        <AxesSubplot:title={'center':'wakeup_time_hours'}>,\n",
       "        <AxesSubplot:>]], dtype=object)"
      ]
     },
     "execution_count": 40,
     "metadata": {},
     "output_type": "execute_result"
    },
    {
     "data": {
      "image/png": "[encoded data removed]",
      "text/plain": [
       "<Figure size 1500x1000 with 16 Axes>"
      ]
     },
     "metadata": {},
     "output_type": "display_data"
    }
   ],
   "source": [
    "# Histograms for every Variable\n",
    "sleepy_df.hist(figsize=(15,10))"
   ]
  },
  {
   "cell_type": "code",
   "execution_count": 41,
   "id": "f1f7feb0",
   "metadata": {},
   "outputs": [
    {
     "name": "stdout",
     "output_type": "stream",
     "text": [
      "0.000000      211\n",
      "50.000000     107\n",
      "25.000000      79\n",
      "23.653396      25\n",
      "75.000000      25\n",
      "200.000000      4\n",
      "100.000000      1\n",
      "Name: caffeine_consumption, dtype: int64\n"
     ]
    }
   ],
   "source": [
    "# Outliers in caffeine?\n",
    "unique_caffeine = sleepy_df['caffeine_consumption'].value_counts()\n",
    "print(unique_caffeine)"
   ]
  },
  {
   "cell_type": "markdown",
   "id": "fd157da1",
   "metadata": {},
   "source": [
    "<b/> transforming target variable (right skew)"
   ]
  },
  {
   "cell_type": "code",
   "execution_count": 42,
   "id": "8803ffba",
   "metadata": {},
   "outputs": [],
   "source": [
    "# targetvar Use StandardScaler or PowerTransform to reduce the skew and standardize varB's distribution\n",
    "from sklearn.preprocessing import StandardScaler\n",
    "\n",
    "# Create an instance of the standardscaler\n",
    "scaler = StandardScaler()"
   ]
  },
  {
   "cell_type": "code",
   "execution_count": 43,
   "id": "12332b55",
   "metadata": {},
   "outputs": [],
   "source": [
    "target_var = sleepy_df['sleep_efficiency']\n",
    "target_var = target_var.values.reshape(-1, 1)"
   ]
  },
  {
   "cell_type": "code",
   "execution_count": 44,
   "id": "a74c90a3",
   "metadata": {},
   "outputs": [
    {
     "data": {
      "text/plain": [
       "StandardScaler()"
      ]
     },
     "execution_count": 44,
     "metadata": {},
     "output_type": "execute_result"
    }
   ],
   "source": [
    "# Fit the scaler to the dataset\n",
    "scaler.fit(target_var)"
   ]
  },
  {
   "cell_type": "code",
   "execution_count": 45,
   "id": "d6de7aa0",
   "metadata": {},
   "outputs": [
    {
     "data": {
      "text/plain": [
       "(array([ 39.,  16.,  29.,  29.,  37.,  45.,  56.,  66., 101.,  34.]),\n",
       " array([-2.13873348, -1.77600533, -1.41327718, -1.05054903, -0.68782088,\n",
       "        -0.32509273,  0.03763542,  0.40036357,  0.76309172,  1.12581987,\n",
       "         1.48854802]),\n",
       " <BarContainer object of 10 artists>)"
      ]
     },
     "execution_count": 45,
     "metadata": {},
     "output_type": "execute_result"
    },
    {
     "data": {
      "image/png": "[encoded data removed]",
      "text/plain": [
       "<Figure size 640x480 with 1 Axes>"
      ]
     },
     "metadata": {},
     "output_type": "display_data"
    }
   ],
   "source": [
    "# Transform the dataset using the standardscaler\n",
    "target_var_scaled = scaler.transform(target_var)\n",
    "plt.hist(target_var_scaled)"
   ]
  },
  {
   "cell_type": "code",
   "execution_count": 46,
   "id": "2e494ef5",
   "metadata": {},
   "outputs": [
    {
     "data": {
      "text/plain": [
       "<AxesSubplot:ylabel='Count'>"
      ]
     },
     "execution_count": 46,
     "metadata": {},
     "output_type": "execute_result"
    },
    {
     "data": {
      "image/png": "[encoded data removed]",
      "text/plain": [
       "<Figure size 640x480 with 1 Axes>"
      ]
     },
     "metadata": {},
     "output_type": "display_data"
    }
   ],
   "source": [
    "# Use the PowerTransformer - YeoJohnson\n",
    "pt = PowerTransformer(method='yeo-johnson')\n",
    "pt.fit(target_var_scaled)\n",
    "target_var_scaled2 = pt.transform(target_var_scaled)\n",
    "sns.histplot(target_var_scaled2)"
   ]
  },
  {
   "cell_type": "code",
   "execution_count": 47,
   "id": "d5c73db8",
   "metadata": {},
   "outputs": [],
   "source": [
    "#Let us save the cleaned dataset\n",
    "sleepy_df.to_csv('sleepy_dataset_cleaned.csv', index=False)"
   ]
  },
  {
   "cell_type": "code",
   "execution_count": 48,
   "id": "c09521f2",
   "metadata": {},
   "outputs": [],
   "source": [
    "#We want the averages of our sample -> Presentation\n",
    "averages = pd.DataFrame(sleepy_df.mean())"
   ]
  },
  {
   "cell_type": "code",
   "execution_count": 93,
   "id": "7ff36f87",
   "metadata": {},
   "outputs": [],
   "source": [
    "averages.to_excel('averages_sample.xlsx', index=False)"
   ]
  },
  {
   "cell_type": "code",
   "execution_count": 94,
   "id": "8874727f",
   "metadata": {},
   "outputs": [
    {
     "data": {
      "text/html": [
       "<div>\n",
       "<style scoped>\n",
       "    .dataframe tbody tr th:only-of-type {\n",
       "        vertical-align: middle;\n",
       "    }\n",
       "\n",
       "    .dataframe tbody tr th {\n",
       "        vertical-align: top;\n",
       "    }\n",
       "\n",
       "    .dataframe thead th {\n",
       "        text-align: right;\n",
       "    }\n",
       "</style>\n",
       "<table border=\"1\" class=\"dataframe\">\n",
       "  <thead>\n",
       "    <tr style=\"text-align: right;\">\n",
       "      <th></th>\n",
       "      <th>0</th>\n",
       "    </tr>\n",
       "  </thead>\n",
       "  <tbody>\n",
       "    <tr>\n",
       "      <th>age</th>\n",
       "      <td>40.285398</td>\n",
       "    </tr>\n",
       "    <tr>\n",
       "      <th>sleep_duration</th>\n",
       "      <td>7.465708</td>\n",
       "    </tr>\n",
       "    <tr>\n",
       "      <th>sleep_efficiency</th>\n",
       "      <td>0.788916</td>\n",
       "    </tr>\n",
       "    <tr>\n",
       "      <th>rem_sleep_percentage</th>\n",
       "      <td>22.615044</td>\n",
       "    </tr>\n",
       "    <tr>\n",
       "      <th>deep_sleep_percentage</th>\n",
       "      <td>52.823009</td>\n",
       "    </tr>\n",
       "    <tr>\n",
       "      <th>light_sleep_percentage</th>\n",
       "      <td>24.561947</td>\n",
       "    </tr>\n",
       "    <tr>\n",
       "      <th>awakenings</th>\n",
       "      <td>1.641204</td>\n",
       "    </tr>\n",
       "    <tr>\n",
       "      <th>caffeine_consumption</th>\n",
       "      <td>23.653396</td>\n",
       "    </tr>\n",
       "    <tr>\n",
       "      <th>alcohol_consumption</th>\n",
       "      <td>1.173516</td>\n",
       "    </tr>\n",
       "    <tr>\n",
       "      <th>exercise_frequency</th>\n",
       "      <td>1.791480</td>\n",
       "    </tr>\n",
       "    <tr>\n",
       "      <th>month</th>\n",
       "      <td>6.871681</td>\n",
       "    </tr>\n",
       "    <tr>\n",
       "      <th>gender_Male</th>\n",
       "      <td>0.504425</td>\n",
       "    </tr>\n",
       "    <tr>\n",
       "      <th>smoking_status_Yes</th>\n",
       "      <td>0.340708</td>\n",
       "    </tr>\n",
       "    <tr>\n",
       "      <th>bedtime_hours</th>\n",
       "      <td>10.839602</td>\n",
       "    </tr>\n",
       "    <tr>\n",
       "      <th>wakeup_time_hours</th>\n",
       "      <td>7.101770</td>\n",
       "    </tr>\n",
       "  </tbody>\n",
       "</table>\n",
       "</div>"
      ],
      "text/plain": [
       "                                0\n",
       "age                     40.285398\n",
       "sleep_duration           7.465708\n",
       "sleep_efficiency         0.788916\n",
       "rem_sleep_percentage    22.615044\n",
       "deep_sleep_percentage   52.823009\n",
       "light_sleep_percentage  24.561947\n",
       "awakenings               1.641204\n",
       "caffeine_consumption    23.653396\n",
       "alcohol_consumption      1.173516\n",
       "exercise_frequency       1.791480\n",
       "month                    6.871681\n",
       "gender_Male              0.504425\n",
       "smoking_status_Yes       0.340708\n",
       "bedtime_hours           10.839602\n",
       "wakeup_time_hours        7.101770"
      ]
     },
     "execution_count": 94,
     "metadata": {},
     "output_type": "execute_result"
    }
   ],
   "source": [
    "averages"
   ]
  },
  {
   "cell_type": "markdown",
   "id": "8f3e2292",
   "metadata": {},
   "source": [
    "## Modeling"
   ]
  },
  {
   "cell_type": "code",
   "execution_count": 49,
   "id": "bbf11790",
   "metadata": {},
   "outputs": [],
   "source": [
    "TT_RATIO = 0.3 \n",
    "RAND_STATE = 34 # for reproducible shuffling"
   ]
  },
  {
   "cell_type": "code",
   "execution_count": 50,
   "id": "81403cbe",
   "metadata": {},
   "outputs": [],
   "source": [
    "# Y/Y Split\n",
    "X = sleepy_df.drop('sleep_efficiency', axis=1)\n",
    "y = sleepy_df.sleep_efficiency"
   ]
  },
  {
   "cell_type": "code",
   "execution_count": 51,
   "id": "a741eb99",
   "metadata": {},
   "outputs": [
    {
     "data": {
      "text/html": [
       "<div>\n",
       "<style scoped>\n",
       "    .dataframe tbody tr th:only-of-type {\n",
       "        vertical-align: middle;\n",
       "    }\n",
       "\n",
       "    .dataframe tbody tr th {\n",
       "        vertical-align: top;\n",
       "    }\n",
       "\n",
       "    .dataframe thead th {\n",
       "        text-align: right;\n",
       "    }\n",
       "</style>\n",
       "<table border=\"1\" class=\"dataframe\">\n",
       "  <thead>\n",
       "    <tr style=\"text-align: right;\">\n",
       "      <th></th>\n",
       "      <th>age</th>\n",
       "      <th>sleep_duration</th>\n",
       "      <th>rem_sleep_percentage</th>\n",
       "      <th>deep_sleep_percentage</th>\n",
       "      <th>light_sleep_percentage</th>\n",
       "      <th>awakenings</th>\n",
       "      <th>caffeine_consumption</th>\n",
       "      <th>alcohol_consumption</th>\n",
       "      <th>exercise_frequency</th>\n",
       "      <th>month</th>\n",
       "      <th>gender_Male</th>\n",
       "      <th>smoking_status_Yes</th>\n",
       "      <th>bedtime_hours</th>\n",
       "      <th>wakeup_time_hours</th>\n",
       "    </tr>\n",
       "  </thead>\n",
       "  <tbody>\n",
       "    <tr>\n",
       "      <th>229</th>\n",
       "      <td>26</td>\n",
       "      <td>7.0</td>\n",
       "      <td>24</td>\n",
       "      <td>56</td>\n",
       "      <td>20</td>\n",
       "      <td>4.0</td>\n",
       "      <td>0.000000</td>\n",
       "      <td>0.000000</td>\n",
       "      <td>3.0</td>\n",
       "      <td>3</td>\n",
       "      <td>1</td>\n",
       "      <td>0</td>\n",
       "      <td>22.5</td>\n",
       "      <td>5.5</td>\n",
       "    </tr>\n",
       "    <tr>\n",
       "      <th>363</th>\n",
       "      <td>30</td>\n",
       "      <td>10.0</td>\n",
       "      <td>22</td>\n",
       "      <td>65</td>\n",
       "      <td>13</td>\n",
       "      <td>0.0</td>\n",
       "      <td>25.000000</td>\n",
       "      <td>1.000000</td>\n",
       "      <td>0.0</td>\n",
       "      <td>11</td>\n",
       "      <td>0</td>\n",
       "      <td>0</td>\n",
       "      <td>1.5</td>\n",
       "      <td>11.5</td>\n",
       "    </tr>\n",
       "    <tr>\n",
       "      <th>215</th>\n",
       "      <td>22</td>\n",
       "      <td>7.0</td>\n",
       "      <td>28</td>\n",
       "      <td>60</td>\n",
       "      <td>12</td>\n",
       "      <td>4.0</td>\n",
       "      <td>23.653396</td>\n",
       "      <td>5.000000</td>\n",
       "      <td>1.0</td>\n",
       "      <td>5</td>\n",
       "      <td>0</td>\n",
       "      <td>0</td>\n",
       "      <td>23.0</td>\n",
       "      <td>6.0</td>\n",
       "    </tr>\n",
       "    <tr>\n",
       "      <th>211</th>\n",
       "      <td>10</td>\n",
       "      <td>7.0</td>\n",
       "      <td>18</td>\n",
       "      <td>35</td>\n",
       "      <td>47</td>\n",
       "      <td>3.0</td>\n",
       "      <td>0.000000</td>\n",
       "      <td>0.000000</td>\n",
       "      <td>0.0</td>\n",
       "      <td>7</td>\n",
       "      <td>0</td>\n",
       "      <td>0</td>\n",
       "      <td>1.0</td>\n",
       "      <td>8.0</td>\n",
       "    </tr>\n",
       "    <tr>\n",
       "      <th>395</th>\n",
       "      <td>56</td>\n",
       "      <td>8.0</td>\n",
       "      <td>27</td>\n",
       "      <td>55</td>\n",
       "      <td>18</td>\n",
       "      <td>2.0</td>\n",
       "      <td>0.000000</td>\n",
       "      <td>1.173516</td>\n",
       "      <td>3.0</td>\n",
       "      <td>12</td>\n",
       "      <td>1</td>\n",
       "      <td>0</td>\n",
       "      <td>21.5</td>\n",
       "      <td>5.5</td>\n",
       "    </tr>\n",
       "  </tbody>\n",
       "</table>\n",
       "</div>"
      ],
      "text/plain": [
       "     age  sleep_duration  rem_sleep_percentage  deep_sleep_percentage  \\\n",
       "229   26             7.0                    24                     56   \n",
       "363   30            10.0                    22                     65   \n",
       "215   22             7.0                    28                     60   \n",
       "211   10             7.0                    18                     35   \n",
       "395   56             8.0                    27                     55   \n",
       "\n",
       "     light_sleep_percentage  awakenings  caffeine_consumption  \\\n",
       "229                      20         4.0              0.000000   \n",
       "363                      13         0.0             25.000000   \n",
       "215                      12         4.0             23.653396   \n",
       "211                      47         3.0              0.000000   \n",
       "395                      18         2.0              0.000000   \n",
       "\n",
       "     alcohol_consumption  exercise_frequency  month  gender_Male  \\\n",
       "229             0.000000                 3.0      3            1   \n",
       "363             1.000000                 0.0     11            0   \n",
       "215             5.000000                 1.0      5            0   \n",
       "211             0.000000                 0.0      7            0   \n",
       "395             1.173516                 3.0     12            1   \n",
       "\n",
       "     smoking_status_Yes  bedtime_hours  wakeup_time_hours  \n",
       "229                   0           22.5                5.5  \n",
       "363                   0            1.5               11.5  \n",
       "215                   0           23.0                6.0  \n",
       "211                   0            1.0                8.0  \n",
       "395                   0           21.5                5.5  "
      ]
     },
     "execution_count": 51,
     "metadata": {},
     "output_type": "execute_result"
    }
   ],
   "source": [
    "# Train/ Test Split\n",
    "from sklearn.model_selection import train_test_split\n",
    "X_train, X_test, y_train, y_test = train_test_split(X, y, test_size=TT_RATIO, random_state=RAND_STATE)\n",
    "X_train = pd.DataFrame(X_train)\n",
    "X_test = pd.DataFrame(X_test)\n",
    "X_train.head()"
   ]
  },
  {
   "cell_type": "code",
   "execution_count": 52,
   "id": "d2fdadb7",
   "metadata": {},
   "outputs": [
    {
     "data": {
      "text/plain": [
       "PowerTransformer()"
      ]
     },
     "execution_count": 52,
     "metadata": {},
     "output_type": "execute_result"
    }
   ],
   "source": [
    "# Scaling\n",
    "# PowerTransform\n",
    "# Fit the scaler to the X_train\n",
    "pt.fit(X_train)"
   ]
  },
  {
   "cell_type": "code",
   "execution_count": 53,
   "id": "fb69b11e",
   "metadata": {},
   "outputs": [
    {
     "data": {
      "text/plain": [
       "array([[-1.02855909, -0.52614849,  0.41960937, ..., -0.69038794,\n",
       "         1.05267168, -0.81065994],\n",
       "       [-0.70979789,  2.91348549, -0.12177873, ..., -0.69038794,\n",
       "        -0.65083335,  2.21034954],\n",
       "       [-1.35876456, -0.52614849,  1.45792584, ..., -0.69038794,\n",
       "         1.06957959, -0.54496806],\n",
       "       ...,\n",
       "       [-0.94787639, -1.65028779,  0.6844535 , ...,  1.44846098,\n",
       "        -1.29540771, -0.54496806],\n",
       "       [ 0.62235773, -0.52614849, -0.12177873, ..., -0.69038794,\n",
       "        -1.29540771, -0.02282261],\n",
       "       [ 0.33812092, -0.52614849, -0.68033901, ...,  1.44846098,\n",
       "         1.03541811, -1.07979919]])"
      ]
     },
     "execution_count": 53,
     "metadata": {},
     "output_type": "execute_result"
    }
   ],
   "source": [
    "# Transform X_train using the scaler\n",
    "X_train_scaled = pt.transform(X_train)\n",
    "X_train_scaled"
   ]
  },
  {
   "cell_type": "code",
   "execution_count": 54,
   "id": "750b41ab",
   "metadata": {},
   "outputs": [
    {
     "data": {
      "text/plain": [
       "array([[ 0.7623966 ,  0.60997381, -1.25833839, ...,  1.44846098,\n",
       "         1.03541811, -0.54496806],\n",
       "       [ 0.97004304, -0.52614849,  0.41960937, ..., -0.69038794,\n",
       "         0.99981372, -1.62984121],\n",
       "       [ 0.04782073,  0.60997381, -0.12177873, ..., -0.69038794,\n",
       "         1.05267168, -0.28243729],\n",
       "       ...,\n",
       "       [ 0.12100215,  0.60997381, -0.68033901, ...,  1.44846098,\n",
       "         1.03541811, -0.54496806],\n",
       "       [-0.86787422, -0.52614849,  0.15093809, ..., -0.69038794,\n",
       "         0.99981372, -1.62984121],\n",
       "       [ 0.83192597,  0.60997381, -0.68033901, ..., -0.69038794,\n",
       "         1.05267168, -0.28243729]])"
      ]
     },
     "execution_count": 54,
     "metadata": {},
     "output_type": "execute_result"
    }
   ],
   "source": [
    "# Transform X_test using the scaler\n",
    "X_test_scaled = pt.transform(X_test)\n",
    "X_test_scaled"
   ]
  },
  {
   "cell_type": "code",
   "execution_count": 55,
   "id": "3b6b013e",
   "metadata": {},
   "outputs": [
    {
     "name": "stdout",
     "output_type": "stream",
     "text": [
      "Coefficients: [ 0.01436085  0.00289707  0.04213409  0.14941698  0.06083922 -0.04657362\n",
      "  0.00448039 -0.00830539  0.00905635  0.00140352 -0.0025434  -0.02271015\n",
      " -0.00128915 -0.00381239]\n",
      "Intercept: 0.785601265822785\n"
     ]
    }
   ],
   "source": [
    "# Train model \n",
    "from sklearn.linear_model import LinearRegression\n",
    "model_lr = LinearRegression ()\n",
    "model_lr.fit(X_train_scaled, y_train)\n",
    "print(f'Coefficients: {model_lr.coef_}')\n",
    "print(f'Intercept: {model_lr.intercept_}')"
   ]
  },
  {
   "cell_type": "code",
   "execution_count": 56,
   "id": "da339615",
   "metadata": {},
   "outputs": [
    {
     "name": "stdout",
     "output_type": "stream",
     "text": [
      "                            OLS Regression Results                            \n",
      "==============================================================================\n",
      "Dep. Variable:       sleep_efficiency   R-squared:                       0.814\n",
      "Model:                            OLS   Adj. R-squared:                  0.805\n",
      "Method:                 Least Squares   F-statistic:                     93.95\n",
      "Date:                Thu, 20 Apr 2023   Prob (F-statistic):          7.51e-101\n",
      "Time:                        10:37:16   Log-Likelihood:                 448.67\n",
      "No. Observations:                 316   AIC:                            -867.3\n",
      "Df Residuals:                     301   BIC:                            -811.0\n",
      "Df Model:                          14                                         \n",
      "Covariance Type:            nonrobust                                         \n",
      "==============================================================================\n",
      "                 coef    std err          t      P>|t|      [0.025      0.975]\n",
      "------------------------------------------------------------------------------\n",
      "const          0.7856      0.003    233.000      0.000       0.779       0.792\n",
      "x1             0.0144      0.004      3.938      0.000       0.007       0.022\n",
      "x2             0.0029      0.004      0.662      0.509      -0.006       0.012\n",
      "x3             0.0421      0.005      8.015      0.000       0.032       0.052\n",
      "x4             0.1494      0.015     10.082      0.000       0.120       0.179\n",
      "x5             0.0608      0.014      4.445      0.000       0.034       0.088\n",
      "x6            -0.0466      0.004    -12.317      0.000      -0.054      -0.039\n",
      "x7             0.0045      0.004      1.174      0.241      -0.003       0.012\n",
      "x8            -0.0083      0.004     -2.244      0.026      -0.016      -0.001\n",
      "x9             0.0091      0.004      2.224      0.027       0.001       0.017\n",
      "x10            0.0014      0.003      0.406      0.685      -0.005       0.008\n",
      "x11           -0.0025      0.004     -0.612      0.541      -0.011       0.006\n",
      "x12           -0.0227      0.004     -6.052      0.000      -0.030      -0.015\n",
      "x13           -0.0013      0.005     -0.241      0.810      -0.012       0.009\n",
      "x14           -0.0038      0.006     -0.617      0.537      -0.016       0.008\n",
      "==============================================================================\n",
      "Omnibus:                        5.251   Durbin-Watson:                   2.004\n",
      "Prob(Omnibus):                  0.072   Jarque-Bera (JB):                5.008\n",
      "Skew:                          -0.259   Prob(JB):                       0.0818\n",
      "Kurtosis:                       2.667   Cond. No.                         9.75\n",
      "==============================================================================\n",
      "\n",
      "Notes:\n",
      "[1] Standard Errors assume that the covariance matrix of the errors is correctly specified.\n"
     ]
    }
   ],
   "source": [
    "# OLS Table\n",
    "import statsmodels.api as sm\n",
    "X_train_const_scaled = sm.add_constant(X_train_scaled) # adding a constant - Intercept # stats model = sm\n",
    "\n",
    "model_OLS = sm.OLS(y_train, X_train_const_scaled).fit() \n",
    "predictions_train = model_OLS.predict(X_train_const_scaled)\n",
    "\n",
    "#X_test_const_scaled = sm.add_constant(X_test_scaled) # adding a constant\n",
    "#predictions_test_OLS = model_OLS.predict(X_test_const_scaled)\n",
    "\n",
    "print_model_OLS = model_OLS.summary()\n",
    "print(print_model_OLS) #test predictions are more relevant than train"
   ]
  },
  {
   "cell_type": "code",
   "execution_count": 57,
   "id": "51729442",
   "metadata": {},
   "outputs": [
    {
     "name": "stdout",
     "output_type": "stream",
     "text": [
      "     sleep_efficiency\n",
      "0            0.624896\n",
      "1            0.895932\n",
      "2            0.775059\n",
      "3            0.595068\n",
      "4            0.843178\n",
      "..                ...\n",
      "131          0.506809\n",
      "132          0.888545\n",
      "133          0.909862\n",
      "134          0.859897\n",
      "135          0.941157\n",
      "\n",
      "[136 rows x 1 columns]\n"
     ]
    }
   ],
   "source": [
    "# Predictions \n",
    "y_pred_2 = pd.DataFrame(model_lr.predict(X_test_scaled),columns = ['sleep_efficiency'])\n",
    "print(y_pred_2)"
   ]
  },
  {
   "cell_type": "code",
   "execution_count": 58,
   "id": "7480345d",
   "metadata": {},
   "outputs": [
    {
     "name": "stdout",
     "output_type": "stream",
     "text": [
      "     sleep_efficiency\n",
      "0            0.746318\n",
      "1            0.917097\n",
      "2            0.745051\n",
      "3            0.548007\n",
      "4            0.830256\n",
      "..                ...\n",
      "311          0.877110\n",
      "312          0.820498\n",
      "313          0.882355\n",
      "314          0.838736\n",
      "315          0.540158\n",
      "\n",
      "[316 rows x 1 columns]\n"
     ]
    }
   ],
   "source": [
    "y_pred_train_2 =  pd.DataFrame(model_lr.predict(X_train_scaled),columns = ['sleep_efficiency'])\n",
    "print(y_pred_train_2)"
   ]
  },
  {
   "cell_type": "markdown",
   "id": "50ebe32c",
   "metadata": {},
   "source": [
    "<b/> Error Metrics - Test set"
   ]
  },
  {
   "cell_type": "code",
   "execution_count": 59,
   "id": "1f4d73df",
   "metadata": {},
   "outputs": [
    {
     "name": "stdout",
     "output_type": "stream",
     "text": [
      "Mean Square Errors (mse): 0.003926430100518405\n",
      "Mean Absolut Errors (mae): 0.05115122234030719\n",
      "Prediction on the train set: 0.0034218409260626894\n"
     ]
    }
   ],
   "source": [
    "print(f'Mean Square Errors (mse): {mse(y_test,y_pred_2)}')\n",
    "print(f'Mean Absolut Errors (mae): {mae(y_test,y_pred_2)}')\n",
    "print(f'Prediction on the train set: {mse(y_train,y_pred_train_2)}')"
   ]
  },
  {
   "cell_type": "code",
   "execution_count": 60,
   "id": "5b1eef82",
   "metadata": {},
   "outputs": [
    {
     "data": {
      "text/plain": [
       "0.7802893348613712"
      ]
     },
     "execution_count": 60,
     "metadata": {},
     "output_type": "execute_result"
    }
   ],
   "source": [
    "R2=r2_score(y_test,y_pred_2)\n",
    "R2"
   ]
  },
  {
   "cell_type": "code",
   "execution_count": 61,
   "id": "e45c6eeb",
   "metadata": {},
   "outputs": [
    {
     "data": {
      "text/plain": [
       "0.7548682661676456"
      ]
     },
     "execution_count": 61,
     "metadata": {},
     "output_type": "execute_result"
    }
   ],
   "source": [
    "R2_test=model_lr.score(X_test_scaled,y_test)\n",
    "R2_train=model_lr.score(X_train_scaled,y_train)\n",
    "Adj_R2= 1 - (1-R2)*(len(y_test)-1)/(len(y_test)-X_test.shape[1]-1)\n",
    "Adj_R2"
   ]
  },
  {
   "cell_type": "markdown",
   "id": "0ec2823b",
   "metadata": {},
   "source": [
    "<b/> Feature Importance"
   ]
  },
  {
   "cell_type": "code",
   "execution_count": 62,
   "id": "c031b2a3",
   "metadata": {},
   "outputs": [
    {
     "data": {
      "text/html": [
       "<div>\n",
       "<style scoped>\n",
       "    .dataframe tbody tr th:only-of-type {\n",
       "        vertical-align: middle;\n",
       "    }\n",
       "\n",
       "    .dataframe tbody tr th {\n",
       "        vertical-align: top;\n",
       "    }\n",
       "\n",
       "    .dataframe thead th {\n",
       "        text-align: right;\n",
       "    }\n",
       "</style>\n",
       "<table border=\"1\" class=\"dataframe\">\n",
       "  <thead>\n",
       "    <tr style=\"text-align: right;\">\n",
       "      <th></th>\n",
       "      <th>Attribute</th>\n",
       "      <th>Importance</th>\n",
       "    </tr>\n",
       "  </thead>\n",
       "  <tbody>\n",
       "    <tr>\n",
       "      <th>3</th>\n",
       "      <td>deep_sleep_percentage</td>\n",
       "      <td>0.149417</td>\n",
       "    </tr>\n",
       "    <tr>\n",
       "      <th>4</th>\n",
       "      <td>light_sleep_percentage</td>\n",
       "      <td>0.060839</td>\n",
       "    </tr>\n",
       "    <tr>\n",
       "      <th>2</th>\n",
       "      <td>rem_sleep_percentage</td>\n",
       "      <td>0.042134</td>\n",
       "    </tr>\n",
       "    <tr>\n",
       "      <th>0</th>\n",
       "      <td>age</td>\n",
       "      <td>0.014361</td>\n",
       "    </tr>\n",
       "    <tr>\n",
       "      <th>8</th>\n",
       "      <td>exercise_frequency</td>\n",
       "      <td>0.009056</td>\n",
       "    </tr>\n",
       "    <tr>\n",
       "      <th>6</th>\n",
       "      <td>caffeine_consumption</td>\n",
       "      <td>0.004480</td>\n",
       "    </tr>\n",
       "    <tr>\n",
       "      <th>1</th>\n",
       "      <td>sleep_duration</td>\n",
       "      <td>0.002897</td>\n",
       "    </tr>\n",
       "    <tr>\n",
       "      <th>9</th>\n",
       "      <td>month</td>\n",
       "      <td>0.001404</td>\n",
       "    </tr>\n",
       "    <tr>\n",
       "      <th>12</th>\n",
       "      <td>bedtime_hours</td>\n",
       "      <td>-0.001289</td>\n",
       "    </tr>\n",
       "    <tr>\n",
       "      <th>10</th>\n",
       "      <td>gender_Male</td>\n",
       "      <td>-0.002543</td>\n",
       "    </tr>\n",
       "    <tr>\n",
       "      <th>13</th>\n",
       "      <td>wakeup_time_hours</td>\n",
       "      <td>-0.003812</td>\n",
       "    </tr>\n",
       "    <tr>\n",
       "      <th>7</th>\n",
       "      <td>alcohol_consumption</td>\n",
       "      <td>-0.008305</td>\n",
       "    </tr>\n",
       "    <tr>\n",
       "      <th>11</th>\n",
       "      <td>smoking_status_Yes</td>\n",
       "      <td>-0.022710</td>\n",
       "    </tr>\n",
       "    <tr>\n",
       "      <th>5</th>\n",
       "      <td>awakenings</td>\n",
       "      <td>-0.046574</td>\n",
       "    </tr>\n",
       "  </tbody>\n",
       "</table>\n",
       "</div>"
      ],
      "text/plain": [
       "                 Attribute  Importance\n",
       "3    deep_sleep_percentage    0.149417\n",
       "4   light_sleep_percentage    0.060839\n",
       "2     rem_sleep_percentage    0.042134\n",
       "0                      age    0.014361\n",
       "8       exercise_frequency    0.009056\n",
       "6     caffeine_consumption    0.004480\n",
       "1           sleep_duration    0.002897\n",
       "9                    month    0.001404\n",
       "12           bedtime_hours   -0.001289\n",
       "10             gender_Male   -0.002543\n",
       "13       wakeup_time_hours   -0.003812\n",
       "7      alcohol_consumption   -0.008305\n",
       "11      smoking_status_Yes   -0.022710\n",
       "5               awakenings   -0.046574"
      ]
     },
     "execution_count": 62,
     "metadata": {},
     "output_type": "execute_result"
    }
   ],
   "source": [
    "features_importances1 = pd.DataFrame(data={\n",
    "    'Attribute': X_train.columns,\n",
    "    'Importance': (model_lr.coef_.reshape(len(X_train.columns),))\n",
    "})\n",
    "features_importances1 = features_importances1.sort_values(by='Importance', ascending=False)\n",
    "features_importances1"
   ]
  },
  {
   "cell_type": "code",
   "execution_count": 63,
   "id": "ff69087c",
   "metadata": {
    "scrolled": true
   },
   "outputs": [
    {
     "data": {
      "image/png": "[encoded data removed]",
      "text/plain": [
       "<Figure size 800x600 with 1 Axes>"
      ]
     },
     "metadata": {},
     "output_type": "display_data"
    }
   ],
   "source": [
    "# Create a new figure with a specific size\n",
    "fig = plt.figure(figsize=(8,6)) # adjust the numbers as needed\n",
    "\n",
    "# Plot the bar chart\n",
    "plt.bar(x=features_importances1['Attribute'].iloc[:15], height=features_importances1['Importance'].iloc[:15], color='#087E8B')\n",
    "plt.title ('Feature importance rankings', size=12)\n",
    "plt.xticks(rotation='vertical')\n",
    "\n",
    "# Save the chart and show it\n",
    "plt.savefig('Feature_Importance.jpg', dpi=300, bbox_inches='tight')\n",
    "plt.show()"
   ]
  },
  {
   "cell_type": "markdown",
   "id": "fe215557",
   "metadata": {},
   "source": [
    "## Evaluating model performance"
   ]
  },
  {
   "cell_type": "code",
   "execution_count": 64,
   "id": "e60331dd",
   "metadata": {},
   "outputs": [],
   "source": [
    "y_test = pd.DataFrame(y_test)"
   ]
  },
  {
   "cell_type": "code",
   "execution_count": 65,
   "id": "adf11a1d",
   "metadata": {},
   "outputs": [],
   "source": [
    "y_test = y_test.reset_index(drop=True)"
   ]
  },
  {
   "cell_type": "code",
   "execution_count": 66,
   "id": "0b078054",
   "metadata": {
    "scrolled": true
   },
   "outputs": [
    {
     "data": {
      "text/plain": [
       "[<matplotlib.lines.Line2D at 0x7ff7337b2640>]"
      ]
     },
     "execution_count": 66,
     "metadata": {},
     "output_type": "execute_result"
    },
    {
     "data": {
      "image/png": "[encoded data removed]",
      "text/plain": [
       "<Figure size 1400x400 with 3 Axes>"
      ]
     },
     "metadata": {},
     "output_type": "display_data"
    }
   ],
   "source": [
    "# Make an scatter plot y_pred vs y\n",
    "# What kind of plot you will get if all the all the predictions are ok?\n",
    "# A stright line\n",
    "\n",
    "fig, ax = plt.subplots(1,3,figsize=(14,4))\n",
    "ax[0].plot(y_pred_2, y_test, 'o')\n",
    "ax[0].set_xlabel(\"y_test\")\n",
    "ax[0].set_ylabel(\"y_pred\")\n",
    "ax[0].set_title(\"Test Set -Predicted vs real\")\n",
    "\n",
    "# Get a histogram of the residuals ie: y - y_pred.  Homoscdasticity\n",
    "# It resembles a normal distribution?\n",
    "ax[1].hist((y_test) - (y_pred_2))\n",
    "ax[1].set_xlabel(\"Test y-y_pred\")\n",
    "ax[1].set_title(\"Test Set Residual histogram\")\n",
    "\n",
    "ax[2].plot(y_pred_2,y_pred_2.to_numpy()-y_test.to_numpy(),\"o\")\n",
    "ax[2].set_xlabel(\"predited\")\n",
    "ax[2].set_ylabel(\"residuals\")\n",
    "ax[2].set_title(\"Residuals by Predicted\")\n",
    "ax[2].plot(y_pred_2,np.zeros(len(y_pred_2)),linestyle='dashed')\n"
   ]
  },
  {
   "cell_type": "markdown",
   "id": "27ed16b4",
   "metadata": {},
   "source": [
    "### Model 2 with MinMaxScaler"
   ]
  },
  {
   "cell_type": "code",
   "execution_count": 67,
   "id": "4b62d6dd",
   "metadata": {},
   "outputs": [],
   "source": [
    "# Scaling\n",
    "# MinMaxScaler\n",
    "from sklearn.preprocessing import MinMaxScaler\n",
    "\n",
    "# Create an instance of the MinMaxScaler class\n",
    "scaler2 = MinMaxScaler()  "
   ]
  },
  {
   "cell_type": "code",
   "execution_count": 68,
   "id": "f81c1e0f",
   "metadata": {},
   "outputs": [],
   "source": [
    "# Fit the scaler to the X_train\n",
    "X_tr_s = scaler2.fit(X_train)"
   ]
  },
  {
   "cell_type": "code",
   "execution_count": 69,
   "id": "fbf770a2",
   "metadata": {},
   "outputs": [
    {
     "data": {
      "text/plain": [
       "array([[0.28333333, 0.4       , 0.6       , ..., 0.        , 0.97826087,\n",
       "        0.26315789],\n",
       "       [0.35      , 1.        , 0.46666667, ..., 0.        , 0.06521739,\n",
       "        0.89473684],\n",
       "       [0.21666667, 0.4       , 0.86666667, ..., 0.        , 1.        ,\n",
       "        0.31578947],\n",
       "       ...,\n",
       "       [0.3       , 0.2       , 0.66666667, ..., 1.        , 0.        ,\n",
       "        0.31578947],\n",
       "       [0.65      , 0.4       , 0.46666667, ..., 0.        , 0.        ,\n",
       "        0.42105263],\n",
       "       [0.58333333, 0.4       , 0.33333333, ..., 1.        , 0.95652174,\n",
       "        0.21052632]])"
      ]
     },
     "execution_count": 69,
     "metadata": {},
     "output_type": "execute_result"
    }
   ],
   "source": [
    "# Transform X_train using the scaler\n",
    "X_tr_s = scaler2.transform(X_train)\n",
    "X_tr_s"
   ]
  },
  {
   "cell_type": "code",
   "execution_count": 70,
   "id": "7b4766b6",
   "metadata": {},
   "outputs": [
    {
     "data": {
      "text/plain": [
       "array([[0.68333333, 0.6       , 0.2       , ..., 1.        , 0.95652174,\n",
       "        0.31578947],\n",
       "       [0.73333333, 0.4       , 0.6       , ..., 0.        , 0.91304348,\n",
       "        0.10526316],\n",
       "       [0.51666667, 0.6       , 0.46666667, ..., 0.        , 0.97826087,\n",
       "        0.36842105],\n",
       "       ...,\n",
       "       [0.53333333, 0.6       , 0.33333333, ..., 1.        , 0.95652174,\n",
       "        0.31578947],\n",
       "       [0.31666667, 0.4       , 0.53333333, ..., 0.        , 0.91304348,\n",
       "        0.10526316],\n",
       "       [0.7       , 0.6       , 0.33333333, ..., 0.        , 0.97826087,\n",
       "        0.36842105]])"
      ]
     },
     "execution_count": 70,
     "metadata": {},
     "output_type": "execute_result"
    }
   ],
   "source": [
    "# Transform X_test using the scaler\n",
    "X_te_s = scaler2.transform(X_test)\n",
    "X_te_s"
   ]
  },
  {
   "cell_type": "code",
   "execution_count": 71,
   "id": "9ca423e9",
   "metadata": {},
   "outputs": [
    {
     "name": "stdout",
     "output_type": "stream",
     "text": [
      "Coefficients: [ 0.06537184  0.01395137  0.04455299  0.15763376 -0.17238248 -0.13247844\n",
      "  0.03963985 -0.01784311  0.03066632  0.00417714 -0.00201055 -0.04509267\n",
      " -0.00461551 -0.01040372]\n",
      "Intercept: 0.7432103081561763\n"
     ]
    }
   ],
   "source": [
    "# Train model \n",
    "model_lr2 = LinearRegression ()\n",
    "model_lr2.fit(X_tr_s, y_train)\n",
    "print(f'Coefficients: {model_lr2.coef_}')\n",
    "print(f'Intercept: {model_lr2.intercept_}')"
   ]
  },
  {
   "cell_type": "code",
   "execution_count": 72,
   "id": "4afccab6",
   "metadata": {},
   "outputs": [
    {
     "name": "stdout",
     "output_type": "stream",
     "text": [
      "     sleep_efficiency\n",
      "0            0.667870\n",
      "1            0.902778\n",
      "2            0.757612\n",
      "3            0.623202\n",
      "4            0.837426\n",
      "..                ...\n",
      "131          0.495866\n",
      "132          0.868201\n",
      "133          0.899845\n",
      "134          0.856616\n",
      "135          0.916467\n",
      "\n",
      "[136 rows x 1 columns]\n"
     ]
    }
   ],
   "source": [
    "# Predictions \n",
    "y_pred_3 = pd.DataFrame(model_lr2.predict(X_te_s),columns = ['sleep_efficiency'])\n",
    "print(y_pred_3)"
   ]
  },
  {
   "cell_type": "code",
   "execution_count": 73,
   "id": "2fbde993",
   "metadata": {},
   "outputs": [
    {
     "name": "stdout",
     "output_type": "stream",
     "text": [
      "     sleep_efficiency\n",
      "0            0.736534\n",
      "1            0.907917\n",
      "2            0.756445\n",
      "3            0.579918\n",
      "4            0.849981\n",
      "..                ...\n",
      "311          0.872346\n",
      "312          0.820561\n",
      "313          0.885402\n",
      "314          0.844305\n",
      "315          0.556740\n",
      "\n",
      "[316 rows x 1 columns]\n"
     ]
    }
   ],
   "source": [
    "y_pred_train_3 =  pd.DataFrame(model_lr2.predict(X_tr_s),columns = ['sleep_efficiency'])\n",
    "print(y_pred_train_3)"
   ]
  },
  {
   "cell_type": "code",
   "execution_count": 74,
   "id": "0eeb46e9",
   "metadata": {},
   "outputs": [
    {
     "data": {
      "text/plain": [
       "0.7725698713675014"
      ]
     },
     "execution_count": 74,
     "metadata": {},
     "output_type": "execute_result"
    }
   ],
   "source": [
    "R2_2=r2_score(y_test,y_pred_3)\n",
    "R2_2"
   ]
  },
  {
   "cell_type": "code",
   "execution_count": 75,
   "id": "010c45a4",
   "metadata": {},
   "outputs": [
    {
     "data": {
      "text/html": [
       "<div>\n",
       "<style scoped>\n",
       "    .dataframe tbody tr th:only-of-type {\n",
       "        vertical-align: middle;\n",
       "    }\n",
       "\n",
       "    .dataframe tbody tr th {\n",
       "        vertical-align: top;\n",
       "    }\n",
       "\n",
       "    .dataframe thead th {\n",
       "        text-align: right;\n",
       "    }\n",
       "</style>\n",
       "<table border=\"1\" class=\"dataframe\">\n",
       "  <thead>\n",
       "    <tr style=\"text-align: right;\">\n",
       "      <th></th>\n",
       "      <th>Attribute</th>\n",
       "      <th>Importance</th>\n",
       "    </tr>\n",
       "  </thead>\n",
       "  <tbody>\n",
       "    <tr>\n",
       "      <th>3</th>\n",
       "      <td>deep_sleep_percentage</td>\n",
       "      <td>0.157634</td>\n",
       "    </tr>\n",
       "    <tr>\n",
       "      <th>0</th>\n",
       "      <td>age</td>\n",
       "      <td>0.065372</td>\n",
       "    </tr>\n",
       "    <tr>\n",
       "      <th>2</th>\n",
       "      <td>rem_sleep_percentage</td>\n",
       "      <td>0.044553</td>\n",
       "    </tr>\n",
       "    <tr>\n",
       "      <th>6</th>\n",
       "      <td>caffeine_consumption</td>\n",
       "      <td>0.039640</td>\n",
       "    </tr>\n",
       "    <tr>\n",
       "      <th>8</th>\n",
       "      <td>exercise_frequency</td>\n",
       "      <td>0.030666</td>\n",
       "    </tr>\n",
       "    <tr>\n",
       "      <th>1</th>\n",
       "      <td>sleep_duration</td>\n",
       "      <td>0.013951</td>\n",
       "    </tr>\n",
       "    <tr>\n",
       "      <th>9</th>\n",
       "      <td>month</td>\n",
       "      <td>0.004177</td>\n",
       "    </tr>\n",
       "    <tr>\n",
       "      <th>10</th>\n",
       "      <td>gender_Male</td>\n",
       "      <td>-0.002011</td>\n",
       "    </tr>\n",
       "    <tr>\n",
       "      <th>12</th>\n",
       "      <td>bedtime_hours</td>\n",
       "      <td>-0.004616</td>\n",
       "    </tr>\n",
       "    <tr>\n",
       "      <th>13</th>\n",
       "      <td>wakeup_time_hours</td>\n",
       "      <td>-0.010404</td>\n",
       "    </tr>\n",
       "    <tr>\n",
       "      <th>7</th>\n",
       "      <td>alcohol_consumption</td>\n",
       "      <td>-0.017843</td>\n",
       "    </tr>\n",
       "    <tr>\n",
       "      <th>11</th>\n",
       "      <td>smoking_status_Yes</td>\n",
       "      <td>-0.045093</td>\n",
       "    </tr>\n",
       "    <tr>\n",
       "      <th>5</th>\n",
       "      <td>awakenings</td>\n",
       "      <td>-0.132478</td>\n",
       "    </tr>\n",
       "    <tr>\n",
       "      <th>4</th>\n",
       "      <td>light_sleep_percentage</td>\n",
       "      <td>-0.172382</td>\n",
       "    </tr>\n",
       "  </tbody>\n",
       "</table>\n",
       "</div>"
      ],
      "text/plain": [
       "                 Attribute  Importance\n",
       "3    deep_sleep_percentage    0.157634\n",
       "0                      age    0.065372\n",
       "2     rem_sleep_percentage    0.044553\n",
       "6     caffeine_consumption    0.039640\n",
       "8       exercise_frequency    0.030666\n",
       "1           sleep_duration    0.013951\n",
       "9                    month    0.004177\n",
       "10             gender_Male   -0.002011\n",
       "12           bedtime_hours   -0.004616\n",
       "13       wakeup_time_hours   -0.010404\n",
       "7      alcohol_consumption   -0.017843\n",
       "11      smoking_status_Yes   -0.045093\n",
       "5               awakenings   -0.132478\n",
       "4   light_sleep_percentage   -0.172382"
      ]
     },
     "execution_count": 75,
     "metadata": {},
     "output_type": "execute_result"
    }
   ],
   "source": [
    "features_importances = pd.DataFrame(data={\n",
    "    'Attribute': X_train.columns,\n",
    "    'Importance': (model_lr2.coef_.reshape(len(X_train.columns),))\n",
    "})\n",
    "features_importances = features_importances.sort_values(by='Importance', ascending=False)\n",
    "features_importances"
   ]
  },
  {
   "cell_type": "code",
   "execution_count": 76,
   "id": "8d5aa051",
   "metadata": {
    "scrolled": true
   },
   "outputs": [
    {
     "data": {
      "image/png": "[encoded data removed]",
      "text/plain": [
       "<Figure size 640x480 with 1 Axes>"
      ]
     },
     "metadata": {},
     "output_type": "display_data"
    }
   ],
   "source": [
    "plt.bar(x=features_importances['Attribute'].iloc[:15], height=features_importances['Importance'].iloc[:15], color='#087E8B')\n",
    "plt.title ('Feature importance rankings', size=12)\n",
    "plt.xticks(rotation='vertical')\n",
    "plt.show()"
   ]
  },
  {
   "cell_type": "markdown",
   "id": "c9a14794",
   "metadata": {},
   "source": [
    "### Model 3 with Transformed Target Variable"
   ]
  },
  {
   "cell_type": "code",
   "execution_count": 77,
   "id": "069d2984",
   "metadata": {},
   "outputs": [],
   "source": [
    "TT_RATIO = 0.3 \n",
    "RAND_STATE = 35 # for reproducible shuffling"
   ]
  },
  {
   "cell_type": "code",
   "execution_count": 78,
   "id": "cc9d8c80",
   "metadata": {},
   "outputs": [],
   "source": [
    "# Y/Y Split\n",
    "X = sleepy_df.drop('sleep_efficiency', axis=1)\n",
    "y = sleepy_df.sleep_efficiency"
   ]
  },
  {
   "cell_type": "code",
   "execution_count": 79,
   "id": "8a28edfd",
   "metadata": {},
   "outputs": [
    {
     "data": {
      "text/html": [
       "<div>\n",
       "<style scoped>\n",
       "    .dataframe tbody tr th:only-of-type {\n",
       "        vertical-align: middle;\n",
       "    }\n",
       "\n",
       "    .dataframe tbody tr th {\n",
       "        vertical-align: top;\n",
       "    }\n",
       "\n",
       "    .dataframe thead th {\n",
       "        text-align: right;\n",
       "    }\n",
       "</style>\n",
       "<table border=\"1\" class=\"dataframe\">\n",
       "  <thead>\n",
       "    <tr style=\"text-align: right;\">\n",
       "      <th></th>\n",
       "      <th>age</th>\n",
       "      <th>sleep_duration</th>\n",
       "      <th>rem_sleep_percentage</th>\n",
       "      <th>deep_sleep_percentage</th>\n",
       "      <th>light_sleep_percentage</th>\n",
       "      <th>awakenings</th>\n",
       "      <th>caffeine_consumption</th>\n",
       "      <th>alcohol_consumption</th>\n",
       "      <th>exercise_frequency</th>\n",
       "      <th>month</th>\n",
       "      <th>gender_Male</th>\n",
       "      <th>smoking_status_Yes</th>\n",
       "      <th>bedtime_hours</th>\n",
       "      <th>wakeup_time_hours</th>\n",
       "    </tr>\n",
       "  </thead>\n",
       "  <tbody>\n",
       "    <tr>\n",
       "      <th>229</th>\n",
       "      <td>26</td>\n",
       "      <td>7.0</td>\n",
       "      <td>24</td>\n",
       "      <td>56</td>\n",
       "      <td>20</td>\n",
       "      <td>4.0</td>\n",
       "      <td>0.000000</td>\n",
       "      <td>0.000000</td>\n",
       "      <td>3.0</td>\n",
       "      <td>3</td>\n",
       "      <td>1</td>\n",
       "      <td>0</td>\n",
       "      <td>22.5</td>\n",
       "      <td>5.5</td>\n",
       "    </tr>\n",
       "    <tr>\n",
       "      <th>363</th>\n",
       "      <td>30</td>\n",
       "      <td>10.0</td>\n",
       "      <td>22</td>\n",
       "      <td>65</td>\n",
       "      <td>13</td>\n",
       "      <td>0.0</td>\n",
       "      <td>25.000000</td>\n",
       "      <td>1.000000</td>\n",
       "      <td>0.0</td>\n",
       "      <td>11</td>\n",
       "      <td>0</td>\n",
       "      <td>0</td>\n",
       "      <td>1.5</td>\n",
       "      <td>11.5</td>\n",
       "    </tr>\n",
       "    <tr>\n",
       "      <th>215</th>\n",
       "      <td>22</td>\n",
       "      <td>7.0</td>\n",
       "      <td>28</td>\n",
       "      <td>60</td>\n",
       "      <td>12</td>\n",
       "      <td>4.0</td>\n",
       "      <td>23.653396</td>\n",
       "      <td>5.000000</td>\n",
       "      <td>1.0</td>\n",
       "      <td>5</td>\n",
       "      <td>0</td>\n",
       "      <td>0</td>\n",
       "      <td>23.0</td>\n",
       "      <td>6.0</td>\n",
       "    </tr>\n",
       "    <tr>\n",
       "      <th>211</th>\n",
       "      <td>10</td>\n",
       "      <td>7.0</td>\n",
       "      <td>18</td>\n",
       "      <td>35</td>\n",
       "      <td>47</td>\n",
       "      <td>3.0</td>\n",
       "      <td>0.000000</td>\n",
       "      <td>0.000000</td>\n",
       "      <td>0.0</td>\n",
       "      <td>7</td>\n",
       "      <td>0</td>\n",
       "      <td>0</td>\n",
       "      <td>1.0</td>\n",
       "      <td>8.0</td>\n",
       "    </tr>\n",
       "    <tr>\n",
       "      <th>395</th>\n",
       "      <td>56</td>\n",
       "      <td>8.0</td>\n",
       "      <td>27</td>\n",
       "      <td>55</td>\n",
       "      <td>18</td>\n",
       "      <td>2.0</td>\n",
       "      <td>0.000000</td>\n",
       "      <td>1.173516</td>\n",
       "      <td>3.0</td>\n",
       "      <td>12</td>\n",
       "      <td>1</td>\n",
       "      <td>0</td>\n",
       "      <td>21.5</td>\n",
       "      <td>5.5</td>\n",
       "    </tr>\n",
       "  </tbody>\n",
       "</table>\n",
       "</div>"
      ],
      "text/plain": [
       "     age  sleep_duration  rem_sleep_percentage  deep_sleep_percentage  \\\n",
       "229   26             7.0                    24                     56   \n",
       "363   30            10.0                    22                     65   \n",
       "215   22             7.0                    28                     60   \n",
       "211   10             7.0                    18                     35   \n",
       "395   56             8.0                    27                     55   \n",
       "\n",
       "     light_sleep_percentage  awakenings  caffeine_consumption  \\\n",
       "229                      20         4.0              0.000000   \n",
       "363                      13         0.0             25.000000   \n",
       "215                      12         4.0             23.653396   \n",
       "211                      47         3.0              0.000000   \n",
       "395                      18         2.0              0.000000   \n",
       "\n",
       "     alcohol_consumption  exercise_frequency  month  gender_Male  \\\n",
       "229             0.000000                 3.0      3            1   \n",
       "363             1.000000                 0.0     11            0   \n",
       "215             5.000000                 1.0      5            0   \n",
       "211             0.000000                 0.0      7            0   \n",
       "395             1.173516                 3.0     12            1   \n",
       "\n",
       "     smoking_status_Yes  bedtime_hours  wakeup_time_hours  \n",
       "229                   0           22.5                5.5  \n",
       "363                   0            1.5               11.5  \n",
       "215                   0           23.0                6.0  \n",
       "211                   0            1.0                8.0  \n",
       "395                   0           21.5                5.5  "
      ]
     },
     "execution_count": 79,
     "metadata": {},
     "output_type": "execute_result"
    }
   ],
   "source": [
    "# Train/ Test Split\n",
    "from sklearn.model_selection import train_test_split\n",
    "X_tra, X_te, y_tra, y_te = train_test_split(X, y, test_size=TT_RATIO, random_state=RAND_STATE)\n",
    "X_tra = pd.DataFrame(X_tra)\n",
    "X_te = pd.DataFrame(X_te)\n",
    "X_train.head()"
   ]
  },
  {
   "cell_type": "code",
   "execution_count": 80,
   "id": "3397374a",
   "metadata": {},
   "outputs": [
    {
     "data": {
      "text/plain": [
       "PowerTransformer()"
      ]
     },
     "execution_count": 80,
     "metadata": {},
     "output_type": "execute_result"
    }
   ],
   "source": [
    "# Scaling\n",
    "# PowerTransform\n",
    "# Fit the scaler to the X_train\n",
    "pt.fit(X_tra)"
   ]
  },
  {
   "cell_type": "code",
   "execution_count": 81,
   "id": "6399b4a3",
   "metadata": {
    "scrolled": true
   },
   "outputs": [],
   "source": [
    "# Transform X_train using the scaler\n",
    "X_tra_scaled = pt.transform(X_tra)"
   ]
  },
  {
   "cell_type": "code",
   "execution_count": 82,
   "id": "62841edd",
   "metadata": {},
   "outputs": [],
   "source": [
    "# Transform X_test using the scaler\n",
    "X_te_scaled = pt.transform(X_te)"
   ]
  },
  {
   "cell_type": "code",
   "execution_count": 83,
   "id": "2c4f5fa3",
   "metadata": {},
   "outputs": [],
   "source": [
    "# Before fiting we need to make y_train and y_test a DataFrame\n",
    "y_tra = pd.DataFrame(y_tra)"
   ]
  },
  {
   "cell_type": "code",
   "execution_count": 84,
   "id": "a5ffb2aa",
   "metadata": {},
   "outputs": [],
   "source": [
    "y_te = pd.DataFrame(y_te)"
   ]
  },
  {
   "cell_type": "code",
   "execution_count": 85,
   "id": "eea645df",
   "metadata": {},
   "outputs": [
    {
     "data": {
      "text/plain": [
       "PowerTransformer()"
      ]
     },
     "execution_count": 85,
     "metadata": {},
     "output_type": "execute_result"
    }
   ],
   "source": [
    "# Fit the scaler to the Y_train\n",
    "pt.fit(y_tra)"
   ]
  },
  {
   "cell_type": "code",
   "execution_count": 86,
   "id": "fe379225",
   "metadata": {},
   "outputs": [],
   "source": [
    "# Transform y_train using the scaler\n",
    "y_tra_scaled = pt.transform(y_tra)"
   ]
  },
  {
   "cell_type": "code",
   "execution_count": 87,
   "id": "862cc271",
   "metadata": {},
   "outputs": [],
   "source": [
    "# Transform y_test using the scaler\n",
    "y_te_scaled = pt.transform(y_te)"
   ]
  },
  {
   "cell_type": "code",
   "execution_count": 88,
   "id": "0bef4650",
   "metadata": {},
   "outputs": [
    {
     "name": "stdout",
     "output_type": "stream",
     "text": [
      "Coefficients: [[ 0.05961977  0.06379105  0.29911154  0.88495893  0.3283736  -0.43958528\n",
      "   0.00948709 -0.07254323  0.05476188  0.02398926 -0.01669819 -0.10266092\n",
      "  -0.03783174 -0.05438507]]\n",
      "Intercept: [-5.52494152e-17]\n"
     ]
    }
   ],
   "source": [
    "# Train model \n",
    "from sklearn.linear_model import LinearRegression\n",
    "model_lr4 = LinearRegression ()\n",
    "model_lr4.fit(X_tra_scaled, y_tra_scaled)\n",
    "print(f'Coefficients: {model_lr4.coef_}')\n",
    "print(f'Intercept: {model_lr4.intercept_}')"
   ]
  },
  {
   "cell_type": "code",
   "execution_count": 89,
   "id": "15a029fa",
   "metadata": {},
   "outputs": [],
   "source": [
    "# Predictions \n",
    "y_pred_4 = pd.DataFrame(model_lr4.predict(X_tra_scaled),columns = ['sleep_efficiency'])"
   ]
  },
  {
   "cell_type": "code",
   "execution_count": 90,
   "id": "8e0698b5",
   "metadata": {},
   "outputs": [],
   "source": [
    "y_pred_train_4 =  pd.DataFrame(model_lr4.predict(X_tra_scaled),columns = ['sleep_efficiency'])"
   ]
  },
  {
   "cell_type": "code",
   "execution_count": 91,
   "id": "0fb2d759",
   "metadata": {},
   "outputs": [],
   "source": [
    "y_test = y_test.reset_index(drop=True)"
   ]
  },
  {
   "cell_type": "code",
   "execution_count": 92,
   "id": "418f7454",
   "metadata": {},
   "outputs": [
    {
     "data": {
      "text/plain": [
       "0.7610274114638825"
      ]
     },
     "execution_count": 92,
     "metadata": {},
     "output_type": "execute_result"
    }
   ],
   "source": [
    "R2_3=r2_score(y_tra_scaled,y_pred_4)\n",
    "R2_3"
   ]
  },
  {
   "cell_type": "code",
   "execution_count": null,
   "id": "6400fab9",
   "metadata": {},
   "outputs": [],
   "source": []
  }
 ],
 "metadata": {
  "kernelspec": {
   "display_name": "Python 3 (ipykernel)",
   "language": "python",
   "name": "python3"
  },
  "language_info": {
   "codemirror_mode": {
    "name": "ipython",
    "version": 3
   },
   "file_extension": ".py",
   "mimetype": "text/x-python",
   "name": "python",
   "nbconvert_exporter": "python",
   "pygments_lexer": "ipython3",
   "version": "3.9.13"
  }
 },
 "nbformat": 4,
 "nbformat_minor": 5
}
