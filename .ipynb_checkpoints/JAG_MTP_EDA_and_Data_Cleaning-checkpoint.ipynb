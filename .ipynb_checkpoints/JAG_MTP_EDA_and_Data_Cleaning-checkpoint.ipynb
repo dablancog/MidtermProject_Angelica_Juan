{
 "cells": [
  {
   "cell_type": "markdown",
   "id": "2a4b225b",
   "metadata": {},
   "source": [
    "# Sleep Efficiency Dataset\n",
    "\n",
<<<<<<< Updated upstream
    "## Day 1: EDA and Data Cleaning\n",
=======
    "### EDA and Data Cleaning\n",
>>>>>>> Stashed changes
    "\n"
   ]
  },
  {
   "cell_type": "code",
<<<<<<< Updated upstream
   "execution_count": 52,
=======
   "execution_count": 1,
>>>>>>> Stashed changes
   "id": "806486bd",
   "metadata": {},
   "outputs": [],
   "source": [
    "# Loading packages that we need\n",
    "import numpy as np\n",
    "import pandas as pd\n",
    "import matplotlib.pyplot as plt\n",
    "import seaborn as sns\n",
    "%matplotlib inline\n",
    "from sklearn.preprocessing import PowerTransformer, StandardScaler, minmax_scale\n",
    "from sklearn.model_selection import train_test_split\n",
    "from sklearn.linear_model import LinearRegression\n",
    "import statsmodels.api as sm\n",
    "from sklearn.metrics import r2_score\n",
    "from sklearn.metrics import mean_squared_error as mse\n",
    "from sklearn.metrics import mean_absolute_error as mae"
   ]
  },
  {
   "cell_type": "markdown",
   "id": "ec63a4ec",
   "metadata": {},
   "source": [
    "### Loading & Analyzing the data"
   ]
  },
  {
   "cell_type": "code",
<<<<<<< Updated upstream
   "execution_count": 53,
=======
   "execution_count": 2,
>>>>>>> Stashed changes
   "id": "ec954418",
   "metadata": {},
   "outputs": [
    {
     "data": {
      "text/html": [
       "<div>\n",
       "<style scoped>\n",
       "    .dataframe tbody tr th:only-of-type {\n",
       "        vertical-align: middle;\n",
       "    }\n",
       "\n",
       "    .dataframe tbody tr th {\n",
       "        vertical-align: top;\n",
       "    }\n",
       "\n",
       "    .dataframe thead th {\n",
       "        text-align: right;\n",
       "    }\n",
       "</style>\n",
       "<table border=\"1\" class=\"dataframe\">\n",
       "  <thead>\n",
       "    <tr style=\"text-align: right;\">\n",
       "      <th></th>\n",
       "      <th>ID</th>\n",
       "      <th>Age</th>\n",
       "      <th>Gender</th>\n",
       "      <th>Bedtime</th>\n",
       "      <th>Wakeup time</th>\n",
       "      <th>Sleep duration</th>\n",
       "      <th>Sleep efficiency</th>\n",
       "      <th>REM sleep percentage</th>\n",
       "      <th>Deep sleep percentage</th>\n",
       "      <th>Light sleep percentage</th>\n",
       "      <th>Awakenings</th>\n",
       "      <th>Caffeine consumption</th>\n",
       "      <th>Alcohol consumption</th>\n",
       "      <th>Smoking status</th>\n",
       "      <th>Exercise frequency</th>\n",
       "    </tr>\n",
       "  </thead>\n",
       "  <tbody>\n",
       "    <tr>\n",
       "      <th>0</th>\n",
       "      <td>1</td>\n",
       "      <td>65</td>\n",
       "      <td>Female</td>\n",
       "      <td>2021-03-06 01:00:00</td>\n",
       "      <td>2021-03-06 07:00:00</td>\n",
       "      <td>6.0</td>\n",
       "      <td>0.88</td>\n",
       "      <td>18</td>\n",
       "      <td>70</td>\n",
       "      <td>12</td>\n",
       "      <td>0.0</td>\n",
       "      <td>0.0</td>\n",
       "      <td>0.0</td>\n",
       "      <td>Yes</td>\n",
       "      <td>3.0</td>\n",
       "    </tr>\n",
       "    <tr>\n",
       "      <th>1</th>\n",
       "      <td>2</td>\n",
       "      <td>69</td>\n",
       "      <td>Male</td>\n",
       "      <td>2021-12-05 02:00:00</td>\n",
       "      <td>2021-12-05 09:00:00</td>\n",
       "      <td>7.0</td>\n",
       "      <td>0.66</td>\n",
       "      <td>19</td>\n",
       "      <td>28</td>\n",
       "      <td>53</td>\n",
       "      <td>3.0</td>\n",
       "      <td>0.0</td>\n",
       "      <td>3.0</td>\n",
       "      <td>Yes</td>\n",
       "      <td>3.0</td>\n",
       "    </tr>\n",
       "    <tr>\n",
       "      <th>2</th>\n",
       "      <td>3</td>\n",
       "      <td>40</td>\n",
       "      <td>Female</td>\n",
       "      <td>2021-05-25 21:30:00</td>\n",
       "      <td>2021-05-25 05:30:00</td>\n",
       "      <td>8.0</td>\n",
       "      <td>0.89</td>\n",
       "      <td>20</td>\n",
       "      <td>70</td>\n",
       "      <td>10</td>\n",
       "      <td>1.0</td>\n",
       "      <td>0.0</td>\n",
       "      <td>0.0</td>\n",
       "      <td>No</td>\n",
       "      <td>3.0</td>\n",
       "    </tr>\n",
       "  </tbody>\n",
       "</table>\n",
       "</div>"
      ],
      "text/plain": [
       "   ID  Age  Gender              Bedtime          Wakeup time  Sleep duration  \\\n",
       "0   1   65  Female  2021-03-06 01:00:00  2021-03-06 07:00:00             6.0   \n",
       "1   2   69    Male  2021-12-05 02:00:00  2021-12-05 09:00:00             7.0   \n",
       "2   3   40  Female  2021-05-25 21:30:00  2021-05-25 05:30:00             8.0   \n",
       "\n",
       "   Sleep efficiency  REM sleep percentage  Deep sleep percentage  \\\n",
       "0              0.88                    18                     70   \n",
       "1              0.66                    19                     28   \n",
       "2              0.89                    20                     70   \n",
       "\n",
       "   Light sleep percentage  Awakenings  Caffeine consumption  \\\n",
       "0                      12         0.0                   0.0   \n",
       "1                      53         3.0                   0.0   \n",
       "2                      10         1.0                   0.0   \n",
       "\n",
       "   Alcohol consumption Smoking status  Exercise frequency  \n",
       "0                  0.0            Yes                 3.0  \n",
       "1                  3.0            Yes                 3.0  \n",
       "2                  0.0             No                 3.0  "
      ]
     },
<<<<<<< Updated upstream
     "execution_count": 53,
=======
     "execution_count": 2,
>>>>>>> Stashed changes
     "metadata": {},
     "output_type": "execute_result"
    }
   ],
   "source": [
    "# Loading data\n",
    "sleepy_df = pd.read_csv('Sleep_Efficiency.csv')\n",
    "sleepy_df.head(3)"
   ]
  },
  {
   "cell_type": "code",
<<<<<<< Updated upstream
   "execution_count": 54,
=======
   "execution_count": 3,
>>>>>>> Stashed changes
   "id": "792d1fab",
   "metadata": {},
   "outputs": [
    {
     "data": {
      "text/plain": [
       "Index(['ID', 'Age', 'Gender', 'Bedtime', 'Wakeup time', 'Sleep duration',\n",
       "       'Sleep efficiency', 'REM sleep percentage', 'Deep sleep percentage',\n",
       "       'Light sleep percentage', 'Awakenings', 'Caffeine consumption',\n",
       "       'Alcohol consumption', 'Smoking status', 'Exercise frequency'],\n",
       "      dtype='object')"
      ]
     },
<<<<<<< Updated upstream
     "execution_count": 54,
=======
     "execution_count": 3,
>>>>>>> Stashed changes
     "metadata": {},
     "output_type": "execute_result"
    }
   ],
   "source": [
    "# Analyzing the columns\n",
    "sleepy_df.columns.unique()"
   ]
  },
  {
   "cell_type": "code",
<<<<<<< Updated upstream
   "execution_count": 55,
=======
   "execution_count": 4,
>>>>>>> Stashed changes
   "id": "fb6cb272",
   "metadata": {
    "scrolled": true
   },
   "outputs": [
    {
     "name": "stdout",
     "output_type": "stream",
     "text": [
      "<class 'pandas.core.frame.DataFrame'>\n",
      "RangeIndex: 452 entries, 0 to 451\n",
      "Data columns (total 15 columns):\n",
      " #   Column                  Non-Null Count  Dtype  \n",
      "---  ------                  --------------  -----  \n",
      " 0   ID                      452 non-null    int64  \n",
      " 1   Age                     452 non-null    int64  \n",
      " 2   Gender                  452 non-null    object \n",
      " 3   Bedtime                 452 non-null    object \n",
      " 4   Wakeup time             452 non-null    object \n",
      " 5   Sleep duration          452 non-null    float64\n",
      " 6   Sleep efficiency        452 non-null    float64\n",
      " 7   REM sleep percentage    452 non-null    int64  \n",
      " 8   Deep sleep percentage   452 non-null    int64  \n",
      " 9   Light sleep percentage  452 non-null    int64  \n",
      " 10  Awakenings              432 non-null    float64\n",
      " 11  Caffeine consumption    427 non-null    float64\n",
      " 12  Alcohol consumption     438 non-null    float64\n",
      " 13  Smoking status          452 non-null    object \n",
      " 14  Exercise frequency      446 non-null    float64\n",
      "dtypes: float64(6), int64(5), object(4)\n",
      "memory usage: 53.1+ KB\n"
     ]
    }
   ],
   "source": [
    "# Analyzing the data type and number of NaNs\n",
    "sleepy_df.info()"
   ]
  },
  {
   "cell_type": "code",
<<<<<<< Updated upstream
   "execution_count": 56,
=======
   "execution_count": 5,
>>>>>>> Stashed changes
   "id": "853311e7",
   "metadata": {},
   "outputs": [
    {
     "name": "stdout",
     "output_type": "stream",
     "text": [
      "ID                         0\n",
      "Age                        0\n",
      "Gender                     0\n",
      "Bedtime                    0\n",
      "Wakeup time                0\n",
      "Sleep duration             0\n",
      "Sleep efficiency           0\n",
      "REM sleep percentage       0\n",
      "Deep sleep percentage      0\n",
      "Light sleep percentage     0\n",
      "Awakenings                20\n",
      "Caffeine consumption      25\n",
      "Alcohol consumption       14\n",
      "Smoking status             0\n",
      "Exercise frequency         6\n",
      "dtype: int64\n"
     ]
    }
   ],
   "source": [
    "nancount = sleepy_df.isna().sum()\n",
    "print(nancount)"
   ]
  },
  {
   "cell_type": "code",
<<<<<<< Updated upstream
   "execution_count": 57,
=======
   "execution_count": 6,
>>>>>>> Stashed changes
   "id": "197aa4c2",
   "metadata": {},
   "outputs": [
    {
     "name": "stdout",
     "output_type": "stream",
     "text": [
      "0\n"
     ]
    }
   ],
   "source": [
    "# How many duplicates are present\n",
    "print(sleepy_df.duplicated().sum())"
   ]
  },
  {
   "cell_type": "markdown",
   "id": "84e68412",
   "metadata": {},
   "source": [
    "### Uniforming the columns"
   ]
  },
  {
   "cell_type": "code",
<<<<<<< Updated upstream
   "execution_count": 58,
=======
   "execution_count": 7,
>>>>>>> Stashed changes
   "id": "251ea217",
   "metadata": {},
   "outputs": [],
   "source": [
    "#Lower case all the columns\n",
    "def lower_case_column_names():\n",
    "    sleepy_df.columns=[i.lower() for i in sleepy_df.columns]\n",
    "    return sleepy_df"
   ]
  },
  {
   "cell_type": "code",
<<<<<<< Updated upstream
   "execution_count": 59,
=======
   "execution_count": 8,
>>>>>>> Stashed changes
   "id": "9700dfcc",
   "metadata": {},
   "outputs": [],
   "source": [
    "sleepy_df = lower_case_column_names()"
   ]
  },
  {
   "cell_type": "code",
<<<<<<< Updated upstream
   "execution_count": 60,
=======
   "execution_count": 9,
>>>>>>> Stashed changes
   "id": "f95d53ef",
   "metadata": {},
   "outputs": [
    {
     "data": {
      "text/html": [
       "<div>\n",
       "<style scoped>\n",
       "    .dataframe tbody tr th:only-of-type {\n",
       "        vertical-align: middle;\n",
       "    }\n",
       "\n",
       "    .dataframe tbody tr th {\n",
       "        vertical-align: top;\n",
       "    }\n",
       "\n",
       "    .dataframe thead th {\n",
       "        text-align: right;\n",
       "    }\n",
       "</style>\n",
       "<table border=\"1\" class=\"dataframe\">\n",
       "  <thead>\n",
       "    <tr style=\"text-align: right;\">\n",
       "      <th></th>\n",
       "      <th>id</th>\n",
       "      <th>age</th>\n",
       "      <th>gender</th>\n",
       "      <th>bedtime</th>\n",
       "      <th>wakeup_time</th>\n",
       "      <th>sleep_duration</th>\n",
       "      <th>sleep_efficiency</th>\n",
       "      <th>rem_sleep_percentage</th>\n",
       "      <th>deep_sleep_percentage</th>\n",
       "      <th>light_sleep_percentage</th>\n",
       "      <th>awakenings</th>\n",
       "      <th>caffeine_consumption</th>\n",
       "      <th>alcohol_consumption</th>\n",
       "      <th>smoking_status</th>\n",
       "      <th>exercise_frequency</th>\n",
       "    </tr>\n",
       "  </thead>\n",
       "  <tbody>\n",
       "    <tr>\n",
       "      <th>0</th>\n",
       "      <td>1</td>\n",
       "      <td>65</td>\n",
       "      <td>Female</td>\n",
       "      <td>2021-03-06 01:00:00</td>\n",
       "      <td>2021-03-06 07:00:00</td>\n",
       "      <td>6.0</td>\n",
       "      <td>0.88</td>\n",
       "      <td>18</td>\n",
       "      <td>70</td>\n",
       "      <td>12</td>\n",
       "      <td>0.0</td>\n",
       "      <td>0.0</td>\n",
       "      <td>0.0</td>\n",
       "      <td>Yes</td>\n",
       "      <td>3.0</td>\n",
       "    </tr>\n",
       "    <tr>\n",
       "      <th>1</th>\n",
       "      <td>2</td>\n",
       "      <td>69</td>\n",
       "      <td>Male</td>\n",
       "      <td>2021-12-05 02:00:00</td>\n",
       "      <td>2021-12-05 09:00:00</td>\n",
       "      <td>7.0</td>\n",
       "      <td>0.66</td>\n",
       "      <td>19</td>\n",
       "      <td>28</td>\n",
       "      <td>53</td>\n",
       "      <td>3.0</td>\n",
       "      <td>0.0</td>\n",
       "      <td>3.0</td>\n",
       "      <td>Yes</td>\n",
       "      <td>3.0</td>\n",
       "    </tr>\n",
       "    <tr>\n",
       "      <th>2</th>\n",
       "      <td>3</td>\n",
       "      <td>40</td>\n",
       "      <td>Female</td>\n",
       "      <td>2021-05-25 21:30:00</td>\n",
       "      <td>2021-05-25 05:30:00</td>\n",
       "      <td>8.0</td>\n",
       "      <td>0.89</td>\n",
       "      <td>20</td>\n",
       "      <td>70</td>\n",
       "      <td>10</td>\n",
       "      <td>1.0</td>\n",
       "      <td>0.0</td>\n",
       "      <td>0.0</td>\n",
       "      <td>No</td>\n",
       "      <td>3.0</td>\n",
       "    </tr>\n",
       "  </tbody>\n",
       "</table>\n",
       "</div>"
      ],
      "text/plain": [
       "   id  age  gender              bedtime          wakeup_time  sleep_duration  \\\n",
       "0   1   65  Female  2021-03-06 01:00:00  2021-03-06 07:00:00             6.0   \n",
       "1   2   69    Male  2021-12-05 02:00:00  2021-12-05 09:00:00             7.0   \n",
       "2   3   40  Female  2021-05-25 21:30:00  2021-05-25 05:30:00             8.0   \n",
       "\n",
       "   sleep_efficiency  rem_sleep_percentage  deep_sleep_percentage  \\\n",
       "0              0.88                    18                     70   \n",
       "1              0.66                    19                     28   \n",
       "2              0.89                    20                     70   \n",
       "\n",
       "   light_sleep_percentage  awakenings  caffeine_consumption  \\\n",
       "0                      12         0.0                   0.0   \n",
       "1                      53         3.0                   0.0   \n",
       "2                      10         1.0                   0.0   \n",
       "\n",
       "   alcohol_consumption smoking_status  exercise_frequency  \n",
       "0                  0.0            Yes                 3.0  \n",
       "1                  3.0            Yes                 3.0  \n",
       "2                  0.0             No                 3.0  "
      ]
     },
<<<<<<< Updated upstream
     "execution_count": 60,
=======
     "execution_count": 9,
>>>>>>> Stashed changes
     "metadata": {},
     "output_type": "execute_result"
    }
   ],
   "source": [
    "# Renaming the columns with underscores \n",
    "def rename_columns(sleepy_df):\n",
    "    sleepy_df.rename(columns={'wakeup time':'wakeup_time', 'sleep duration':'sleep_duration',\n",
    "                              'sleep efficiency':'sleep_efficiency', 'rem sleep percentage':'rem_sleep_percentage',\n",
    "                             'deep sleep percentage':'deep_sleep_percentage','light sleep percentage':'light_sleep_percentage',\n",
    "                             'caffeine consumption':'caffeine_consumption', 'alcohol consumption':'alcohol_consumption',\n",
    "                             'smoking status':'smoking_status','exercise frequency':'exercise_frequency'}, inplace=True )\n",
    "    return sleepy_df\n",
    "sleepy_df=rename_columns(sleepy_df)\n",
    "\n",
    "sleepy_df.head(3)"
   ]
  },
  {
   "cell_type": "code",
<<<<<<< Updated upstream
   "execution_count": 61,
=======
   "execution_count": 10,
>>>>>>> Stashed changes
   "id": "b8eb0779",
   "metadata": {},
   "outputs": [
    {
     "data": {
      "text/plain": [
       "array(['Female', 'Male'], dtype=object)"
      ]
     },
<<<<<<< Updated upstream
     "execution_count": 61,
=======
     "execution_count": 10,
>>>>>>> Stashed changes
     "metadata": {},
     "output_type": "execute_result"
    }
   ],
   "source": [
    "# Checking for typos in text columns\n",
    "sleepy_df['gender'].unique()"
   ]
  },
  {
   "cell_type": "code",
<<<<<<< Updated upstream
   "execution_count": 62,
=======
   "execution_count": 11,
>>>>>>> Stashed changes
   "id": "618cc264",
   "metadata": {},
   "outputs": [
    {
     "data": {
      "text/plain": [
       "array(['Yes', 'No'], dtype=object)"
      ]
     },
<<<<<<< Updated upstream
     "execution_count": 62,
=======
     "execution_count": 11,
>>>>>>> Stashed changes
     "metadata": {},
     "output_type": "execute_result"
    }
   ],
   "source": [
    "sleepy_df['smoking_status'].unique()"
   ]
  },
  {
   "cell_type": "code",
<<<<<<< Updated upstream
   "execution_count": 63,
=======
   "execution_count": 12,
>>>>>>> Stashed changes
   "id": "d0e462a5",
   "metadata": {},
   "outputs": [],
   "source": [
    "# Calculating the mean of every column, which contains NaNs. \n",
    "# These values will be later used for substituting the NaNs with the respective mean of the respective column\n",
    "\n",
    "def mean_without_nans(sleepy_df, column_name):\n",
    "\n",
    "# Get the column as a pandas Series\n",
    "    column = sleepy_df[column_name]\n",
    "    \n",
    "# Initialize a sum (=total) and a count\n",
    "    total = 0\n",
    "    count = 0\n",
    "    \n",
    "# Loop over the values in the column\n",
    "    for value in column.values:\n",
    "        if pd.notnull(value):\n",
    "            total += value\n",
    "            count += 1\n",
    "    \n",
    "# Return the mean of the non-NaN values\n",
    "    return total / count if count != 0 else float(\"nan\")\n"
   ]
  },
  {
   "cell_type": "code",
<<<<<<< Updated upstream
   "execution_count": 86,
=======
   "execution_count": 13,
>>>>>>> Stashed changes
   "id": "b7caf340",
   "metadata": {},
   "outputs": [
    {
     "name": "stdout",
     "output_type": "stream",
     "text": [
<<<<<<< Updated upstream
      "mean_awakenings:  1.6412037037037033 mean_caffeine_consumption:  23.653395784543328 mean_alcohol_consumption:  1.1735159817351595 mean_exercise_frequency:  1.7914798206278029\n"
=======
      "mean_awakenings:  1.6412037037037037 mean_caffeine_consumption:  23.653395784543324 mean_alcohol_consumption:  1.17351598173516 mean_exercise_frequency:  1.7914798206278026\n"
>>>>>>> Stashed changes
     ]
    }
   ],
   "source": [
    "# Call the mean_without_nans function on column with nans\n",
    "mean_awakenings = mean_without_nans(sleepy_df, 'awakenings')\n",
    "mean_caffeine_consumption = mean_without_nans(sleepy_df, 'caffeine_consumption')\n",
    "mean_alcohol_consumption = mean_without_nans(sleepy_df, 'alcohol_consumption')\n",
    "mean_exercise_frequency = mean_without_nans(sleepy_df, 'exercise_frequency')\n",
    "print ('mean_awakenings: ', mean_awakenings, \\\n",
    "      'mean_caffeine_consumption: ', mean_caffeine_consumption, \\\n",
    "      'mean_alcohol_consumption: ', mean_alcohol_consumption, \\\n",
    "      'mean_exercise_frequency: ', mean_exercise_frequency)"
   ]
  },
  {
   "cell_type": "code",
<<<<<<< Updated upstream
   "execution_count": 76,
=======
   "execution_count": 14,
>>>>>>> Stashed changes
   "id": "e1bacd6c",
   "metadata": {},
   "outputs": [],
   "source": [
    "# Fill nans with the mean. We asume the person consumes an average amount of coffe & alcohol, plus they have \n",
    "# an average amount of sport-time and awakenings during the night.\n",
    "\n",
    "sleepy_df['awakenings'] = sleepy_df[['awakenings']].fillna(mean_awakenings) #imputation "
   ]
  },
  {
   "cell_type": "code",
<<<<<<< Updated upstream
   "execution_count": 77,
   "id": "af95be7b",
   "metadata": {
    "collapsed": true
   },
=======
   "execution_count": 15,
   "id": "af95be7b",
   "metadata": {},
>>>>>>> Stashed changes
   "outputs": [
    {
     "data": {
      "text/plain": [
       "array([0.       , 3.       , 1.       , 2.       , 4.       , 1.6412037])"
      ]
     },
<<<<<<< Updated upstream
     "execution_count": 77,
=======
     "execution_count": 15,
>>>>>>> Stashed changes
     "metadata": {},
     "output_type": "execute_result"
    }
   ],
   "source": [
    "# Controling if the values are being replaced\n",
    "sleepy_df['awakenings'].unique()"
   ]
  },
  {
   "cell_type": "code",
<<<<<<< Updated upstream
   "execution_count": 78,
=======
   "execution_count": 16,
>>>>>>> Stashed changes
   "id": "7bd7c68c",
   "metadata": {},
   "outputs": [],
   "source": [
    "sleepy_df['caffeine_consumption'] = sleepy_df[['caffeine_consumption']].fillna(mean_caffeine_consumption)"
   ]
  },
  {
   "cell_type": "code",
<<<<<<< Updated upstream
   "execution_count": 79,
   "id": "fc3232ae",
   "metadata": {
    "collapsed": true
   },
=======
   "execution_count": 17,
   "id": "fc3232ae",
   "metadata": {},
>>>>>>> Stashed changes
   "outputs": [
    {
     "data": {
      "text/plain": [
       "array([  0.        ,  50.        ,  23.65339578,  25.        ,\n",
       "        75.        , 200.        , 100.        ])"
      ]
     },
<<<<<<< Updated upstream
     "execution_count": 79,
=======
     "execution_count": 17,
>>>>>>> Stashed changes
     "metadata": {},
     "output_type": "execute_result"
    }
   ],
   "source": [
    "sleepy_df['caffeine_consumption'].unique()"
   ]
  },
  {
   "cell_type": "code",
<<<<<<< Updated upstream
   "execution_count": 80,
=======
   "execution_count": 18,
>>>>>>> Stashed changes
   "id": "be29da8e",
   "metadata": {},
   "outputs": [],
   "source": [
    "sleepy_df['alcohol_consumption'] = sleepy_df[['alcohol_consumption']].fillna(mean_alcohol_consumption)"
   ]
  },
  {
   "cell_type": "code",
<<<<<<< Updated upstream
   "execution_count": 82,
   "id": "a6619269",
   "metadata": {
    "collapsed": true
   },
=======
   "execution_count": 19,
   "id": "a6619269",
   "metadata": {},
>>>>>>> Stashed changes
   "outputs": [
    {
     "data": {
      "text/plain": [
       "array([0.        , 3.        , 5.        , 1.        , 2.        ,\n",
       "       1.17351598, 4.        ])"
      ]
     },
<<<<<<< Updated upstream
     "execution_count": 82,
=======
     "execution_count": 19,
>>>>>>> Stashed changes
     "metadata": {},
     "output_type": "execute_result"
    }
   ],
   "source": [
    "sleepy_df['alcohol_consumption'].unique()"
   ]
  },
  {
   "cell_type": "code",
<<<<<<< Updated upstream
   "execution_count": 83,
=======
   "execution_count": 20,
>>>>>>> Stashed changes
   "id": "ed9cd950",
   "metadata": {},
   "outputs": [],
   "source": [
    "sleepy_df['exercise_frequency'] = sleepy_df[['exercise_frequency']].fillna(mean_exercise_frequency)"
   ]
  },
  {
   "cell_type": "code",
<<<<<<< Updated upstream
   "execution_count": 84,
   "id": "578b3302",
   "metadata": {
    "collapsed": true
   },
=======
   "execution_count": 21,
   "id": "578b3302",
   "metadata": {},
>>>>>>> Stashed changes
   "outputs": [
    {
     "data": {
      "text/plain": [
       "array([3.        , 1.        , 0.        , 5.        , 2.        ,\n",
       "       4.        , 1.79147982])"
      ]
     },
<<<<<<< Updated upstream
     "execution_count": 84,
=======
     "execution_count": 21,
>>>>>>> Stashed changes
     "metadata": {},
     "output_type": "execute_result"
    }
   ],
   "source": [
    "sleepy_df['exercise_frequency'].unique()"
   ]
  },
  {
<<<<<<< Updated upstream
=======
   "cell_type": "markdown",
   "id": "d294956c",
   "metadata": {},
   "source": [
    "<b/> Change data-type for time-stamps and Bin them"
   ]
  },
  {
   "cell_type": "code",
   "execution_count": 22,
   "id": "87a5821c",
   "metadata": {},
   "outputs": [],
   "source": [
    "# Split the 'bedtime' column into date and time columns\n",
    "sleepy_df[['bedtime_date', 'bedtime_time']] = sleepy_df['bedtime'].str.split(' ', 1, expand=True)"
   ]
  },
  {
   "cell_type": "code",
   "execution_count": 23,
   "id": "47839ebd",
   "metadata": {},
   "outputs": [],
   "source": [
    "# Drop the original 'bedtime' column\n",
    "sleepy_df.drop('bedtime', axis=1, inplace=True)"
   ]
  },
  {
   "cell_type": "code",
   "execution_count": 24,
   "id": "76042c7d",
   "metadata": {},
   "outputs": [],
   "source": [
    "# Split the 'wakeup' column into date and time columns\n",
    "sleepy_df[['wakeup_time_date', 'wakeup_time_time']] = sleepy_df['wakeup_time'].str.split(' ', 1, expand=True)"
   ]
  },
  {
   "cell_type": "code",
   "execution_count": 25,
   "id": "be4fdde4",
   "metadata": {},
   "outputs": [],
   "source": [
    "# Drop the original 'wakeup_time' column\n",
    "sleepy_df.drop('wakeup_time', axis=1, inplace=True)"
   ]
  },
  {
   "cell_type": "markdown",
   "id": "145a1e55",
   "metadata": {},
   "source": [
    "<b/> Mantain the month, of date columns. For this research we do not need the year or day"
   ]
  },
  {
   "cell_type": "code",
   "execution_count": 26,
   "id": "bf9b49b5",
   "metadata": {},
   "outputs": [
    {
     "data": {
      "text/plain": [
       "0      2021-03-06\n",
       "1      2021-12-05\n",
       "2      2021-05-25\n",
       "3      2021-11-03\n",
       "4      2021-03-13\n",
       "          ...    \n",
       "447    2021-11-13\n",
       "448    2021-03-31\n",
       "449    2021-09-07\n",
       "450    2021-07-29\n",
       "451    2021-03-17\n",
       "Name: bedtime_date, Length: 452, dtype: object"
      ]
     },
     "execution_count": 26,
     "metadata": {},
     "output_type": "execute_result"
    }
   ],
   "source": [
    "sleepy_df['bedtime_date']"
   ]
  },
  {
   "cell_type": "code",
   "execution_count": 27,
   "id": "592174eb",
   "metadata": {},
   "outputs": [],
   "source": [
    "sleepy_df['bedtime_date'] = pd.to_datetime(sleepy_df['bedtime_date'])"
   ]
  },
  {
   "cell_type": "code",
   "execution_count": 28,
   "id": "3c363e24",
   "metadata": {},
   "outputs": [],
   "source": [
    "sleepy_df['month'] = sleepy_df['bedtime_date'].dt.month"
   ]
  },
  {
   "cell_type": "code",
   "execution_count": 29,
   "id": "06cb749a",
   "metadata": {},
   "outputs": [],
   "source": [
    "# Drop 'bedtime_date' & 'wakeup_time_date'\n",
    "sleepy_df.drop('bedtime_date', axis=1, inplace=True)"
   ]
  },
  {
   "cell_type": "code",
   "execution_count": 30,
   "id": "64199e36",
   "metadata": {},
   "outputs": [],
   "source": [
    "sleepy_df.drop('wakeup_time_date', axis=1, inplace=True)"
   ]
  },
  {
   "cell_type": "code",
   "execution_count": 31,
   "id": "df422fb7",
   "metadata": {},
   "outputs": [
    {
     "name": "stdout",
     "output_type": "stream",
     "text": [
      "<class 'pandas.core.frame.DataFrame'>\n",
      "RangeIndex: 452 entries, 0 to 451\n",
      "Data columns (total 16 columns):\n",
      " #   Column                  Non-Null Count  Dtype  \n",
      "---  ------                  --------------  -----  \n",
      " 0   id                      452 non-null    int64  \n",
      " 1   age                     452 non-null    int64  \n",
      " 2   gender                  452 non-null    object \n",
      " 3   sleep_duration          452 non-null    float64\n",
      " 4   sleep_efficiency        452 non-null    float64\n",
      " 5   rem_sleep_percentage    452 non-null    int64  \n",
      " 6   deep_sleep_percentage   452 non-null    int64  \n",
      " 7   light_sleep_percentage  452 non-null    int64  \n",
      " 8   awakenings              452 non-null    float64\n",
      " 9   caffeine_consumption    452 non-null    float64\n",
      " 10  alcohol_consumption     452 non-null    float64\n",
      " 11  smoking_status          452 non-null    object \n",
      " 12  exercise_frequency      452 non-null    float64\n",
      " 13  bedtime_time            452 non-null    object \n",
      " 14  wakeup_time_time        452 non-null    object \n",
      " 15  month                   452 non-null    int64  \n",
      "dtypes: float64(6), int64(6), object(4)\n",
      "memory usage: 56.6+ KB\n"
     ]
    }
   ],
   "source": [
    "sleepy_df.info()"
   ]
  },
  {
   "cell_type": "markdown",
   "id": "00b18098",
   "metadata": {},
   "source": [
    "<b/>Dummies"
   ]
  },
  {
   "cell_type": "code",
   "execution_count": 32,
   "id": "458e3d50",
   "metadata": {},
   "outputs": [
    {
     "data": {
      "text/html": [
       "<div>\n",
       "<style scoped>\n",
       "    .dataframe tbody tr th:only-of-type {\n",
       "        vertical-align: middle;\n",
       "    }\n",
       "\n",
       "    .dataframe tbody tr th {\n",
       "        vertical-align: top;\n",
       "    }\n",
       "\n",
       "    .dataframe thead th {\n",
       "        text-align: right;\n",
       "    }\n",
       "</style>\n",
       "<table border=\"1\" class=\"dataframe\">\n",
       "  <thead>\n",
       "    <tr style=\"text-align: right;\">\n",
       "      <th></th>\n",
       "      <th>id</th>\n",
       "      <th>age</th>\n",
       "      <th>sleep_duration</th>\n",
       "      <th>sleep_efficiency</th>\n",
       "      <th>rem_sleep_percentage</th>\n",
       "      <th>deep_sleep_percentage</th>\n",
       "      <th>light_sleep_percentage</th>\n",
       "      <th>awakenings</th>\n",
       "      <th>caffeine_consumption</th>\n",
       "      <th>alcohol_consumption</th>\n",
       "      <th>exercise_frequency</th>\n",
       "      <th>bedtime_time</th>\n",
       "      <th>wakeup_time_time</th>\n",
       "      <th>month</th>\n",
       "      <th>gender_Male</th>\n",
       "      <th>smoking_status_Yes</th>\n",
       "    </tr>\n",
       "  </thead>\n",
       "  <tbody>\n",
       "    <tr>\n",
       "      <th>0</th>\n",
       "      <td>1</td>\n",
       "      <td>65</td>\n",
       "      <td>6.0</td>\n",
       "      <td>0.88</td>\n",
       "      <td>18</td>\n",
       "      <td>70</td>\n",
       "      <td>12</td>\n",
       "      <td>0.0</td>\n",
       "      <td>0.000000</td>\n",
       "      <td>0.0</td>\n",
       "      <td>3.0</td>\n",
       "      <td>01:00:00</td>\n",
       "      <td>07:00:00</td>\n",
       "      <td>3</td>\n",
       "      <td>0</td>\n",
       "      <td>1</td>\n",
       "    </tr>\n",
       "    <tr>\n",
       "      <th>1</th>\n",
       "      <td>2</td>\n",
       "      <td>69</td>\n",
       "      <td>7.0</td>\n",
       "      <td>0.66</td>\n",
       "      <td>19</td>\n",
       "      <td>28</td>\n",
       "      <td>53</td>\n",
       "      <td>3.0</td>\n",
       "      <td>0.000000</td>\n",
       "      <td>3.0</td>\n",
       "      <td>3.0</td>\n",
       "      <td>02:00:00</td>\n",
       "      <td>09:00:00</td>\n",
       "      <td>12</td>\n",
       "      <td>1</td>\n",
       "      <td>1</td>\n",
       "    </tr>\n",
       "    <tr>\n",
       "      <th>2</th>\n",
       "      <td>3</td>\n",
       "      <td>40</td>\n",
       "      <td>8.0</td>\n",
       "      <td>0.89</td>\n",
       "      <td>20</td>\n",
       "      <td>70</td>\n",
       "      <td>10</td>\n",
       "      <td>1.0</td>\n",
       "      <td>0.000000</td>\n",
       "      <td>0.0</td>\n",
       "      <td>3.0</td>\n",
       "      <td>21:30:00</td>\n",
       "      <td>05:30:00</td>\n",
       "      <td>5</td>\n",
       "      <td>0</td>\n",
       "      <td>0</td>\n",
       "    </tr>\n",
       "    <tr>\n",
       "      <th>3</th>\n",
       "      <td>4</td>\n",
       "      <td>40</td>\n",
       "      <td>6.0</td>\n",
       "      <td>0.51</td>\n",
       "      <td>23</td>\n",
       "      <td>25</td>\n",
       "      <td>52</td>\n",
       "      <td>3.0</td>\n",
       "      <td>50.000000</td>\n",
       "      <td>5.0</td>\n",
       "      <td>1.0</td>\n",
       "      <td>02:30:00</td>\n",
       "      <td>08:30:00</td>\n",
       "      <td>11</td>\n",
       "      <td>0</td>\n",
       "      <td>1</td>\n",
       "    </tr>\n",
       "    <tr>\n",
       "      <th>4</th>\n",
       "      <td>5</td>\n",
       "      <td>57</td>\n",
       "      <td>8.0</td>\n",
       "      <td>0.76</td>\n",
       "      <td>27</td>\n",
       "      <td>55</td>\n",
       "      <td>18</td>\n",
       "      <td>3.0</td>\n",
       "      <td>0.000000</td>\n",
       "      <td>3.0</td>\n",
       "      <td>3.0</td>\n",
       "      <td>01:00:00</td>\n",
       "      <td>09:00:00</td>\n",
       "      <td>3</td>\n",
       "      <td>1</td>\n",
       "      <td>0</td>\n",
       "    </tr>\n",
       "    <tr>\n",
       "      <th>...</th>\n",
       "      <td>...</td>\n",
       "      <td>...</td>\n",
       "      <td>...</td>\n",
       "      <td>...</td>\n",
       "      <td>...</td>\n",
       "      <td>...</td>\n",
       "      <td>...</td>\n",
       "      <td>...</td>\n",
       "      <td>...</td>\n",
       "      <td>...</td>\n",
       "      <td>...</td>\n",
       "      <td>...</td>\n",
       "      <td>...</td>\n",
       "      <td>...</td>\n",
       "      <td>...</td>\n",
       "      <td>...</td>\n",
       "    </tr>\n",
       "    <tr>\n",
       "      <th>447</th>\n",
       "      <td>448</td>\n",
       "      <td>27</td>\n",
       "      <td>7.5</td>\n",
       "      <td>0.91</td>\n",
       "      <td>22</td>\n",
       "      <td>57</td>\n",
       "      <td>21</td>\n",
       "      <td>0.0</td>\n",
       "      <td>0.000000</td>\n",
       "      <td>0.0</td>\n",
       "      <td>5.0</td>\n",
       "      <td>22:00:00</td>\n",
       "      <td>05:30:00</td>\n",
       "      <td>11</td>\n",
       "      <td>0</td>\n",
       "      <td>0</td>\n",
       "    </tr>\n",
       "    <tr>\n",
       "      <th>448</th>\n",
       "      <td>449</td>\n",
       "      <td>52</td>\n",
       "      <td>6.0</td>\n",
       "      <td>0.74</td>\n",
       "      <td>28</td>\n",
       "      <td>57</td>\n",
       "      <td>15</td>\n",
       "      <td>4.0</td>\n",
       "      <td>25.000000</td>\n",
       "      <td>0.0</td>\n",
       "      <td>3.0</td>\n",
       "      <td>21:00:00</td>\n",
       "      <td>03:00:00</td>\n",
       "      <td>3</td>\n",
       "      <td>1</td>\n",
       "      <td>0</td>\n",
       "    </tr>\n",
       "    <tr>\n",
       "      <th>449</th>\n",
       "      <td>450</td>\n",
       "      <td>40</td>\n",
       "      <td>8.5</td>\n",
       "      <td>0.55</td>\n",
       "      <td>20</td>\n",
       "      <td>32</td>\n",
       "      <td>48</td>\n",
       "      <td>1.0</td>\n",
       "      <td>23.653396</td>\n",
       "      <td>3.0</td>\n",
       "      <td>0.0</td>\n",
       "      <td>23:00:00</td>\n",
       "      <td>07:30:00</td>\n",
       "      <td>9</td>\n",
       "      <td>0</td>\n",
       "      <td>1</td>\n",
       "    </tr>\n",
       "    <tr>\n",
       "      <th>450</th>\n",
       "      <td>451</td>\n",
       "      <td>45</td>\n",
       "      <td>7.0</td>\n",
       "      <td>0.76</td>\n",
       "      <td>18</td>\n",
       "      <td>72</td>\n",
       "      <td>10</td>\n",
       "      <td>3.0</td>\n",
       "      <td>0.000000</td>\n",
       "      <td>0.0</td>\n",
       "      <td>3.0</td>\n",
       "      <td>21:00:00</td>\n",
       "      <td>04:00:00</td>\n",
       "      <td>7</td>\n",
       "      <td>1</td>\n",
       "      <td>0</td>\n",
       "    </tr>\n",
       "    <tr>\n",
       "      <th>451</th>\n",
       "      <td>452</td>\n",
       "      <td>18</td>\n",
       "      <td>7.5</td>\n",
       "      <td>0.63</td>\n",
       "      <td>22</td>\n",
       "      <td>23</td>\n",
       "      <td>55</td>\n",
       "      <td>1.0</td>\n",
       "      <td>50.000000</td>\n",
       "      <td>0.0</td>\n",
       "      <td>1.0</td>\n",
       "      <td>02:30:00</td>\n",
       "      <td>10:00:00</td>\n",
       "      <td>3</td>\n",
       "      <td>1</td>\n",
       "      <td>0</td>\n",
       "    </tr>\n",
       "  </tbody>\n",
       "</table>\n",
       "<p>452 rows × 16 columns</p>\n",
       "</div>"
      ],
      "text/plain": [
       "      id  age  sleep_duration  sleep_efficiency  rem_sleep_percentage  \\\n",
       "0      1   65             6.0              0.88                    18   \n",
       "1      2   69             7.0              0.66                    19   \n",
       "2      3   40             8.0              0.89                    20   \n",
       "3      4   40             6.0              0.51                    23   \n",
       "4      5   57             8.0              0.76                    27   \n",
       "..   ...  ...             ...               ...                   ...   \n",
       "447  448   27             7.5              0.91                    22   \n",
       "448  449   52             6.0              0.74                    28   \n",
       "449  450   40             8.5              0.55                    20   \n",
       "450  451   45             7.0              0.76                    18   \n",
       "451  452   18             7.5              0.63                    22   \n",
       "\n",
       "     deep_sleep_percentage  light_sleep_percentage  awakenings  \\\n",
       "0                       70                      12         0.0   \n",
       "1                       28                      53         3.0   \n",
       "2                       70                      10         1.0   \n",
       "3                       25                      52         3.0   \n",
       "4                       55                      18         3.0   \n",
       "..                     ...                     ...         ...   \n",
       "447                     57                      21         0.0   \n",
       "448                     57                      15         4.0   \n",
       "449                     32                      48         1.0   \n",
       "450                     72                      10         3.0   \n",
       "451                     23                      55         1.0   \n",
       "\n",
       "     caffeine_consumption  alcohol_consumption  exercise_frequency  \\\n",
       "0                0.000000                  0.0                 3.0   \n",
       "1                0.000000                  3.0                 3.0   \n",
       "2                0.000000                  0.0                 3.0   \n",
       "3               50.000000                  5.0                 1.0   \n",
       "4                0.000000                  3.0                 3.0   \n",
       "..                    ...                  ...                 ...   \n",
       "447              0.000000                  0.0                 5.0   \n",
       "448             25.000000                  0.0                 3.0   \n",
       "449             23.653396                  3.0                 0.0   \n",
       "450              0.000000                  0.0                 3.0   \n",
       "451             50.000000                  0.0                 1.0   \n",
       "\n",
       "    bedtime_time wakeup_time_time  month  gender_Male  smoking_status_Yes  \n",
       "0       01:00:00         07:00:00      3            0                   1  \n",
       "1       02:00:00         09:00:00     12            1                   1  \n",
       "2       21:30:00         05:30:00      5            0                   0  \n",
       "3       02:30:00         08:30:00     11            0                   1  \n",
       "4       01:00:00         09:00:00      3            1                   0  \n",
       "..           ...              ...    ...          ...                 ...  \n",
       "447     22:00:00         05:30:00     11            0                   0  \n",
       "448     21:00:00         03:00:00      3            1                   0  \n",
       "449     23:00:00         07:30:00      9            0                   1  \n",
       "450     21:00:00         04:00:00      7            1                   0  \n",
       "451     02:30:00         10:00:00      3            1                   0  \n",
       "\n",
       "[452 rows x 16 columns]"
      ]
     },
     "execution_count": 32,
     "metadata": {},
     "output_type": "execute_result"
    }
   ],
   "source": [
    "# converting nominal values\n",
    "sleepy_df = pd.get_dummies(sleepy_df, columns=['gender', 'smoking_status',], drop_first=True)\n",
    "sleepy_df"
   ]
  },
  {
   "cell_type": "code",
   "execution_count": 33,
   "id": "d2587ec5",
   "metadata": {},
   "outputs": [
    {
     "name": "stdout",
     "output_type": "stream",
     "text": [
      "<class 'pandas.core.frame.DataFrame'>\n",
      "RangeIndex: 452 entries, 0 to 451\n",
      "Data columns (total 16 columns):\n",
      " #   Column                  Non-Null Count  Dtype  \n",
      "---  ------                  --------------  -----  \n",
      " 0   id                      452 non-null    int64  \n",
      " 1   age                     452 non-null    int64  \n",
      " 2   sleep_duration          452 non-null    float64\n",
      " 3   sleep_efficiency        452 non-null    float64\n",
      " 4   rem_sleep_percentage    452 non-null    int64  \n",
      " 5   deep_sleep_percentage   452 non-null    int64  \n",
      " 6   light_sleep_percentage  452 non-null    int64  \n",
      " 7   awakenings              452 non-null    float64\n",
      " 8   caffeine_consumption    452 non-null    float64\n",
      " 9   alcohol_consumption     452 non-null    float64\n",
      " 10  exercise_frequency      452 non-null    float64\n",
      " 11  bedtime_time            452 non-null    object \n",
      " 12  wakeup_time_time        452 non-null    object \n",
      " 13  month                   452 non-null    int64  \n",
      " 14  gender_Male             452 non-null    uint8  \n",
      " 15  smoking_status_Yes      452 non-null    uint8  \n",
      "dtypes: float64(6), int64(6), object(2), uint8(2)\n",
      "memory usage: 50.4+ KB\n"
     ]
    }
   ],
   "source": [
    "sleepy_df.info()"
   ]
  },
  {
   "cell_type": "markdown",
   "id": "e2acf23c",
   "metadata": {},
   "source": [
    "<b/> Convert the time-data type into float, for the model"
   ]
  },
  {
   "cell_type": "code",
   "execution_count": 34,
   "id": "b161abce",
   "metadata": {},
   "outputs": [
    {
     "data": {
      "text/html": [
       "<div>\n",
       "<style scoped>\n",
       "    .dataframe tbody tr th:only-of-type {\n",
       "        vertical-align: middle;\n",
       "    }\n",
       "\n",
       "    .dataframe tbody tr th {\n",
       "        vertical-align: top;\n",
       "    }\n",
       "\n",
       "    .dataframe thead th {\n",
       "        text-align: right;\n",
       "    }\n",
       "</style>\n",
       "<table border=\"1\" class=\"dataframe\">\n",
       "  <thead>\n",
       "    <tr style=\"text-align: right;\">\n",
       "      <th></th>\n",
       "      <th>id</th>\n",
       "      <th>age</th>\n",
       "      <th>sleep_duration</th>\n",
       "      <th>sleep_efficiency</th>\n",
       "      <th>rem_sleep_percentage</th>\n",
       "      <th>deep_sleep_percentage</th>\n",
       "      <th>light_sleep_percentage</th>\n",
       "      <th>awakenings</th>\n",
       "      <th>caffeine_consumption</th>\n",
       "      <th>alcohol_consumption</th>\n",
       "      <th>exercise_frequency</th>\n",
       "      <th>wakeup_time_time</th>\n",
       "      <th>month</th>\n",
       "      <th>gender_Male</th>\n",
       "      <th>smoking_status_Yes</th>\n",
       "      <th>bedtime_hours</th>\n",
       "    </tr>\n",
       "  </thead>\n",
       "  <tbody>\n",
       "    <tr>\n",
       "      <th>0</th>\n",
       "      <td>1</td>\n",
       "      <td>65</td>\n",
       "      <td>6.0</td>\n",
       "      <td>0.88</td>\n",
       "      <td>18</td>\n",
       "      <td>70</td>\n",
       "      <td>12</td>\n",
       "      <td>0.0</td>\n",
       "      <td>0.000000</td>\n",
       "      <td>0.0</td>\n",
       "      <td>3.0</td>\n",
       "      <td>07:00:00</td>\n",
       "      <td>3</td>\n",
       "      <td>0</td>\n",
       "      <td>1</td>\n",
       "      <td>1.0</td>\n",
       "    </tr>\n",
       "    <tr>\n",
       "      <th>1</th>\n",
       "      <td>2</td>\n",
       "      <td>69</td>\n",
       "      <td>7.0</td>\n",
       "      <td>0.66</td>\n",
       "      <td>19</td>\n",
       "      <td>28</td>\n",
       "      <td>53</td>\n",
       "      <td>3.0</td>\n",
       "      <td>0.000000</td>\n",
       "      <td>3.0</td>\n",
       "      <td>3.0</td>\n",
       "      <td>09:00:00</td>\n",
       "      <td>12</td>\n",
       "      <td>1</td>\n",
       "      <td>1</td>\n",
       "      <td>2.0</td>\n",
       "    </tr>\n",
       "    <tr>\n",
       "      <th>2</th>\n",
       "      <td>3</td>\n",
       "      <td>40</td>\n",
       "      <td>8.0</td>\n",
       "      <td>0.89</td>\n",
       "      <td>20</td>\n",
       "      <td>70</td>\n",
       "      <td>10</td>\n",
       "      <td>1.0</td>\n",
       "      <td>0.000000</td>\n",
       "      <td>0.0</td>\n",
       "      <td>3.0</td>\n",
       "      <td>05:30:00</td>\n",
       "      <td>5</td>\n",
       "      <td>0</td>\n",
       "      <td>0</td>\n",
       "      <td>21.5</td>\n",
       "    </tr>\n",
       "    <tr>\n",
       "      <th>3</th>\n",
       "      <td>4</td>\n",
       "      <td>40</td>\n",
       "      <td>6.0</td>\n",
       "      <td>0.51</td>\n",
       "      <td>23</td>\n",
       "      <td>25</td>\n",
       "      <td>52</td>\n",
       "      <td>3.0</td>\n",
       "      <td>50.000000</td>\n",
       "      <td>5.0</td>\n",
       "      <td>1.0</td>\n",
       "      <td>08:30:00</td>\n",
       "      <td>11</td>\n",
       "      <td>0</td>\n",
       "      <td>1</td>\n",
       "      <td>2.5</td>\n",
       "    </tr>\n",
       "    <tr>\n",
       "      <th>4</th>\n",
       "      <td>5</td>\n",
       "      <td>57</td>\n",
       "      <td>8.0</td>\n",
       "      <td>0.76</td>\n",
       "      <td>27</td>\n",
       "      <td>55</td>\n",
       "      <td>18</td>\n",
       "      <td>3.0</td>\n",
       "      <td>0.000000</td>\n",
       "      <td>3.0</td>\n",
       "      <td>3.0</td>\n",
       "      <td>09:00:00</td>\n",
       "      <td>3</td>\n",
       "      <td>1</td>\n",
       "      <td>0</td>\n",
       "      <td>1.0</td>\n",
       "    </tr>\n",
       "    <tr>\n",
       "      <th>...</th>\n",
       "      <td>...</td>\n",
       "      <td>...</td>\n",
       "      <td>...</td>\n",
       "      <td>...</td>\n",
       "      <td>...</td>\n",
       "      <td>...</td>\n",
       "      <td>...</td>\n",
       "      <td>...</td>\n",
       "      <td>...</td>\n",
       "      <td>...</td>\n",
       "      <td>...</td>\n",
       "      <td>...</td>\n",
       "      <td>...</td>\n",
       "      <td>...</td>\n",
       "      <td>...</td>\n",
       "      <td>...</td>\n",
       "    </tr>\n",
       "    <tr>\n",
       "      <th>447</th>\n",
       "      <td>448</td>\n",
       "      <td>27</td>\n",
       "      <td>7.5</td>\n",
       "      <td>0.91</td>\n",
       "      <td>22</td>\n",
       "      <td>57</td>\n",
       "      <td>21</td>\n",
       "      <td>0.0</td>\n",
       "      <td>0.000000</td>\n",
       "      <td>0.0</td>\n",
       "      <td>5.0</td>\n",
       "      <td>05:30:00</td>\n",
       "      <td>11</td>\n",
       "      <td>0</td>\n",
       "      <td>0</td>\n",
       "      <td>22.0</td>\n",
       "    </tr>\n",
       "    <tr>\n",
       "      <th>448</th>\n",
       "      <td>449</td>\n",
       "      <td>52</td>\n",
       "      <td>6.0</td>\n",
       "      <td>0.74</td>\n",
       "      <td>28</td>\n",
       "      <td>57</td>\n",
       "      <td>15</td>\n",
       "      <td>4.0</td>\n",
       "      <td>25.000000</td>\n",
       "      <td>0.0</td>\n",
       "      <td>3.0</td>\n",
       "      <td>03:00:00</td>\n",
       "      <td>3</td>\n",
       "      <td>1</td>\n",
       "      <td>0</td>\n",
       "      <td>21.0</td>\n",
       "    </tr>\n",
       "    <tr>\n",
       "      <th>449</th>\n",
       "      <td>450</td>\n",
       "      <td>40</td>\n",
       "      <td>8.5</td>\n",
       "      <td>0.55</td>\n",
       "      <td>20</td>\n",
       "      <td>32</td>\n",
       "      <td>48</td>\n",
       "      <td>1.0</td>\n",
       "      <td>23.653396</td>\n",
       "      <td>3.0</td>\n",
       "      <td>0.0</td>\n",
       "      <td>07:30:00</td>\n",
       "      <td>9</td>\n",
       "      <td>0</td>\n",
       "      <td>1</td>\n",
       "      <td>23.0</td>\n",
       "    </tr>\n",
       "    <tr>\n",
       "      <th>450</th>\n",
       "      <td>451</td>\n",
       "      <td>45</td>\n",
       "      <td>7.0</td>\n",
       "      <td>0.76</td>\n",
       "      <td>18</td>\n",
       "      <td>72</td>\n",
       "      <td>10</td>\n",
       "      <td>3.0</td>\n",
       "      <td>0.000000</td>\n",
       "      <td>0.0</td>\n",
       "      <td>3.0</td>\n",
       "      <td>04:00:00</td>\n",
       "      <td>7</td>\n",
       "      <td>1</td>\n",
       "      <td>0</td>\n",
       "      <td>21.0</td>\n",
       "    </tr>\n",
       "    <tr>\n",
       "      <th>451</th>\n",
       "      <td>452</td>\n",
       "      <td>18</td>\n",
       "      <td>7.5</td>\n",
       "      <td>0.63</td>\n",
       "      <td>22</td>\n",
       "      <td>23</td>\n",
       "      <td>55</td>\n",
       "      <td>1.0</td>\n",
       "      <td>50.000000</td>\n",
       "      <td>0.0</td>\n",
       "      <td>1.0</td>\n",
       "      <td>10:00:00</td>\n",
       "      <td>3</td>\n",
       "      <td>1</td>\n",
       "      <td>0</td>\n",
       "      <td>2.5</td>\n",
       "    </tr>\n",
       "  </tbody>\n",
       "</table>\n",
       "<p>452 rows × 16 columns</p>\n",
       "</div>"
      ],
      "text/plain": [
       "      id  age  sleep_duration  sleep_efficiency  rem_sleep_percentage  \\\n",
       "0      1   65             6.0              0.88                    18   \n",
       "1      2   69             7.0              0.66                    19   \n",
       "2      3   40             8.0              0.89                    20   \n",
       "3      4   40             6.0              0.51                    23   \n",
       "4      5   57             8.0              0.76                    27   \n",
       "..   ...  ...             ...               ...                   ...   \n",
       "447  448   27             7.5              0.91                    22   \n",
       "448  449   52             6.0              0.74                    28   \n",
       "449  450   40             8.5              0.55                    20   \n",
       "450  451   45             7.0              0.76                    18   \n",
       "451  452   18             7.5              0.63                    22   \n",
       "\n",
       "     deep_sleep_percentage  light_sleep_percentage  awakenings  \\\n",
       "0                       70                      12         0.0   \n",
       "1                       28                      53         3.0   \n",
       "2                       70                      10         1.0   \n",
       "3                       25                      52         3.0   \n",
       "4                       55                      18         3.0   \n",
       "..                     ...                     ...         ...   \n",
       "447                     57                      21         0.0   \n",
       "448                     57                      15         4.0   \n",
       "449                     32                      48         1.0   \n",
       "450                     72                      10         3.0   \n",
       "451                     23                      55         1.0   \n",
       "\n",
       "     caffeine_consumption  alcohol_consumption  exercise_frequency  \\\n",
       "0                0.000000                  0.0                 3.0   \n",
       "1                0.000000                  3.0                 3.0   \n",
       "2                0.000000                  0.0                 3.0   \n",
       "3               50.000000                  5.0                 1.0   \n",
       "4                0.000000                  3.0                 3.0   \n",
       "..                    ...                  ...                 ...   \n",
       "447              0.000000                  0.0                 5.0   \n",
       "448             25.000000                  0.0                 3.0   \n",
       "449             23.653396                  3.0                 0.0   \n",
       "450              0.000000                  0.0                 3.0   \n",
       "451             50.000000                  0.0                 1.0   \n",
       "\n",
       "    wakeup_time_time  month  gender_Male  smoking_status_Yes  bedtime_hours  \n",
       "0           07:00:00      3            0                   1            1.0  \n",
       "1           09:00:00     12            1                   1            2.0  \n",
       "2           05:30:00      5            0                   0           21.5  \n",
       "3           08:30:00     11            0                   1            2.5  \n",
       "4           09:00:00      3            1                   0            1.0  \n",
       "..               ...    ...          ...                 ...            ...  \n",
       "447         05:30:00     11            0                   0           22.0  \n",
       "448         03:00:00      3            1                   0           21.0  \n",
       "449         07:30:00      9            0                   1           23.0  \n",
       "450         04:00:00      7            1                   0           21.0  \n",
       "451         10:00:00      3            1                   0            2.5  \n",
       "\n",
       "[452 rows x 16 columns]"
      ]
     },
     "execution_count": 34,
     "metadata": {},
     "output_type": "execute_result"
    }
   ],
   "source": [
    "# Converting the time into hours - integers for bedtime_time\n",
    "\n",
    "# Convert the time column to datetime data type\n",
    "sleepy_df['bedtime_time'] = pd.to_datetime(sleepy_df['bedtime_time'], format='%H:%M:%S')\n",
    "\n",
    "# Extract the hour, minute, and second components\n",
    "sleepy_df['hour'] = sleepy_df['bedtime_time'].dt.hour\n",
    "sleepy_df['minute'] = sleepy_df['bedtime_time'].dt.minute\n",
    "sleepy_df['second'] = sleepy_df['bedtime_time'].dt.second\n",
    "\n",
    "# Convert the time to hours as a float\n",
    "sleepy_df['bedtime_hours'] = (sleepy_df['hour'] + sleepy_df['minute'] / 60 + sleepy_df['second'] / 3600).round(2)\n",
    "\n",
    "sleepy_df = sleepy_df.drop(columns= ['hour','minute','second','bedtime_time'])\n",
    "sleepy_df"
   ]
  },
  {
   "cell_type": "code",
   "execution_count": 37,
   "id": "122c25a2",
   "metadata": {},
   "outputs": [
    {
     "data": {
      "text/html": [
       "<div>\n",
       "<style scoped>\n",
       "    .dataframe tbody tr th:only-of-type {\n",
       "        vertical-align: middle;\n",
       "    }\n",
       "\n",
       "    .dataframe tbody tr th {\n",
       "        vertical-align: top;\n",
       "    }\n",
       "\n",
       "    .dataframe thead th {\n",
       "        text-align: right;\n",
       "    }\n",
       "</style>\n",
       "<table border=\"1\" class=\"dataframe\">\n",
       "  <thead>\n",
       "    <tr style=\"text-align: right;\">\n",
       "      <th></th>\n",
       "      <th>id</th>\n",
       "      <th>age</th>\n",
       "      <th>sleep_duration</th>\n",
       "      <th>sleep_efficiency</th>\n",
       "      <th>rem_sleep_percentage</th>\n",
       "      <th>deep_sleep_percentage</th>\n",
       "      <th>light_sleep_percentage</th>\n",
       "      <th>awakenings</th>\n",
       "      <th>caffeine_consumption</th>\n",
       "      <th>alcohol_consumption</th>\n",
       "      <th>exercise_frequency</th>\n",
       "      <th>month</th>\n",
       "      <th>gender_Male</th>\n",
       "      <th>smoking_status_Yes</th>\n",
       "      <th>bedtime_hours</th>\n",
       "      <th>wakeup_time_hours</th>\n",
       "    </tr>\n",
       "  </thead>\n",
       "  <tbody>\n",
       "    <tr>\n",
       "      <th>0</th>\n",
       "      <td>1</td>\n",
       "      <td>65</td>\n",
       "      <td>6.0</td>\n",
       "      <td>0.88</td>\n",
       "      <td>18</td>\n",
       "      <td>70</td>\n",
       "      <td>12</td>\n",
       "      <td>0.0</td>\n",
       "      <td>0.000000</td>\n",
       "      <td>0.0</td>\n",
       "      <td>3.0</td>\n",
       "      <td>3</td>\n",
       "      <td>0</td>\n",
       "      <td>1</td>\n",
       "      <td>1.0</td>\n",
       "      <td>7.0</td>\n",
       "    </tr>\n",
       "    <tr>\n",
       "      <th>1</th>\n",
       "      <td>2</td>\n",
       "      <td>69</td>\n",
       "      <td>7.0</td>\n",
       "      <td>0.66</td>\n",
       "      <td>19</td>\n",
       "      <td>28</td>\n",
       "      <td>53</td>\n",
       "      <td>3.0</td>\n",
       "      <td>0.000000</td>\n",
       "      <td>3.0</td>\n",
       "      <td>3.0</td>\n",
       "      <td>12</td>\n",
       "      <td>1</td>\n",
       "      <td>1</td>\n",
       "      <td>2.0</td>\n",
       "      <td>9.0</td>\n",
       "    </tr>\n",
       "    <tr>\n",
       "      <th>2</th>\n",
       "      <td>3</td>\n",
       "      <td>40</td>\n",
       "      <td>8.0</td>\n",
       "      <td>0.89</td>\n",
       "      <td>20</td>\n",
       "      <td>70</td>\n",
       "      <td>10</td>\n",
       "      <td>1.0</td>\n",
       "      <td>0.000000</td>\n",
       "      <td>0.0</td>\n",
       "      <td>3.0</td>\n",
       "      <td>5</td>\n",
       "      <td>0</td>\n",
       "      <td>0</td>\n",
       "      <td>21.5</td>\n",
       "      <td>5.5</td>\n",
       "    </tr>\n",
       "    <tr>\n",
       "      <th>3</th>\n",
       "      <td>4</td>\n",
       "      <td>40</td>\n",
       "      <td>6.0</td>\n",
       "      <td>0.51</td>\n",
       "      <td>23</td>\n",
       "      <td>25</td>\n",
       "      <td>52</td>\n",
       "      <td>3.0</td>\n",
       "      <td>50.000000</td>\n",
       "      <td>5.0</td>\n",
       "      <td>1.0</td>\n",
       "      <td>11</td>\n",
       "      <td>0</td>\n",
       "      <td>1</td>\n",
       "      <td>2.5</td>\n",
       "      <td>8.5</td>\n",
       "    </tr>\n",
       "    <tr>\n",
       "      <th>4</th>\n",
       "      <td>5</td>\n",
       "      <td>57</td>\n",
       "      <td>8.0</td>\n",
       "      <td>0.76</td>\n",
       "      <td>27</td>\n",
       "      <td>55</td>\n",
       "      <td>18</td>\n",
       "      <td>3.0</td>\n",
       "      <td>0.000000</td>\n",
       "      <td>3.0</td>\n",
       "      <td>3.0</td>\n",
       "      <td>3</td>\n",
       "      <td>1</td>\n",
       "      <td>0</td>\n",
       "      <td>1.0</td>\n",
       "      <td>9.0</td>\n",
       "    </tr>\n",
       "    <tr>\n",
       "      <th>...</th>\n",
       "      <td>...</td>\n",
       "      <td>...</td>\n",
       "      <td>...</td>\n",
       "      <td>...</td>\n",
       "      <td>...</td>\n",
       "      <td>...</td>\n",
       "      <td>...</td>\n",
       "      <td>...</td>\n",
       "      <td>...</td>\n",
       "      <td>...</td>\n",
       "      <td>...</td>\n",
       "      <td>...</td>\n",
       "      <td>...</td>\n",
       "      <td>...</td>\n",
       "      <td>...</td>\n",
       "      <td>...</td>\n",
       "    </tr>\n",
       "    <tr>\n",
       "      <th>447</th>\n",
       "      <td>448</td>\n",
       "      <td>27</td>\n",
       "      <td>7.5</td>\n",
       "      <td>0.91</td>\n",
       "      <td>22</td>\n",
       "      <td>57</td>\n",
       "      <td>21</td>\n",
       "      <td>0.0</td>\n",
       "      <td>0.000000</td>\n",
       "      <td>0.0</td>\n",
       "      <td>5.0</td>\n",
       "      <td>11</td>\n",
       "      <td>0</td>\n",
       "      <td>0</td>\n",
       "      <td>22.0</td>\n",
       "      <td>5.5</td>\n",
       "    </tr>\n",
       "    <tr>\n",
       "      <th>448</th>\n",
       "      <td>449</td>\n",
       "      <td>52</td>\n",
       "      <td>6.0</td>\n",
       "      <td>0.74</td>\n",
       "      <td>28</td>\n",
       "      <td>57</td>\n",
       "      <td>15</td>\n",
       "      <td>4.0</td>\n",
       "      <td>25.000000</td>\n",
       "      <td>0.0</td>\n",
       "      <td>3.0</td>\n",
       "      <td>3</td>\n",
       "      <td>1</td>\n",
       "      <td>0</td>\n",
       "      <td>21.0</td>\n",
       "      <td>3.0</td>\n",
       "    </tr>\n",
       "    <tr>\n",
       "      <th>449</th>\n",
       "      <td>450</td>\n",
       "      <td>40</td>\n",
       "      <td>8.5</td>\n",
       "      <td>0.55</td>\n",
       "      <td>20</td>\n",
       "      <td>32</td>\n",
       "      <td>48</td>\n",
       "      <td>1.0</td>\n",
       "      <td>23.653396</td>\n",
       "      <td>3.0</td>\n",
       "      <td>0.0</td>\n",
       "      <td>9</td>\n",
       "      <td>0</td>\n",
       "      <td>1</td>\n",
       "      <td>23.0</td>\n",
       "      <td>7.5</td>\n",
       "    </tr>\n",
       "    <tr>\n",
       "      <th>450</th>\n",
       "      <td>451</td>\n",
       "      <td>45</td>\n",
       "      <td>7.0</td>\n",
       "      <td>0.76</td>\n",
       "      <td>18</td>\n",
       "      <td>72</td>\n",
       "      <td>10</td>\n",
       "      <td>3.0</td>\n",
       "      <td>0.000000</td>\n",
       "      <td>0.0</td>\n",
       "      <td>3.0</td>\n",
       "      <td>7</td>\n",
       "      <td>1</td>\n",
       "      <td>0</td>\n",
       "      <td>21.0</td>\n",
       "      <td>4.0</td>\n",
       "    </tr>\n",
       "    <tr>\n",
       "      <th>451</th>\n",
       "      <td>452</td>\n",
       "      <td>18</td>\n",
       "      <td>7.5</td>\n",
       "      <td>0.63</td>\n",
       "      <td>22</td>\n",
       "      <td>23</td>\n",
       "      <td>55</td>\n",
       "      <td>1.0</td>\n",
       "      <td>50.000000</td>\n",
       "      <td>0.0</td>\n",
       "      <td>1.0</td>\n",
       "      <td>3</td>\n",
       "      <td>1</td>\n",
       "      <td>0</td>\n",
       "      <td>2.5</td>\n",
       "      <td>10.0</td>\n",
       "    </tr>\n",
       "  </tbody>\n",
       "</table>\n",
       "<p>452 rows × 16 columns</p>\n",
       "</div>"
      ],
      "text/plain": [
       "      id  age  sleep_duration  sleep_efficiency  rem_sleep_percentage  \\\n",
       "0      1   65             6.0              0.88                    18   \n",
       "1      2   69             7.0              0.66                    19   \n",
       "2      3   40             8.0              0.89                    20   \n",
       "3      4   40             6.0              0.51                    23   \n",
       "4      5   57             8.0              0.76                    27   \n",
       "..   ...  ...             ...               ...                   ...   \n",
       "447  448   27             7.5              0.91                    22   \n",
       "448  449   52             6.0              0.74                    28   \n",
       "449  450   40             8.5              0.55                    20   \n",
       "450  451   45             7.0              0.76                    18   \n",
       "451  452   18             7.5              0.63                    22   \n",
       "\n",
       "     deep_sleep_percentage  light_sleep_percentage  awakenings  \\\n",
       "0                       70                      12         0.0   \n",
       "1                       28                      53         3.0   \n",
       "2                       70                      10         1.0   \n",
       "3                       25                      52         3.0   \n",
       "4                       55                      18         3.0   \n",
       "..                     ...                     ...         ...   \n",
       "447                     57                      21         0.0   \n",
       "448                     57                      15         4.0   \n",
       "449                     32                      48         1.0   \n",
       "450                     72                      10         3.0   \n",
       "451                     23                      55         1.0   \n",
       "\n",
       "     caffeine_consumption  alcohol_consumption  exercise_frequency  month  \\\n",
       "0                0.000000                  0.0                 3.0      3   \n",
       "1                0.000000                  3.0                 3.0     12   \n",
       "2                0.000000                  0.0                 3.0      5   \n",
       "3               50.000000                  5.0                 1.0     11   \n",
       "4                0.000000                  3.0                 3.0      3   \n",
       "..                    ...                  ...                 ...    ...   \n",
       "447              0.000000                  0.0                 5.0     11   \n",
       "448             25.000000                  0.0                 3.0      3   \n",
       "449             23.653396                  3.0                 0.0      9   \n",
       "450              0.000000                  0.0                 3.0      7   \n",
       "451             50.000000                  0.0                 1.0      3   \n",
       "\n",
       "     gender_Male  smoking_status_Yes  bedtime_hours  wakeup_time_hours  \n",
       "0              0                   1            1.0                7.0  \n",
       "1              1                   1            2.0                9.0  \n",
       "2              0                   0           21.5                5.5  \n",
       "3              0                   1            2.5                8.5  \n",
       "4              1                   0            1.0                9.0  \n",
       "..           ...                 ...            ...                ...  \n",
       "447            0                   0           22.0                5.5  \n",
       "448            1                   0           21.0                3.0  \n",
       "449            0                   1           23.0                7.5  \n",
       "450            1                   0           21.0                4.0  \n",
       "451            1                   0            2.5               10.0  \n",
       "\n",
       "[452 rows x 16 columns]"
      ]
     },
     "execution_count": 37,
     "metadata": {},
     "output_type": "execute_result"
    }
   ],
   "source": [
    "# Converting the time into hours - integers for wakeuptime_time\n",
    "\n",
    "# Convert the time column to datetime data type\n",
    "sleepy_df['wakeup_time_time'] = pd.to_datetime(sleepy_df['wakeup_time_time'], format='%H:%M:%S')\n",
    "\n",
    "# Extract the hour, minute, and second components\n",
    "sleepy_df['hour'] = sleepy_df['wakeup_time_time'].dt.hour\n",
    "sleepy_df['minute'] = sleepy_df['wakeup_time_time'].dt.minute\n",
    "sleepy_df['second'] = sleepy_df['wakeup_time_time'].dt.second\n",
    "\n",
    "# Convert the time to hours as a float\n",
    "sleepy_df['wakeup_time_hours'] = (sleepy_df['hour'] + sleepy_df['minute'] / 60 + sleepy_df['second'] / 3600).round(2)\n",
    "\n",
    "sleepy_df = sleepy_df.drop(columns= ['hour','minute','second','wakeup_time_time'])\n",
    "sleepy_df"
   ]
  },
  {
   "cell_type": "markdown",
   "id": "b7e917c4",
   "metadata": {},
   "source": [
    "#### Visualization of dataset"
   ]
  },
  {
   "cell_type": "code",
   "execution_count": 43,
   "id": "e8e809b6",
   "metadata": {},
   "outputs": [
    {
     "data": {
      "text/plain": [
       "<AxesSubplot:>"
      ]
     },
     "execution_count": 43,
     "metadata": {},
     "output_type": "execute_result"
    },
    {
     "data": {
      "image/png": "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\n",
      "text/plain": [
       "<Figure size 1500x1000 with 2 Axes>"
      ]
     },
     "metadata": {},
     "output_type": "display_data"
    }
   ],
   "source": [
    "# Correlation Matrix\n",
    "heatmap = plt.figure(figsize=(15, 10))\n",
    "mask = np.triu(np.ones_like(sleepy_df.corr(), dtype=bool))\n",
    "sns.heatmap(sleepy_df.corr(), annot=True, mask=mask)\n",
    "\n",
    "# Notes:\n",
    "# "
   ]
  },
  {
   "cell_type": "code",
   "execution_count": 45,
   "id": "ac70eaac",
   "metadata": {},
   "outputs": [
    {
     "data": {
      "text/plain": [
       "array([[<AxesSubplot:title={'center':'id'}>,\n",
       "        <AxesSubplot:title={'center':'age'}>,\n",
       "        <AxesSubplot:title={'center':'sleep_duration'}>,\n",
       "        <AxesSubplot:title={'center':'sleep_efficiency'}>],\n",
       "       [<AxesSubplot:title={'center':'rem_sleep_percentage'}>,\n",
       "        <AxesSubplot:title={'center':'deep_sleep_percentage'}>,\n",
       "        <AxesSubplot:title={'center':'light_sleep_percentage'}>,\n",
       "        <AxesSubplot:title={'center':'awakenings'}>],\n",
       "       [<AxesSubplot:title={'center':'caffeine_consumption'}>,\n",
       "        <AxesSubplot:title={'center':'alcohol_consumption'}>,\n",
       "        <AxesSubplot:title={'center':'exercise_frequency'}>,\n",
       "        <AxesSubplot:title={'center':'month'}>],\n",
       "       [<AxesSubplot:title={'center':'gender_Male'}>,\n",
       "        <AxesSubplot:title={'center':'smoking_status_Yes'}>,\n",
       "        <AxesSubplot:title={'center':'bedtime_hours'}>,\n",
       "        <AxesSubplot:title={'center':'wakeup_time_hours'}>]], dtype=object)"
      ]
     },
     "execution_count": 45,
     "metadata": {},
     "output_type": "execute_result"
    },
    {
     "data": {
      "image/png": "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\n",
      "text/plain": [
       "<Figure size 1500x1000 with 16 Axes>"
      ]
     },
     "metadata": {},
     "output_type": "display_data"
    }
   ],
   "source": [
    "# Histograms for every Variable\n",
    "sleepy_df.hist(figsize=(15,10))"
   ]
  },
  {
   "cell_type": "markdown",
   "id": "d5b1d59c",
   "metadata": {},
   "source": [
    "## Modeling"
   ]
  },
  {
   "cell_type": "code",
   "execution_count": 35,
   "id": "d65398a8",
   "metadata": {},
   "outputs": [],
   "source": [
    "# Only working with numerical values?\n",
    "# TT_RATIO = 0.3 # test/train # RAND_STATE = 34 # for reproducible shuffling\n",
    "# Y/Y Split\n",
    "############# X = numerical.drop('total_claim_amount', axis=1)\n",
    "############# y = numerical.total_claim_amount\n",
    "# Train/ Test Split\n",
    "### from sklearn.model_selection import train_test_split\n",
    "### X_train, X_test, y_train, y_test = train_test_split(X, y, test_size=TT_RATIO, random_state=RAND_STATE)\n",
    "### X_train = pd.DataFrame(X_train)\n",
    "### X_test = pd.DataFrame(X_test)\n",
    "### X_train.head()\n",
    "\n",
    "## Scaling\n",
    "#StandardScaler\n",
    "#from sklearn.preprocessing import StandardScaler\n",
    "# Create an instance of the StandardScaler\n",
    "#scaler = StandardScaler()\n",
    "# Fit the scaler to the X_train\n",
    "#scaler.fit(X_train)\n",
    "\n",
    "## Transform X_train using the scaler\n",
    "#X_train_scaled = scaler.transform(X_train)\n",
    "#X_train_scaled\n",
    "\n",
    "# Transform X_test using the scaler\n",
    "#X_test_scaled = scaler.transform(X_test)\n",
    "#X_test_scaled\n",
    "\n",
    "# # Train model \n",
    "#from sklearn.linear_model import LinearRegression\n",
    "#model_lr = LinearRegression ()\n",
    "#model_lr.fit(X_train_scaled, y_train)\n",
    "#print(f'Coefficients: {model_lr.coef_}')\n",
    "#print(f'Intercept: {model_lr.intercept_}')\n",
    "\n"
   ]
  },
  {
   "cell_type": "code",
   "execution_count": 36,
   "id": "0f194d13",
   "metadata": {},
   "outputs": [
    {
     "ename": "NameError",
     "evalue": "name 'X_train_scaled' is not defined",
     "output_type": "error",
     "traceback": [
      "\u001b[0;31m---------------------------------------------------------------------------\u001b[0m",
      "\u001b[0;31mNameError\u001b[0m                                 Traceback (most recent call last)",
      "\u001b[0;32m/var/folders/1y/cx5kjkzn1c7f97jv38f_rcx40000gn/T/ipykernel_17156/3460990997.py\u001b[0m in \u001b[0;36m<module>\u001b[0;34m\u001b[0m\n\u001b[1;32m      1\u001b[0m \u001b[0;31m# OLS Table\u001b[0m\u001b[0;34m\u001b[0m\u001b[0;34m\u001b[0m\u001b[0m\n\u001b[1;32m      2\u001b[0m \u001b[0;32mimport\u001b[0m \u001b[0mstatsmodels\u001b[0m\u001b[0;34m.\u001b[0m\u001b[0mapi\u001b[0m \u001b[0;32mas\u001b[0m \u001b[0msm\u001b[0m\u001b[0;34m\u001b[0m\u001b[0;34m\u001b[0m\u001b[0m\n\u001b[0;32m----> 3\u001b[0;31m \u001b[0mX_train_const_scaled\u001b[0m \u001b[0;34m=\u001b[0m \u001b[0msm\u001b[0m\u001b[0;34m.\u001b[0m\u001b[0madd_constant\u001b[0m\u001b[0;34m(\u001b[0m\u001b[0mX_train_scaled\u001b[0m\u001b[0;34m)\u001b[0m \u001b[0;31m# adding a constant - Intercept # stats model = sm\u001b[0m\u001b[0;34m\u001b[0m\u001b[0;34m\u001b[0m\u001b[0m\n\u001b[0m\u001b[1;32m      4\u001b[0m \u001b[0;34m\u001b[0m\u001b[0m\n\u001b[1;32m      5\u001b[0m \u001b[0mmodel_OLS\u001b[0m \u001b[0;34m=\u001b[0m \u001b[0msm\u001b[0m\u001b[0;34m.\u001b[0m\u001b[0mOLS\u001b[0m\u001b[0;34m(\u001b[0m\u001b[0my_train\u001b[0m\u001b[0;34m,\u001b[0m \u001b[0mX_train_const_scaled\u001b[0m\u001b[0;34m)\u001b[0m\u001b[0;34m.\u001b[0m\u001b[0mfit\u001b[0m\u001b[0;34m(\u001b[0m\u001b[0;34m)\u001b[0m\u001b[0;34m\u001b[0m\u001b[0;34m\u001b[0m\u001b[0m\n",
      "\u001b[0;31mNameError\u001b[0m: name 'X_train_scaled' is not defined"
     ]
    }
   ],
   "source": [
    "\n",
    "# OLS Table\n",
    "import statsmodels.api as sm\n",
    "X_train_const_scaled = sm.add_constant(X_train_scaled) # adding a constant - Intercept # stats model = sm\n",
    "\n",
    "model_OLS = sm.OLS(y_train, X_train_const_scaled).fit() \n",
    "predictions_train = model_OLS.predict(X_train_const_scaled)\n",
    "\n",
    "X_test_const_scaled = sm.add_constant(X_test_scaled) # adding a constant\n",
    "predictions_test_OLS = model_OLS.predict(X_test_const_scaled)\n",
    "print_model_OLS = model_OLS.summary()\n",
    "print(print_model_OLS) #test predictions are more relevant than test"
   ]
  },
  {
>>>>>>> Stashed changes
   "cell_type": "code",
   "execution_count": null,
   "id": "a3b2f1ca",
   "metadata": {},
   "outputs": [],
   "source": [
    "# change data type\n",
    "\n",
    "#file2_df[['income', 'monthly_premium_auto', 'total_claim_amount']] = file2_df[['income', 'monthly_premium_auto', 'total_claim_amount']].astype(float)\n",
<<<<<<< Updated upstream
    "#file2_df.info()\n",
    "\n",
    "# To do: \n",
    "\n",
    "# Bins the time stamp and bed time\n",
    "## cars['bins'] = pd.cut(x= df.Year, bins =[ 1980, 1990, 2000, 2010, 2020])\n",
    "##years = cars.goupby('bins')['Year'].count()\n",
    "\n",
    "# Make dummys "
   ]
  },
  {
   "cell_type": "code",
   "execution_count": null,
   "id": "3135cee0",
   "metadata": {},
   "outputs": [],
   "source": [
    "# Let us calculate the mean of those columns where we find NaNs\n",
    "# Columns to work on: \n",
    "# Replace the nans with the mean\n",
    "#df.replace(np.nan, \"MEaaAN\", inplace = True)"
   ]
  },
  {
   "cell_type": "code",
   "execution_count": null,
   "id": "e9d0e53b",
   "metadata": {},
   "outputs": [],
   "source": [
    "# To do:\n",
    " # verify uniques in dummies\n",
    " # change categoricals to dummies\n",
    " # bins para wake up and bed time\n",
    " # change integers to floats"
=======
    "#file2_df.info()\n"
>>>>>>> Stashed changes
   ]
  }
 ],
 "metadata": {
  "kernelspec": {
   "display_name": "Python 3 (ipykernel)",
   "language": "python",
   "name": "python3"
  },
  "language_info": {
   "codemirror_mode": {
    "name": "ipython",
    "version": 3
   },
   "file_extension": ".py",
   "mimetype": "text/x-python",
   "name": "python",
   "nbconvert_exporter": "python",
   "pygments_lexer": "ipython3",
   "version": "3.9.13"
  }
 },
 "nbformat": 4,
 "nbformat_minor": 5
}
