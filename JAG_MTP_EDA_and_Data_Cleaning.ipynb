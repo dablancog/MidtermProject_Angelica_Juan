{
 "cells": [
  {
   "cell_type": "markdown",
   "id": "2a4b225b",
   "metadata": {},
   "source": [
    "# Sleep Efficiency Dataset\n",
    "\n",
    "## Day 1: EDA and Data Cleaning\n",
    "\n"
   ]
  },
  {
   "cell_type": "code",
   "execution_count": 52,
   "id": "806486bd",
   "metadata": {},
   "outputs": [],
   "source": [
    "# Loading packages that we need\n",
    "import numpy as np\n",
    "import pandas as pd\n",
    "import matplotlib.pyplot as plt\n",
    "import seaborn as sns\n",
    "%matplotlib inline\n",
    "from sklearn.preprocessing import PowerTransformer, StandardScaler, minmax_scale\n",
    "from sklearn.model_selection import train_test_split\n",
    "from sklearn.linear_model import LinearRegression\n",
    "import statsmodels.api as sm\n",
    "from sklearn.metrics import r2_score\n",
    "from sklearn.metrics import mean_squared_error as mse\n",
    "from sklearn.metrics import mean_absolute_error as mae"
   ]
  },
  {
   "cell_type": "markdown",
   "id": "ec63a4ec",
   "metadata": {},
   "source": [
    "### Loading & Analyzing the data"
   ]
  },
  {
   "cell_type": "code",
   "execution_count": 53,
   "id": "ec954418",
   "metadata": {},
   "outputs": [
    {
     "data": {
      "text/html": [
       "<div>\n",
       "<style scoped>\n",
       "    .dataframe tbody tr th:only-of-type {\n",
       "        vertical-align: middle;\n",
       "    }\n",
       "\n",
       "    .dataframe tbody tr th {\n",
       "        vertical-align: top;\n",
       "    }\n",
       "\n",
       "    .dataframe thead th {\n",
       "        text-align: right;\n",
       "    }\n",
       "</style>\n",
       "<table border=\"1\" class=\"dataframe\">\n",
       "  <thead>\n",
       "    <tr style=\"text-align: right;\">\n",
       "      <th></th>\n",
       "      <th>ID</th>\n",
       "      <th>Age</th>\n",
       "      <th>Gender</th>\n",
       "      <th>Bedtime</th>\n",
       "      <th>Wakeup time</th>\n",
       "      <th>Sleep duration</th>\n",
       "      <th>Sleep efficiency</th>\n",
       "      <th>REM sleep percentage</th>\n",
       "      <th>Deep sleep percentage</th>\n",
       "      <th>Light sleep percentage</th>\n",
       "      <th>Awakenings</th>\n",
       "      <th>Caffeine consumption</th>\n",
       "      <th>Alcohol consumption</th>\n",
       "      <th>Smoking status</th>\n",
       "      <th>Exercise frequency</th>\n",
       "    </tr>\n",
       "  </thead>\n",
       "  <tbody>\n",
       "    <tr>\n",
       "      <th>0</th>\n",
       "      <td>1</td>\n",
       "      <td>65</td>\n",
       "      <td>Female</td>\n",
       "      <td>2021-03-06 01:00:00</td>\n",
       "      <td>2021-03-06 07:00:00</td>\n",
       "      <td>6.0</td>\n",
       "      <td>0.88</td>\n",
       "      <td>18</td>\n",
       "      <td>70</td>\n",
       "      <td>12</td>\n",
       "      <td>0.0</td>\n",
       "      <td>0.0</td>\n",
       "      <td>0.0</td>\n",
       "      <td>Yes</td>\n",
       "      <td>3.0</td>\n",
       "    </tr>\n",
       "    <tr>\n",
       "      <th>1</th>\n",
       "      <td>2</td>\n",
       "      <td>69</td>\n",
       "      <td>Male</td>\n",
       "      <td>2021-12-05 02:00:00</td>\n",
       "      <td>2021-12-05 09:00:00</td>\n",
       "      <td>7.0</td>\n",
       "      <td>0.66</td>\n",
       "      <td>19</td>\n",
       "      <td>28</td>\n",
       "      <td>53</td>\n",
       "      <td>3.0</td>\n",
       "      <td>0.0</td>\n",
       "      <td>3.0</td>\n",
       "      <td>Yes</td>\n",
       "      <td>3.0</td>\n",
       "    </tr>\n",
       "    <tr>\n",
       "      <th>2</th>\n",
       "      <td>3</td>\n",
       "      <td>40</td>\n",
       "      <td>Female</td>\n",
       "      <td>2021-05-25 21:30:00</td>\n",
       "      <td>2021-05-25 05:30:00</td>\n",
       "      <td>8.0</td>\n",
       "      <td>0.89</td>\n",
       "      <td>20</td>\n",
       "      <td>70</td>\n",
       "      <td>10</td>\n",
       "      <td>1.0</td>\n",
       "      <td>0.0</td>\n",
       "      <td>0.0</td>\n",
       "      <td>No</td>\n",
       "      <td>3.0</td>\n",
       "    </tr>\n",
       "  </tbody>\n",
       "</table>\n",
       "</div>"
      ],
      "text/plain": [
       "   ID  Age  Gender              Bedtime          Wakeup time  Sleep duration  \\\n",
       "0   1   65  Female  2021-03-06 01:00:00  2021-03-06 07:00:00             6.0   \n",
       "1   2   69    Male  2021-12-05 02:00:00  2021-12-05 09:00:00             7.0   \n",
       "2   3   40  Female  2021-05-25 21:30:00  2021-05-25 05:30:00             8.0   \n",
       "\n",
       "   Sleep efficiency  REM sleep percentage  Deep sleep percentage  \\\n",
       "0              0.88                    18                     70   \n",
       "1              0.66                    19                     28   \n",
       "2              0.89                    20                     70   \n",
       "\n",
       "   Light sleep percentage  Awakenings  Caffeine consumption  \\\n",
       "0                      12         0.0                   0.0   \n",
       "1                      53         3.0                   0.0   \n",
       "2                      10         1.0                   0.0   \n",
       "\n",
       "   Alcohol consumption Smoking status  Exercise frequency  \n",
       "0                  0.0            Yes                 3.0  \n",
       "1                  3.0            Yes                 3.0  \n",
       "2                  0.0             No                 3.0  "
      ]
     },
     "execution_count": 53,
     "metadata": {},
     "output_type": "execute_result"
    }
   ],
   "source": [
    "# Loading data\n",
    "sleepy_df = pd.read_csv('Sleep_Efficiency.csv')\n",
    "sleepy_df.head(3)"
   ]
  },
  {
   "cell_type": "code",
   "execution_count": 54,
   "id": "792d1fab",
   "metadata": {},
   "outputs": [
    {
     "data": {
      "text/plain": [
       "Index(['ID', 'Age', 'Gender', 'Bedtime', 'Wakeup time', 'Sleep duration',\n",
       "       'Sleep efficiency', 'REM sleep percentage', 'Deep sleep percentage',\n",
       "       'Light sleep percentage', 'Awakenings', 'Caffeine consumption',\n",
       "       'Alcohol consumption', 'Smoking status', 'Exercise frequency'],\n",
       "      dtype='object')"
      ]
     },
     "execution_count": 54,
     "metadata": {},
     "output_type": "execute_result"
    }
   ],
   "source": [
    "# Analyzing the columns\n",
    "sleepy_df.columns.unique()"
   ]
  },
  {
   "cell_type": "code",
   "execution_count": 55,
   "id": "fb6cb272",
   "metadata": {
    "scrolled": true
   },
   "outputs": [
    {
     "name": "stdout",
     "output_type": "stream",
     "text": [
      "<class 'pandas.core.frame.DataFrame'>\n",
      "RangeIndex: 452 entries, 0 to 451\n",
      "Data columns (total 15 columns):\n",
      " #   Column                  Non-Null Count  Dtype  \n",
      "---  ------                  --------------  -----  \n",
      " 0   ID                      452 non-null    int64  \n",
      " 1   Age                     452 non-null    int64  \n",
      " 2   Gender                  452 non-null    object \n",
      " 3   Bedtime                 452 non-null    object \n",
      " 4   Wakeup time             452 non-null    object \n",
      " 5   Sleep duration          452 non-null    float64\n",
      " 6   Sleep efficiency        452 non-null    float64\n",
      " 7   REM sleep percentage    452 non-null    int64  \n",
      " 8   Deep sleep percentage   452 non-null    int64  \n",
      " 9   Light sleep percentage  452 non-null    int64  \n",
      " 10  Awakenings              432 non-null    float64\n",
      " 11  Caffeine consumption    427 non-null    float64\n",
      " 12  Alcohol consumption     438 non-null    float64\n",
      " 13  Smoking status          452 non-null    object \n",
      " 14  Exercise frequency      446 non-null    float64\n",
      "dtypes: float64(6), int64(5), object(4)\n",
      "memory usage: 53.1+ KB\n"
     ]
    }
   ],
   "source": [
    "# Analyzing the data type and number of NaNs\n",
    "sleepy_df.info()"
   ]
  },
  {
   "cell_type": "code",
   "execution_count": 56,
   "id": "853311e7",
   "metadata": {},
   "outputs": [
    {
     "name": "stdout",
     "output_type": "stream",
     "text": [
      "ID                         0\n",
      "Age                        0\n",
      "Gender                     0\n",
      "Bedtime                    0\n",
      "Wakeup time                0\n",
      "Sleep duration             0\n",
      "Sleep efficiency           0\n",
      "REM sleep percentage       0\n",
      "Deep sleep percentage      0\n",
      "Light sleep percentage     0\n",
      "Awakenings                20\n",
      "Caffeine consumption      25\n",
      "Alcohol consumption       14\n",
      "Smoking status             0\n",
      "Exercise frequency         6\n",
      "dtype: int64\n"
     ]
    }
   ],
   "source": [
    "nancount = sleepy_df.isna().sum()\n",
    "print(nancount)"
   ]
  },
  {
   "cell_type": "code",
   "execution_count": 57,
   "id": "197aa4c2",
   "metadata": {},
   "outputs": [
    {
     "name": "stdout",
     "output_type": "stream",
     "text": [
      "0\n"
     ]
    }
   ],
   "source": [
    "# How many duplicates are present\n",
    "print(sleepy_df.duplicated().sum())"
   ]
  },
  {
   "cell_type": "markdown",
   "id": "84e68412",
   "metadata": {},
   "source": [
    "### Uniforming the columns"
   ]
  },
  {
   "cell_type": "code",
   "execution_count": 58,
   "id": "251ea217",
   "metadata": {},
   "outputs": [],
   "source": [
    "#Lower case all the columns\n",
    "def lower_case_column_names():\n",
    "    sleepy_df.columns=[i.lower() for i in sleepy_df.columns]\n",
    "    return sleepy_df"
   ]
  },
  {
   "cell_type": "code",
   "execution_count": 59,
   "id": "9700dfcc",
   "metadata": {},
   "outputs": [],
   "source": [
    "sleepy_df = lower_case_column_names()"
   ]
  },
  {
   "cell_type": "code",
   "execution_count": 60,
   "id": "f95d53ef",
   "metadata": {},
   "outputs": [
    {
     "data": {
      "text/html": [
       "<div>\n",
       "<style scoped>\n",
       "    .dataframe tbody tr th:only-of-type {\n",
       "        vertical-align: middle;\n",
       "    }\n",
       "\n",
       "    .dataframe tbody tr th {\n",
       "        vertical-align: top;\n",
       "    }\n",
       "\n",
       "    .dataframe thead th {\n",
       "        text-align: right;\n",
       "    }\n",
       "</style>\n",
       "<table border=\"1\" class=\"dataframe\">\n",
       "  <thead>\n",
       "    <tr style=\"text-align: right;\">\n",
       "      <th></th>\n",
       "      <th>id</th>\n",
       "      <th>age</th>\n",
       "      <th>gender</th>\n",
       "      <th>bedtime</th>\n",
       "      <th>wakeup_time</th>\n",
       "      <th>sleep_duration</th>\n",
       "      <th>sleep_efficiency</th>\n",
       "      <th>rem_sleep_percentage</th>\n",
       "      <th>deep_sleep_percentage</th>\n",
       "      <th>light_sleep_percentage</th>\n",
       "      <th>awakenings</th>\n",
       "      <th>caffeine_consumption</th>\n",
       "      <th>alcohol_consumption</th>\n",
       "      <th>smoking_status</th>\n",
       "      <th>exercise_frequency</th>\n",
       "    </tr>\n",
       "  </thead>\n",
       "  <tbody>\n",
       "    <tr>\n",
       "      <th>0</th>\n",
       "      <td>1</td>\n",
       "      <td>65</td>\n",
       "      <td>Female</td>\n",
       "      <td>2021-03-06 01:00:00</td>\n",
       "      <td>2021-03-06 07:00:00</td>\n",
       "      <td>6.0</td>\n",
       "      <td>0.88</td>\n",
       "      <td>18</td>\n",
       "      <td>70</td>\n",
       "      <td>12</td>\n",
       "      <td>0.0</td>\n",
       "      <td>0.0</td>\n",
       "      <td>0.0</td>\n",
       "      <td>Yes</td>\n",
       "      <td>3.0</td>\n",
       "    </tr>\n",
       "    <tr>\n",
       "      <th>1</th>\n",
       "      <td>2</td>\n",
       "      <td>69</td>\n",
       "      <td>Male</td>\n",
       "      <td>2021-12-05 02:00:00</td>\n",
       "      <td>2021-12-05 09:00:00</td>\n",
       "      <td>7.0</td>\n",
       "      <td>0.66</td>\n",
       "      <td>19</td>\n",
       "      <td>28</td>\n",
       "      <td>53</td>\n",
       "      <td>3.0</td>\n",
       "      <td>0.0</td>\n",
       "      <td>3.0</td>\n",
       "      <td>Yes</td>\n",
       "      <td>3.0</td>\n",
       "    </tr>\n",
       "    <tr>\n",
       "      <th>2</th>\n",
       "      <td>3</td>\n",
       "      <td>40</td>\n",
       "      <td>Female</td>\n",
       "      <td>2021-05-25 21:30:00</td>\n",
       "      <td>2021-05-25 05:30:00</td>\n",
       "      <td>8.0</td>\n",
       "      <td>0.89</td>\n",
       "      <td>20</td>\n",
       "      <td>70</td>\n",
       "      <td>10</td>\n",
       "      <td>1.0</td>\n",
       "      <td>0.0</td>\n",
       "      <td>0.0</td>\n",
       "      <td>No</td>\n",
       "      <td>3.0</td>\n",
       "    </tr>\n",
       "  </tbody>\n",
       "</table>\n",
       "</div>"
      ],
      "text/plain": [
       "   id  age  gender              bedtime          wakeup_time  sleep_duration  \\\n",
       "0   1   65  Female  2021-03-06 01:00:00  2021-03-06 07:00:00             6.0   \n",
       "1   2   69    Male  2021-12-05 02:00:00  2021-12-05 09:00:00             7.0   \n",
       "2   3   40  Female  2021-05-25 21:30:00  2021-05-25 05:30:00             8.0   \n",
       "\n",
       "   sleep_efficiency  rem_sleep_percentage  deep_sleep_percentage  \\\n",
       "0              0.88                    18                     70   \n",
       "1              0.66                    19                     28   \n",
       "2              0.89                    20                     70   \n",
       "\n",
       "   light_sleep_percentage  awakenings  caffeine_consumption  \\\n",
       "0                      12         0.0                   0.0   \n",
       "1                      53         3.0                   0.0   \n",
       "2                      10         1.0                   0.0   \n",
       "\n",
       "   alcohol_consumption smoking_status  exercise_frequency  \n",
       "0                  0.0            Yes                 3.0  \n",
       "1                  3.0            Yes                 3.0  \n",
       "2                  0.0             No                 3.0  "
      ]
     },
     "execution_count": 60,
     "metadata": {},
     "output_type": "execute_result"
    }
   ],
   "source": [
    "# Renaming the columns with underscores \n",
    "def rename_columns(sleepy_df):\n",
    "    sleepy_df.rename(columns={'wakeup time':'wakeup_time', 'sleep duration':'sleep_duration',\n",
    "                              'sleep efficiency':'sleep_efficiency', 'rem sleep percentage':'rem_sleep_percentage',\n",
    "                             'deep sleep percentage':'deep_sleep_percentage','light sleep percentage':'light_sleep_percentage',\n",
    "                             'caffeine consumption':'caffeine_consumption', 'alcohol consumption':'alcohol_consumption',\n",
    "                             'smoking status':'smoking_status','exercise frequency':'exercise_frequency'}, inplace=True )\n",
    "    return sleepy_df\n",
    "sleepy_df=rename_columns(sleepy_df)\n",
    "\n",
    "sleepy_df.head(3)"
   ]
  },
  {
   "cell_type": "code",
   "execution_count": 61,
   "id": "b8eb0779",
   "metadata": {},
   "outputs": [
    {
     "data": {
      "text/plain": [
       "array(['Female', 'Male'], dtype=object)"
      ]
     },
     "execution_count": 61,
     "metadata": {},
     "output_type": "execute_result"
    }
   ],
   "source": [
    "# Checking for typos in text columns\n",
    "sleepy_df['gender'].unique()"
   ]
  },
  {
   "cell_type": "code",
   "execution_count": 62,
   "id": "618cc264",
   "metadata": {},
   "outputs": [
    {
     "data": {
      "text/plain": [
       "array(['Yes', 'No'], dtype=object)"
      ]
     },
     "execution_count": 62,
     "metadata": {},
     "output_type": "execute_result"
    }
   ],
   "source": [
    "sleepy_df['smoking_status'].unique()"
   ]
  },
  {
   "cell_type": "code",
   "execution_count": 63,
   "id": "d0e462a5",
   "metadata": {},
   "outputs": [],
   "source": [
    "# Calculating the mean of every column, which contains NaNs. \n",
    "# These values will be later used for substituting the NaNs with the respective mean of the respective column\n",
    "\n",
    "def mean_without_nans(sleepy_df, column_name):\n",
    "\n",
    "# Get the column as a pandas Series\n",
    "    column = sleepy_df[column_name]\n",
    "    \n",
    "# Initialize a sum (=total) and a count\n",
    "    total = 0\n",
    "    count = 0\n",
    "    \n",
    "# Loop over the values in the column\n",
    "    for value in column.values:\n",
    "        if pd.notnull(value):\n",
    "            total += value\n",
    "            count += 1\n",
    "    \n",
    "# Return the mean of the non-NaN values\n",
    "    return total / count if count != 0 else float(\"nan\")\n"
   ]
  },
  {
   "cell_type": "code",
   "execution_count": 86,
   "id": "b7caf340",
   "metadata": {},
   "outputs": [
    {
     "name": "stdout",
     "output_type": "stream",
     "text": [
      "mean_awakenings:  1.6412037037037033 mean_caffeine_consumption:  23.653395784543328 mean_alcohol_consumption:  1.1735159817351595 mean_exercise_frequency:  1.7914798206278029\n"
     ]
    }
   ],
   "source": [
    "# Call the mean_without_nans function on column with nans\n",
    "mean_awakenings = mean_without_nans(sleepy_df, 'awakenings')\n",
    "mean_caffeine_consumption = mean_without_nans(sleepy_df, 'caffeine_consumption')\n",
    "mean_alcohol_consumption = mean_without_nans(sleepy_df, 'alcohol_consumption')\n",
    "mean_exercise_frequency = mean_without_nans(sleepy_df, 'exercise_frequency')\n",
    "print ('mean_awakenings: ', mean_awakenings, \\\n",
    "      'mean_caffeine_consumption: ', mean_caffeine_consumption, \\\n",
    "      'mean_alcohol_consumption: ', mean_alcohol_consumption, \\\n",
    "      'mean_exercise_frequency: ', mean_exercise_frequency)"
   ]
  },
  {
   "cell_type": "code",
   "execution_count": 76,
   "id": "e1bacd6c",
   "metadata": {},
   "outputs": [],
   "source": [
    "# Fill nans with the mean. We asume the person consumes an average amount of coffe & alcohol, plus they have \n",
    "# an average amount of sport-time and awakenings during the night.\n",
    "\n",
    "sleepy_df['awakenings'] = sleepy_df[['awakenings']].fillna(mean_awakenings) #imputation "
   ]
  },
  {
   "cell_type": "code",
   "execution_count": 77,
   "id": "af95be7b",
   "metadata": {
    "collapsed": true
   },
   "outputs": [
    {
     "data": {
      "text/plain": [
       "array([0.       , 3.       , 1.       , 2.       , 4.       , 1.6412037])"
      ]
     },
     "execution_count": 77,
     "metadata": {},
     "output_type": "execute_result"
    }
   ],
   "source": [
    "# Controling if the values are being replaced\n",
    "sleepy_df['awakenings'].unique()"
   ]
  },
  {
   "cell_type": "code",
   "execution_count": 78,
   "id": "7bd7c68c",
   "metadata": {},
   "outputs": [],
   "source": [
    "sleepy_df['caffeine_consumption'] = sleepy_df[['caffeine_consumption']].fillna(mean_caffeine_consumption)"
   ]
  },
  {
   "cell_type": "code",
   "execution_count": 79,
   "id": "fc3232ae",
   "metadata": {
    "collapsed": true
   },
   "outputs": [
    {
     "data": {
      "text/plain": [
       "array([  0.        ,  50.        ,  23.65339578,  25.        ,\n",
       "        75.        , 200.        , 100.        ])"
      ]
     },
     "execution_count": 79,
     "metadata": {},
     "output_type": "execute_result"
    }
   ],
   "source": [
    "sleepy_df['caffeine_consumption'].unique()"
   ]
  },
  {
   "cell_type": "code",
   "execution_count": 80,
   "id": "be29da8e",
   "metadata": {},
   "outputs": [],
   "source": [
    "sleepy_df['alcohol_consumption'] = sleepy_df[['alcohol_consumption']].fillna(mean_alcohol_consumption)"
   ]
  },
  {
   "cell_type": "code",
   "execution_count": 82,
   "id": "a6619269",
   "metadata": {
    "collapsed": true
   },
   "outputs": [
    {
     "data": {
      "text/plain": [
       "array([0.        , 3.        , 5.        , 1.        , 2.        ,\n",
       "       1.17351598, 4.        ])"
      ]
     },
     "execution_count": 82,
     "metadata": {},
     "output_type": "execute_result"
    }
   ],
   "source": [
    "sleepy_df['alcohol_consumption'].unique()"
   ]
  },
  {
   "cell_type": "code",
   "execution_count": 83,
   "id": "ed9cd950",
   "metadata": {},
   "outputs": [],
   "source": [
    "sleepy_df['exercise_frequency'] = sleepy_df[['exercise_frequency']].fillna(mean_exercise_frequency)"
   ]
  },
  {
   "cell_type": "code",
   "execution_count": 84,
   "id": "578b3302",
   "metadata": {
    "collapsed": true
   },
   "outputs": [
    {
     "data": {
      "text/plain": [
       "array([3.        , 1.        , 0.        , 5.        , 2.        ,\n",
       "       4.        , 1.79147982])"
      ]
     },
     "execution_count": 84,
     "metadata": {},
     "output_type": "execute_result"
    }
   ],
   "source": [
    "sleepy_df['exercise_frequency'].unique()"
   ]
  },
  {
   "cell_type": "code",
   "execution_count": null,
   "id": "a3b2f1ca",
   "metadata": {},
   "outputs": [],
   "source": [
    "# change data type\n",
    "\n",
    "#file2_df[['income', 'monthly_premium_auto', 'total_claim_amount']] = file2_df[['income', 'monthly_premium_auto', 'total_claim_amount']].astype(float)\n",
    "#file2_df.info()\n",
    "\n",
    "# To do: \n",
    "\n",
    "# Bins the time stamp and bed time\n",
    "## cars['bins'] = pd.cut(x= df.Year, bins =[ 1980, 1990, 2000, 2010, 2020])\n",
    "##years = cars.goupby('bins')['Year'].count()\n",
    "\n",
    "# Make dummys "
   ]
  },
  {
   "cell_type": "code",
   "execution_count": null,
   "id": "3135cee0",
   "metadata": {},
   "outputs": [],
   "source": [
    "# Let us calculate the mean of those columns where we find NaNs\n",
    "# Columns to work on: \n",
    "# Replace the nans with the mean\n",
    "#df.replace(np.nan, \"MEaaAN\", inplace = True)"
   ]
  },
  {
   "cell_type": "code",
   "execution_count": null,
   "id": "e9d0e53b",
   "metadata": {},
   "outputs": [],
   "source": [
    "# To do:\n",
    " # verify uniques in dummies\n",
    " # change categoricals to dummies\n",
    " # bins para wake up and bed time\n",
    " # change integers to floats"
   ]
  }
 ],
 "metadata": {
  "kernelspec": {
   "display_name": "Python 3 (ipykernel)",
   "language": "python",
   "name": "python3"
  },
  "language_info": {
   "codemirror_mode": {
    "name": "ipython",
    "version": 3
   },
   "file_extension": ".py",
   "mimetype": "text/x-python",
   "name": "python",
   "nbconvert_exporter": "python",
   "pygments_lexer": "ipython3",
   "version": "3.9.13"
  }
 },
 "nbformat": 4,
 "nbformat_minor": 5
}
